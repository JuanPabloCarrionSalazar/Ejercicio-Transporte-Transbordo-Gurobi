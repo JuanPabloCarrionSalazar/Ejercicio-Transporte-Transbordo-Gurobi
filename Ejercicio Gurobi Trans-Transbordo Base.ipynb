{
 "cells": [
  {
   "cell_type": "markdown",
   "source": [
    " #  <font color=blue> Verano Feliz en Europa. </font>\r\n",
    "\r\n",
    "<div class=\"alert alert-info\"> </h4> **Material preparado para la carrera de Ingeniería Civil Industrial | Universidad Católica del Norte | Escuela de Ingeniería - Campus Coquimbo | Curso - Cadena de Suministros.**\r\n",
    "</h4> </div>\r\n",
    "Verano-Feliz ha tenido un gran éxito con su modelo de negocio en la industria de los trajes de baños, por lo cual está expandiendo sus operaciones a un nuevo mercado, La Unión Europea. Con el fin de poder implementa su estrategia de manera exitosa, actualmente está diseñando su cadena de suministros para el mercado de Europa.\r\n",
    "Verano-Feliz está planeando abrir nuevas fábricas en Chile, donde manufacturará los trajes de baños y desde ahí los enviará a las ciudades más importantes de Europa, donde los comercializará en malls y tiendas especializadas.\r\n",
    "Las ciudades donde está planificando abrir fabricas son: La Serena, Coquimbo, Antofagasta, Vallenar y Copiapó. Cada Fabrica tiene costos de fijo de abrir, costo de manufactura por producto y capacidades específicas.\r\n",
    "Mientras que en Europa algunas ciudades pueden ser centros de distribución, mientras que otras solo serán puntos de ventas que deberán ser abastecidas desde los DC. Los centros de distribución tienen un costo fijo de administración, un costo variable por mover productos en las instalaciones y una capacidad especifica.\r\n",
    "Importante notar que el costo de transporte de Chile a Europa no depende de la distancia solamente de las unidades. Mientras que el costo de transporte dentro de Europa depende de las unidades y de la distancia que se deba recorrer.\r\n",
    "La información asociada a las Fábricas, Centros de Distribución y Ciudades está disponible en el archivo Excel adjunto.\r\n",
    "\r\n",
    "\r\n"
   ],
   "metadata": {}
  },
  {
   "cell_type": "markdown",
   "source": [
    "## Librerias"
   ],
   "metadata": {}
  },
  {
   "cell_type": "code",
   "execution_count": 1,
   "source": [
    "import numpy as np\r\n",
    "import pandas as pd\r\n",
    "import folium\r\n",
    "from folium import features\r\n",
    "from gurobipy import *"
   ],
   "outputs": [],
   "metadata": {}
  },
  {
   "cell_type": "markdown",
   "source": [
    "## Datos"
   ],
   "metadata": {}
  },
  {
   "cell_type": "code",
   "execution_count": 2,
   "source": [
    "excel=pd.ExcelFile('Verno Feliz en Europa-Coord.xlsx')\r\n",
    "df=pd.read_excel(excel,'Sheet1',index_col=0)#Clientes Europa\r\n",
    "df2=pd.read_excel(excel,'Sheet2',index_col=0)#Centros Distribución\r\n",
    "df3=pd.read_excel(excel,'Sheet3',index_col=0)#Distancias Centro Distribución a Cliente\r\n",
    "df4=pd.read_excel(excel,'Sheet4',index_col=0)#Fabricas Chile"
   ],
   "outputs": [],
   "metadata": {}
  },
  {
   "cell_type": "code",
   "execution_count": 3,
   "source": [
    "df"
   ],
   "outputs": [
    {
     "output_type": "execute_result",
     "data": {
      "text/plain": [
       "                       Pais  Demanda [unidades]  Demanda [Millones]  \\\n",
       "Ciudad                                                                \n",
       "Madrid               España                 121               6.550   \n",
       "Paris               Francia                 240               2.140   \n",
       "Londres         Reino Unido                 250               8.900   \n",
       "Liverpool       Reino Unido                 121               0.552   \n",
       "Roma                 Italia                 159               2.870   \n",
       "Milan                Italia                 198               1.350   \n",
       "Zurich                Suiza                 282               0.402   \n",
       "Berlin             Alemania                 211               3.750   \n",
       "Bruselas            Bélgica                 224               0.174   \n",
       "Amsterdam          Hollanda                 259               0.821   \n",
       "Dublin              Irlanda                 102               1.360   \n",
       "Praga       República Checa                 120               1.309   \n",
       "Bratislava       Eslovaquia                 135               0.424   \n",
       "Budapest            Hungría                 122               1.750   \n",
       "Atenas               Grecia                 180               0.664   \n",
       "Varsovia            Polonia                 175               1.708   \n",
       "\n",
       "            Costo Fijo [$]  Costo Variable [ $/ productos]  \\\n",
       "Ciudad                                                       \n",
       "Madrid               25472                               4   \n",
       "Paris                48005                               2   \n",
       "Londres              54705                               5   \n",
       "Liverpool            45563                               4   \n",
       "Roma                 33375                               4   \n",
       "Milan                48274                               5   \n",
       "Zurich               21148                               6   \n",
       "Berlin               54988                               4   \n",
       "Bruselas             54231                               6   \n",
       "Amsterdam            38114                               3   \n",
       "Dublin               46239                               1   \n",
       "Praga                30391                               3   \n",
       "Bratislava           45986                               4   \n",
       "Budapest             59699                               3   \n",
       "Atenas               26386                               2   \n",
       "Varsovia             54468                               1   \n",
       "\n",
       "            Capacidad [unidades]        lat        lon  \n",
       "Ciudad                                                  \n",
       "Madrid                       750  40.416775  -3.703790  \n",
       "Paris                        800  48.856614   2.352222  \n",
       "Londres                      500  51.507351  -0.127758  \n",
       "Liverpool                    750  53.408371  -2.991573  \n",
       "Roma                         250  41.902783  12.496365  \n",
       "Milan                        300  45.464204   9.189982  \n",
       "Zurich                       150  47.376887   8.541694  \n",
       "Berlin                       700  52.520007  13.404954  \n",
       "Bruselas                     500  50.850340   4.351710  \n",
       "Amsterdam                    800  52.366697   4.894540  \n",
       "Dublin                       500  53.349805  -6.260310  \n",
       "Praga                        600  50.075538  14.437800  \n",
       "Bratislava                   600  48.148596  17.107748  \n",
       "Budapest                     500  47.497912  19.040235  \n",
       "Atenas                       600  37.983810  23.727539  \n",
       "Varsovia                     500  52.229676  21.012229  "
      ],
      "text/html": [
       "<div>\n",
       "<style scoped>\n",
       "    .dataframe tbody tr th:only-of-type {\n",
       "        vertical-align: middle;\n",
       "    }\n",
       "\n",
       "    .dataframe tbody tr th {\n",
       "        vertical-align: top;\n",
       "    }\n",
       "\n",
       "    .dataframe thead th {\n",
       "        text-align: right;\n",
       "    }\n",
       "</style>\n",
       "<table border=\"1\" class=\"dataframe\">\n",
       "  <thead>\n",
       "    <tr style=\"text-align: right;\">\n",
       "      <th></th>\n",
       "      <th>Pais</th>\n",
       "      <th>Demanda [unidades]</th>\n",
       "      <th>Demanda [Millones]</th>\n",
       "      <th>Costo Fijo [$]</th>\n",
       "      <th>Costo Variable [ $/ productos]</th>\n",
       "      <th>Capacidad [unidades]</th>\n",
       "      <th>lat</th>\n",
       "      <th>lon</th>\n",
       "    </tr>\n",
       "    <tr>\n",
       "      <th>Ciudad</th>\n",
       "      <th></th>\n",
       "      <th></th>\n",
       "      <th></th>\n",
       "      <th></th>\n",
       "      <th></th>\n",
       "      <th></th>\n",
       "      <th></th>\n",
       "      <th></th>\n",
       "    </tr>\n",
       "  </thead>\n",
       "  <tbody>\n",
       "    <tr>\n",
       "      <th>Madrid</th>\n",
       "      <td>España</td>\n",
       "      <td>121</td>\n",
       "      <td>6.550</td>\n",
       "      <td>25472</td>\n",
       "      <td>4</td>\n",
       "      <td>750</td>\n",
       "      <td>40.416775</td>\n",
       "      <td>-3.703790</td>\n",
       "    </tr>\n",
       "    <tr>\n",
       "      <th>Paris</th>\n",
       "      <td>Francia</td>\n",
       "      <td>240</td>\n",
       "      <td>2.140</td>\n",
       "      <td>48005</td>\n",
       "      <td>2</td>\n",
       "      <td>800</td>\n",
       "      <td>48.856614</td>\n",
       "      <td>2.352222</td>\n",
       "    </tr>\n",
       "    <tr>\n",
       "      <th>Londres</th>\n",
       "      <td>Reino Unido</td>\n",
       "      <td>250</td>\n",
       "      <td>8.900</td>\n",
       "      <td>54705</td>\n",
       "      <td>5</td>\n",
       "      <td>500</td>\n",
       "      <td>51.507351</td>\n",
       "      <td>-0.127758</td>\n",
       "    </tr>\n",
       "    <tr>\n",
       "      <th>Liverpool</th>\n",
       "      <td>Reino Unido</td>\n",
       "      <td>121</td>\n",
       "      <td>0.552</td>\n",
       "      <td>45563</td>\n",
       "      <td>4</td>\n",
       "      <td>750</td>\n",
       "      <td>53.408371</td>\n",
       "      <td>-2.991573</td>\n",
       "    </tr>\n",
       "    <tr>\n",
       "      <th>Roma</th>\n",
       "      <td>Italia</td>\n",
       "      <td>159</td>\n",
       "      <td>2.870</td>\n",
       "      <td>33375</td>\n",
       "      <td>4</td>\n",
       "      <td>250</td>\n",
       "      <td>41.902783</td>\n",
       "      <td>12.496365</td>\n",
       "    </tr>\n",
       "    <tr>\n",
       "      <th>Milan</th>\n",
       "      <td>Italia</td>\n",
       "      <td>198</td>\n",
       "      <td>1.350</td>\n",
       "      <td>48274</td>\n",
       "      <td>5</td>\n",
       "      <td>300</td>\n",
       "      <td>45.464204</td>\n",
       "      <td>9.189982</td>\n",
       "    </tr>\n",
       "    <tr>\n",
       "      <th>Zurich</th>\n",
       "      <td>Suiza</td>\n",
       "      <td>282</td>\n",
       "      <td>0.402</td>\n",
       "      <td>21148</td>\n",
       "      <td>6</td>\n",
       "      <td>150</td>\n",
       "      <td>47.376887</td>\n",
       "      <td>8.541694</td>\n",
       "    </tr>\n",
       "    <tr>\n",
       "      <th>Berlin</th>\n",
       "      <td>Alemania</td>\n",
       "      <td>211</td>\n",
       "      <td>3.750</td>\n",
       "      <td>54988</td>\n",
       "      <td>4</td>\n",
       "      <td>700</td>\n",
       "      <td>52.520007</td>\n",
       "      <td>13.404954</td>\n",
       "    </tr>\n",
       "    <tr>\n",
       "      <th>Bruselas</th>\n",
       "      <td>Bélgica</td>\n",
       "      <td>224</td>\n",
       "      <td>0.174</td>\n",
       "      <td>54231</td>\n",
       "      <td>6</td>\n",
       "      <td>500</td>\n",
       "      <td>50.850340</td>\n",
       "      <td>4.351710</td>\n",
       "    </tr>\n",
       "    <tr>\n",
       "      <th>Amsterdam</th>\n",
       "      <td>Hollanda</td>\n",
       "      <td>259</td>\n",
       "      <td>0.821</td>\n",
       "      <td>38114</td>\n",
       "      <td>3</td>\n",
       "      <td>800</td>\n",
       "      <td>52.366697</td>\n",
       "      <td>4.894540</td>\n",
       "    </tr>\n",
       "    <tr>\n",
       "      <th>Dublin</th>\n",
       "      <td>Irlanda</td>\n",
       "      <td>102</td>\n",
       "      <td>1.360</td>\n",
       "      <td>46239</td>\n",
       "      <td>1</td>\n",
       "      <td>500</td>\n",
       "      <td>53.349805</td>\n",
       "      <td>-6.260310</td>\n",
       "    </tr>\n",
       "    <tr>\n",
       "      <th>Praga</th>\n",
       "      <td>República Checa</td>\n",
       "      <td>120</td>\n",
       "      <td>1.309</td>\n",
       "      <td>30391</td>\n",
       "      <td>3</td>\n",
       "      <td>600</td>\n",
       "      <td>50.075538</td>\n",
       "      <td>14.437800</td>\n",
       "    </tr>\n",
       "    <tr>\n",
       "      <th>Bratislava</th>\n",
       "      <td>Eslovaquia</td>\n",
       "      <td>135</td>\n",
       "      <td>0.424</td>\n",
       "      <td>45986</td>\n",
       "      <td>4</td>\n",
       "      <td>600</td>\n",
       "      <td>48.148596</td>\n",
       "      <td>17.107748</td>\n",
       "    </tr>\n",
       "    <tr>\n",
       "      <th>Budapest</th>\n",
       "      <td>Hungría</td>\n",
       "      <td>122</td>\n",
       "      <td>1.750</td>\n",
       "      <td>59699</td>\n",
       "      <td>3</td>\n",
       "      <td>500</td>\n",
       "      <td>47.497912</td>\n",
       "      <td>19.040235</td>\n",
       "    </tr>\n",
       "    <tr>\n",
       "      <th>Atenas</th>\n",
       "      <td>Grecia</td>\n",
       "      <td>180</td>\n",
       "      <td>0.664</td>\n",
       "      <td>26386</td>\n",
       "      <td>2</td>\n",
       "      <td>600</td>\n",
       "      <td>37.983810</td>\n",
       "      <td>23.727539</td>\n",
       "    </tr>\n",
       "    <tr>\n",
       "      <th>Varsovia</th>\n",
       "      <td>Polonia</td>\n",
       "      <td>175</td>\n",
       "      <td>1.708</td>\n",
       "      <td>54468</td>\n",
       "      <td>1</td>\n",
       "      <td>500</td>\n",
       "      <td>52.229676</td>\n",
       "      <td>21.012229</td>\n",
       "    </tr>\n",
       "  </tbody>\n",
       "</table>\n",
       "</div>"
      ]
     },
     "metadata": {},
     "execution_count": 3
    }
   ],
   "metadata": {}
  },
  {
   "cell_type": "code",
   "execution_count": 4,
   "source": [
    "df2"
   ],
   "outputs": [
    {
     "output_type": "execute_result",
     "data": {
      "text/plain": [
       "                  Pais  Demanda [unidades]  Población [Millones]  \\\n",
       "Ciudad                                                             \n",
       "Madrid          España                 121                 6.550   \n",
       "Paris          Francia                 240                 2.140   \n",
       "Liverpool  Reino Unido                 121                 0.552   \n",
       "Milan           Italia                 198                 1.350   \n",
       "Berlin        Alemania                 211                 3.750   \n",
       "Bruselas       Bélgica                 224                 0.174   \n",
       "Amsterdam     Hollanda                 259                 0.821   \n",
       "Budapest       Hungría                 122                 1.750   \n",
       "Varsovia       Polonia                 175                 1.708   \n",
       "\n",
       "           Costo Fijo [$]  Costo Variable [ $/ productos]  \\\n",
       "Ciudad                                                      \n",
       "Madrid              25472                               4   \n",
       "Paris               48005                               2   \n",
       "Liverpool           45563                               4   \n",
       "Milan               48274                               5   \n",
       "Berlin              54988                               4   \n",
       "Bruselas            54231                               6   \n",
       "Amsterdam           38114                               3   \n",
       "Budapest            59699                               3   \n",
       "Varsovia            54468                               1   \n",
       "\n",
       "           Capacidad [unidades]        lat        lon  \n",
       "Ciudad                                                 \n",
       "Madrid                      750  40.416775  -3.703790  \n",
       "Paris                       800  48.856614   2.352222  \n",
       "Liverpool                   750  53.408371  -2.991573  \n",
       "Milan                       300  45.464204   9.189982  \n",
       "Berlin                      700  52.520007  13.404954  \n",
       "Bruselas                    500  50.850340   4.351710  \n",
       "Amsterdam                   800  52.366697   4.894540  \n",
       "Budapest                    500  47.497912  19.040235  \n",
       "Varsovia                    500  52.229676  21.012229  "
      ],
      "text/html": [
       "<div>\n",
       "<style scoped>\n",
       "    .dataframe tbody tr th:only-of-type {\n",
       "        vertical-align: middle;\n",
       "    }\n",
       "\n",
       "    .dataframe tbody tr th {\n",
       "        vertical-align: top;\n",
       "    }\n",
       "\n",
       "    .dataframe thead th {\n",
       "        text-align: right;\n",
       "    }\n",
       "</style>\n",
       "<table border=\"1\" class=\"dataframe\">\n",
       "  <thead>\n",
       "    <tr style=\"text-align: right;\">\n",
       "      <th></th>\n",
       "      <th>Pais</th>\n",
       "      <th>Demanda [unidades]</th>\n",
       "      <th>Población [Millones]</th>\n",
       "      <th>Costo Fijo [$]</th>\n",
       "      <th>Costo Variable [ $/ productos]</th>\n",
       "      <th>Capacidad [unidades]</th>\n",
       "      <th>lat</th>\n",
       "      <th>lon</th>\n",
       "    </tr>\n",
       "    <tr>\n",
       "      <th>Ciudad</th>\n",
       "      <th></th>\n",
       "      <th></th>\n",
       "      <th></th>\n",
       "      <th></th>\n",
       "      <th></th>\n",
       "      <th></th>\n",
       "      <th></th>\n",
       "      <th></th>\n",
       "    </tr>\n",
       "  </thead>\n",
       "  <tbody>\n",
       "    <tr>\n",
       "      <th>Madrid</th>\n",
       "      <td>España</td>\n",
       "      <td>121</td>\n",
       "      <td>6.550</td>\n",
       "      <td>25472</td>\n",
       "      <td>4</td>\n",
       "      <td>750</td>\n",
       "      <td>40.416775</td>\n",
       "      <td>-3.703790</td>\n",
       "    </tr>\n",
       "    <tr>\n",
       "      <th>Paris</th>\n",
       "      <td>Francia</td>\n",
       "      <td>240</td>\n",
       "      <td>2.140</td>\n",
       "      <td>48005</td>\n",
       "      <td>2</td>\n",
       "      <td>800</td>\n",
       "      <td>48.856614</td>\n",
       "      <td>2.352222</td>\n",
       "    </tr>\n",
       "    <tr>\n",
       "      <th>Liverpool</th>\n",
       "      <td>Reino Unido</td>\n",
       "      <td>121</td>\n",
       "      <td>0.552</td>\n",
       "      <td>45563</td>\n",
       "      <td>4</td>\n",
       "      <td>750</td>\n",
       "      <td>53.408371</td>\n",
       "      <td>-2.991573</td>\n",
       "    </tr>\n",
       "    <tr>\n",
       "      <th>Milan</th>\n",
       "      <td>Italia</td>\n",
       "      <td>198</td>\n",
       "      <td>1.350</td>\n",
       "      <td>48274</td>\n",
       "      <td>5</td>\n",
       "      <td>300</td>\n",
       "      <td>45.464204</td>\n",
       "      <td>9.189982</td>\n",
       "    </tr>\n",
       "    <tr>\n",
       "      <th>Berlin</th>\n",
       "      <td>Alemania</td>\n",
       "      <td>211</td>\n",
       "      <td>3.750</td>\n",
       "      <td>54988</td>\n",
       "      <td>4</td>\n",
       "      <td>700</td>\n",
       "      <td>52.520007</td>\n",
       "      <td>13.404954</td>\n",
       "    </tr>\n",
       "    <tr>\n",
       "      <th>Bruselas</th>\n",
       "      <td>Bélgica</td>\n",
       "      <td>224</td>\n",
       "      <td>0.174</td>\n",
       "      <td>54231</td>\n",
       "      <td>6</td>\n",
       "      <td>500</td>\n",
       "      <td>50.850340</td>\n",
       "      <td>4.351710</td>\n",
       "    </tr>\n",
       "    <tr>\n",
       "      <th>Amsterdam</th>\n",
       "      <td>Hollanda</td>\n",
       "      <td>259</td>\n",
       "      <td>0.821</td>\n",
       "      <td>38114</td>\n",
       "      <td>3</td>\n",
       "      <td>800</td>\n",
       "      <td>52.366697</td>\n",
       "      <td>4.894540</td>\n",
       "    </tr>\n",
       "    <tr>\n",
       "      <th>Budapest</th>\n",
       "      <td>Hungría</td>\n",
       "      <td>122</td>\n",
       "      <td>1.750</td>\n",
       "      <td>59699</td>\n",
       "      <td>3</td>\n",
       "      <td>500</td>\n",
       "      <td>47.497912</td>\n",
       "      <td>19.040235</td>\n",
       "    </tr>\n",
       "    <tr>\n",
       "      <th>Varsovia</th>\n",
       "      <td>Polonia</td>\n",
       "      <td>175</td>\n",
       "      <td>1.708</td>\n",
       "      <td>54468</td>\n",
       "      <td>1</td>\n",
       "      <td>500</td>\n",
       "      <td>52.229676</td>\n",
       "      <td>21.012229</td>\n",
       "    </tr>\n",
       "  </tbody>\n",
       "</table>\n",
       "</div>"
      ]
     },
     "metadata": {},
     "execution_count": 4
    }
   ],
   "metadata": {}
  },
  {
   "cell_type": "code",
   "execution_count": 5,
   "source": [
    "df3"
   ],
   "outputs": [
    {
     "output_type": "execute_result",
     "data": {
      "text/plain": [
       "                  Pais   Madrid    Paris  Londres  Liverpool    Roma   \\\n",
       "Ciudad                                                                  \n",
       "Madrid          España    10.00  1052.97  1263.10    1445.26  1367.60   \n",
       "Paris          Francia  1052.97    10.00   343.92     629.18  1106.60   \n",
       "Liverpool  Reino Unido  1445.26   629.18   287.43      10.00  1721.78   \n",
       "Milan           Italia  1190.45   640.74   960.88    1246.27   477.03   \n",
       "Berlín        Alemania  1871.43   879.69   934.52    1103.69  1182.35   \n",
       "Bruselas       Bélgica  1316.97   264.27   321.60     577.43  1173.92   \n",
       "Amsterdam     Hollanda  1481.41   429.87   358.31     543.03  1296.71   \n",
       "Budapest       Hungría  1978.45  1247.68  1453.28    1688.43   809.07   \n",
       "Varsovia       Polonia  2294.00  1370.54  1453.14    1615.88  1315.68   \n",
       "\n",
       "             Milan   Zurich   Berlín  Bruselas  Ámsterdam   Dublín    Praga  \\\n",
       "Ciudad                                                                        \n",
       "Madrid     1190.45  1248.90  1871.43   1316.97    1481.41  1450.64  1775.59   \n",
       "Paris       640.74   489.17   879.69    264.27     429.87   782.50   885.46   \n",
       "Liverpool  1246.27  1057.38  1103.69    577.43     543.03   217.61  1256.01   \n",
       "Milan        10.00   218.37   842.76    698.40     829.29  1418.42   645.88   \n",
       "Berlín      842.76   669.79    10.00    652.58     578.60  1321.27   281.33   \n",
       "Bruselas    698.40   492.57   652.58     10.00     172.85   777.63   720.75   \n",
       "Amsterdam   829.29   613.61   578.60    172.85      10.00   758.48   713.12   \n",
       "Budapest    788.82   791.45   688.90   1131.76    1148.22  1899.97   443.19   \n",
       "Varsovia   1145.92  1045.41   518.84   1163.40    1097.39  1832.86   518.41   \n",
       "\n",
       "           Bratislava  Budapest   Atenas  Varsovia  \n",
       "Ciudad                                              \n",
       "Madrid        1861.96   1978.45  2375.28   2294.00  \n",
       "Paris         1091.51   1247.68  2099.04   1370.54  \n",
       "Liverpool     1527.05   1688.43  2668.40   1615.88  \n",
       "Milan          673.58    788.82  1463.89   1145.92  \n",
       "Berlín         552.95    688.90  1803.12    518.84  \n",
       "Bruselas       970.18   1131.76  2091.71   1163.40  \n",
       "Amsterdam      987.50   1148.22  2165.63   1097.39  \n",
       "Budapest       161.78     10.00  1123.88    545.00  \n",
       "Varsovia       532.57    545.00  1597.26     10.00  "
      ],
      "text/html": [
       "<div>\n",
       "<style scoped>\n",
       "    .dataframe tbody tr th:only-of-type {\n",
       "        vertical-align: middle;\n",
       "    }\n",
       "\n",
       "    .dataframe tbody tr th {\n",
       "        vertical-align: top;\n",
       "    }\n",
       "\n",
       "    .dataframe thead th {\n",
       "        text-align: right;\n",
       "    }\n",
       "</style>\n",
       "<table border=\"1\" class=\"dataframe\">\n",
       "  <thead>\n",
       "    <tr style=\"text-align: right;\">\n",
       "      <th></th>\n",
       "      <th>Pais</th>\n",
       "      <th>Madrid</th>\n",
       "      <th>Paris</th>\n",
       "      <th>Londres</th>\n",
       "      <th>Liverpool</th>\n",
       "      <th>Roma</th>\n",
       "      <th>Milan</th>\n",
       "      <th>Zurich</th>\n",
       "      <th>Berlín</th>\n",
       "      <th>Bruselas</th>\n",
       "      <th>Ámsterdam</th>\n",
       "      <th>Dublín</th>\n",
       "      <th>Praga</th>\n",
       "      <th>Bratislava</th>\n",
       "      <th>Budapest</th>\n",
       "      <th>Atenas</th>\n",
       "      <th>Varsovia</th>\n",
       "    </tr>\n",
       "    <tr>\n",
       "      <th>Ciudad</th>\n",
       "      <th></th>\n",
       "      <th></th>\n",
       "      <th></th>\n",
       "      <th></th>\n",
       "      <th></th>\n",
       "      <th></th>\n",
       "      <th></th>\n",
       "      <th></th>\n",
       "      <th></th>\n",
       "      <th></th>\n",
       "      <th></th>\n",
       "      <th></th>\n",
       "      <th></th>\n",
       "      <th></th>\n",
       "      <th></th>\n",
       "      <th></th>\n",
       "      <th></th>\n",
       "    </tr>\n",
       "  </thead>\n",
       "  <tbody>\n",
       "    <tr>\n",
       "      <th>Madrid</th>\n",
       "      <td>España</td>\n",
       "      <td>10.00</td>\n",
       "      <td>1052.97</td>\n",
       "      <td>1263.10</td>\n",
       "      <td>1445.26</td>\n",
       "      <td>1367.60</td>\n",
       "      <td>1190.45</td>\n",
       "      <td>1248.90</td>\n",
       "      <td>1871.43</td>\n",
       "      <td>1316.97</td>\n",
       "      <td>1481.41</td>\n",
       "      <td>1450.64</td>\n",
       "      <td>1775.59</td>\n",
       "      <td>1861.96</td>\n",
       "      <td>1978.45</td>\n",
       "      <td>2375.28</td>\n",
       "      <td>2294.00</td>\n",
       "    </tr>\n",
       "    <tr>\n",
       "      <th>Paris</th>\n",
       "      <td>Francia</td>\n",
       "      <td>1052.97</td>\n",
       "      <td>10.00</td>\n",
       "      <td>343.92</td>\n",
       "      <td>629.18</td>\n",
       "      <td>1106.60</td>\n",
       "      <td>640.74</td>\n",
       "      <td>489.17</td>\n",
       "      <td>879.69</td>\n",
       "      <td>264.27</td>\n",
       "      <td>429.87</td>\n",
       "      <td>782.50</td>\n",
       "      <td>885.46</td>\n",
       "      <td>1091.51</td>\n",
       "      <td>1247.68</td>\n",
       "      <td>2099.04</td>\n",
       "      <td>1370.54</td>\n",
       "    </tr>\n",
       "    <tr>\n",
       "      <th>Liverpool</th>\n",
       "      <td>Reino Unido</td>\n",
       "      <td>1445.26</td>\n",
       "      <td>629.18</td>\n",
       "      <td>287.43</td>\n",
       "      <td>10.00</td>\n",
       "      <td>1721.78</td>\n",
       "      <td>1246.27</td>\n",
       "      <td>1057.38</td>\n",
       "      <td>1103.69</td>\n",
       "      <td>577.43</td>\n",
       "      <td>543.03</td>\n",
       "      <td>217.61</td>\n",
       "      <td>1256.01</td>\n",
       "      <td>1527.05</td>\n",
       "      <td>1688.43</td>\n",
       "      <td>2668.40</td>\n",
       "      <td>1615.88</td>\n",
       "    </tr>\n",
       "    <tr>\n",
       "      <th>Milan</th>\n",
       "      <td>Italia</td>\n",
       "      <td>1190.45</td>\n",
       "      <td>640.74</td>\n",
       "      <td>960.88</td>\n",
       "      <td>1246.27</td>\n",
       "      <td>477.03</td>\n",
       "      <td>10.00</td>\n",
       "      <td>218.37</td>\n",
       "      <td>842.76</td>\n",
       "      <td>698.40</td>\n",
       "      <td>829.29</td>\n",
       "      <td>1418.42</td>\n",
       "      <td>645.88</td>\n",
       "      <td>673.58</td>\n",
       "      <td>788.82</td>\n",
       "      <td>1463.89</td>\n",
       "      <td>1145.92</td>\n",
       "    </tr>\n",
       "    <tr>\n",
       "      <th>Berlín</th>\n",
       "      <td>Alemania</td>\n",
       "      <td>1871.43</td>\n",
       "      <td>879.69</td>\n",
       "      <td>934.52</td>\n",
       "      <td>1103.69</td>\n",
       "      <td>1182.35</td>\n",
       "      <td>842.76</td>\n",
       "      <td>669.79</td>\n",
       "      <td>10.00</td>\n",
       "      <td>652.58</td>\n",
       "      <td>578.60</td>\n",
       "      <td>1321.27</td>\n",
       "      <td>281.33</td>\n",
       "      <td>552.95</td>\n",
       "      <td>688.90</td>\n",
       "      <td>1803.12</td>\n",
       "      <td>518.84</td>\n",
       "    </tr>\n",
       "    <tr>\n",
       "      <th>Bruselas</th>\n",
       "      <td>Bélgica</td>\n",
       "      <td>1316.97</td>\n",
       "      <td>264.27</td>\n",
       "      <td>321.60</td>\n",
       "      <td>577.43</td>\n",
       "      <td>1173.92</td>\n",
       "      <td>698.40</td>\n",
       "      <td>492.57</td>\n",
       "      <td>652.58</td>\n",
       "      <td>10.00</td>\n",
       "      <td>172.85</td>\n",
       "      <td>777.63</td>\n",
       "      <td>720.75</td>\n",
       "      <td>970.18</td>\n",
       "      <td>1131.76</td>\n",
       "      <td>2091.71</td>\n",
       "      <td>1163.40</td>\n",
       "    </tr>\n",
       "    <tr>\n",
       "      <th>Amsterdam</th>\n",
       "      <td>Hollanda</td>\n",
       "      <td>1481.41</td>\n",
       "      <td>429.87</td>\n",
       "      <td>358.31</td>\n",
       "      <td>543.03</td>\n",
       "      <td>1296.71</td>\n",
       "      <td>829.29</td>\n",
       "      <td>613.61</td>\n",
       "      <td>578.60</td>\n",
       "      <td>172.85</td>\n",
       "      <td>10.00</td>\n",
       "      <td>758.48</td>\n",
       "      <td>713.12</td>\n",
       "      <td>987.50</td>\n",
       "      <td>1148.22</td>\n",
       "      <td>2165.63</td>\n",
       "      <td>1097.39</td>\n",
       "    </tr>\n",
       "    <tr>\n",
       "      <th>Budapest</th>\n",
       "      <td>Hungría</td>\n",
       "      <td>1978.45</td>\n",
       "      <td>1247.68</td>\n",
       "      <td>1453.28</td>\n",
       "      <td>1688.43</td>\n",
       "      <td>809.07</td>\n",
       "      <td>788.82</td>\n",
       "      <td>791.45</td>\n",
       "      <td>688.90</td>\n",
       "      <td>1131.76</td>\n",
       "      <td>1148.22</td>\n",
       "      <td>1899.97</td>\n",
       "      <td>443.19</td>\n",
       "      <td>161.78</td>\n",
       "      <td>10.00</td>\n",
       "      <td>1123.88</td>\n",
       "      <td>545.00</td>\n",
       "    </tr>\n",
       "    <tr>\n",
       "      <th>Varsovia</th>\n",
       "      <td>Polonia</td>\n",
       "      <td>2294.00</td>\n",
       "      <td>1370.54</td>\n",
       "      <td>1453.14</td>\n",
       "      <td>1615.88</td>\n",
       "      <td>1315.68</td>\n",
       "      <td>1145.92</td>\n",
       "      <td>1045.41</td>\n",
       "      <td>518.84</td>\n",
       "      <td>1163.40</td>\n",
       "      <td>1097.39</td>\n",
       "      <td>1832.86</td>\n",
       "      <td>518.41</td>\n",
       "      <td>532.57</td>\n",
       "      <td>545.00</td>\n",
       "      <td>1597.26</td>\n",
       "      <td>10.00</td>\n",
       "    </tr>\n",
       "  </tbody>\n",
       "</table>\n",
       "</div>"
      ]
     },
     "metadata": {},
     "execution_count": 5
    }
   ],
   "metadata": {}
  },
  {
   "cell_type": "code",
   "execution_count": 6,
   "source": [
    "df4"
   ],
   "outputs": [
    {
     "output_type": "execute_result",
     "data": {
      "text/plain": [
       "             Costo Fijo  Costo Variable  Capacidad  \\\n",
       "La Serena         20000             1.0       2000   \n",
       "Coquimbo          15000             0.8        500   \n",
       "Antofagasta       20000             1.5       2000   \n",
       "Vallenar          10000             1.0        500   \n",
       "Copiapo           25000             1.5       1500   \n",
       "\n",
       "             Costo Envio Europa x unidad  \n",
       "La Serena                              2  \n",
       "Coquimbo                               2  \n",
       "Antofagasta                            2  \n",
       "Vallenar                               2  \n",
       "Copiapo                                2  "
      ],
      "text/html": [
       "<div>\n",
       "<style scoped>\n",
       "    .dataframe tbody tr th:only-of-type {\n",
       "        vertical-align: middle;\n",
       "    }\n",
       "\n",
       "    .dataframe tbody tr th {\n",
       "        vertical-align: top;\n",
       "    }\n",
       "\n",
       "    .dataframe thead th {\n",
       "        text-align: right;\n",
       "    }\n",
       "</style>\n",
       "<table border=\"1\" class=\"dataframe\">\n",
       "  <thead>\n",
       "    <tr style=\"text-align: right;\">\n",
       "      <th></th>\n",
       "      <th>Costo Fijo</th>\n",
       "      <th>Costo Variable</th>\n",
       "      <th>Capacidad</th>\n",
       "      <th>Costo Envio Europa x unidad</th>\n",
       "    </tr>\n",
       "  </thead>\n",
       "  <tbody>\n",
       "    <tr>\n",
       "      <th>La Serena</th>\n",
       "      <td>20000</td>\n",
       "      <td>1.0</td>\n",
       "      <td>2000</td>\n",
       "      <td>2</td>\n",
       "    </tr>\n",
       "    <tr>\n",
       "      <th>Coquimbo</th>\n",
       "      <td>15000</td>\n",
       "      <td>0.8</td>\n",
       "      <td>500</td>\n",
       "      <td>2</td>\n",
       "    </tr>\n",
       "    <tr>\n",
       "      <th>Antofagasta</th>\n",
       "      <td>20000</td>\n",
       "      <td>1.5</td>\n",
       "      <td>2000</td>\n",
       "      <td>2</td>\n",
       "    </tr>\n",
       "    <tr>\n",
       "      <th>Vallenar</th>\n",
       "      <td>10000</td>\n",
       "      <td>1.0</td>\n",
       "      <td>500</td>\n",
       "      <td>2</td>\n",
       "    </tr>\n",
       "    <tr>\n",
       "      <th>Copiapo</th>\n",
       "      <td>25000</td>\n",
       "      <td>1.5</td>\n",
       "      <td>1500</td>\n",
       "      <td>2</td>\n",
       "    </tr>\n",
       "  </tbody>\n",
       "</table>\n",
       "</div>"
      ]
     },
     "metadata": {},
     "execution_count": 6
    }
   ],
   "metadata": {}
  },
  {
   "cell_type": "markdown",
   "source": [
    "## **Subíndice**"
   ],
   "metadata": {}
  },
  {
   "cell_type": "code",
   "execution_count": 9,
   "source": [
    "DC=list(df2.index)\n",
    "ciudad=list(df.index)\n",
    "fabrica=list(df4.index)"
   ],
   "outputs": [
    {
     "output_type": "execute_result",
     "data": {
      "text/plain": [
       "['Madrid',\n",
       " 'Paris',\n",
       " 'Liverpool',\n",
       " 'Milan',\n",
       " 'Berlin',\n",
       " 'Bruselas',\n",
       " 'Amsterdam',\n",
       " 'Budapest',\n",
       " 'Varsovia']"
      ]
     },
     "metadata": {},
     "execution_count": 9
    }
   ],
   "metadata": {}
  },
  {
   "cell_type": "markdown",
   "source": [
    "## Grafica Ubicaciones"
   ],
   "metadata": {}
  },
  {
   "cell_type": "code",
   "execution_count": 10,
   "source": [
    "import folium #Recuerden instalar folium si lo van a usar (colocar en anaconda prompt pip install folium)\n",
    "from folium import features\n",
    "\n",
    "mapa = folium.Map(location=[df['lat'].mean(),df['lon'].mean()],zoom_start=4)\n",
    "\n",
    "\n",
    "fg=folium.FeatureGroup()  \n",
    "for n in range(len(df)): \n",
    "    fg.add_child(folium.CircleMarker(location=[df.iloc[n][6],df.iloc[n][7]],radius=3,\n",
    "                                     color='#ff0000',fill = True,fill_color='#ff0000'))\n",
    "    \n",
    "    fg.add_child(folium.Marker(location=[df.iloc[n][6],df.iloc[n][7]],\n",
    "                           popup=folium.Popup(ciudad[n]),\n",
    "                           icon=folium.Icon(color='green',\n",
    "                                            icon_color='white',icon='info-sign')))\n",
    "    \n",
    "mapa.add_child(fg)\n",
    "mapa"
   ],
   "outputs": [
    {
     "output_type": "execute_result",
     "data": {
      "text/plain": [
       "<folium.folium.Map at 0x14d975fc1d0>"
      ],
      "text/html": [
       "<div style=\"width:100%;\"><div style=\"position:relative;width:100%;height:0;padding-bottom:60%;\"><span style=\"color:#565656\">Make this Notebook Trusted to load map: File -> Trust Notebook</span><iframe src=\"about:blank\" style=\"position:absolute;width:100%;height:100%;left:0;top:0;border:none !important;\" data-html=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 onload=\"this.contentDocument.open();this.contentDocument.write(atob(this.getAttribute('data-html')));this.contentDocument.close();\" allowfullscreen webkitallowfullscreen mozallowfullscreen></iframe></div></div>"
      ]
     },
     "metadata": {},
     "execution_count": 10
    }
   ],
   "metadata": {
    "scrolled": false
   }
  },
  {
   "cell_type": "markdown",
   "source": [
    "## **Arcos**"
   ],
   "metadata": {}
  },
  {
   "cell_type": "code",
   "execution_count": 13,
   "source": [
    "arcos=[(i,j) for i in fabrica for j in ciudad]\n",
    "#arcos1=\n",
    "#arcos2="
   ],
   "outputs": [],
   "metadata": {}
  },
  {
   "cell_type": "markdown",
   "source": [
    "## **Parametros**"
   ],
   "metadata": {}
  },
  {
   "cell_type": "code",
   "execution_count": 22,
   "source": [
    "cTransEuro=df4['Costo Envio Europa x unidad']\n",
    "Demanda=df['Demanda [unidades]']\n",
    "cFijo=df4['Costo Fijo']\n",
    "cVariable=df4['Costo Variable']\n",
    "CapFabrica=df4['Capacidad']\n",
    "CapDC=df2['Capacidad [unidades]']\n",
    "FijoDC=df2['Costo Fijo [$]']\n",
    "variableDC=df2['Costo Variable [ $/ productos]']"
   ],
   "outputs": [],
   "metadata": {}
  },
  {
   "cell_type": "code",
   "execution_count": 16,
   "source": [
    "dist={(DC[k],ciudad[j]):df3.iloc[k][j+1] for k in range(len(DC)) for j in range(len(ciudad))}"
   ],
   "outputs": [],
   "metadata": {}
  },
  {
   "cell_type": "code",
   "execution_count": 17,
   "source": [
    "#Crear modelo de Gurobi\n",
    "m=Model(\"Verano Feliz en Europa\")"
   ],
   "outputs": [
    {
     "output_type": "stream",
     "name": "stdout",
     "text": [
      "Academic license - for non-commercial use only - expires 2021-06-20\n",
      "Using license file C:\\Users\\jplop\\gurobi.lic\n"
     ]
    }
   ],
   "metadata": {}
  },
  {
   "cell_type": "markdown",
   "source": [
    "## **Variables de decisión**\n",
    "\n",
    "- $x_{i} = 1 \\;cuando \\;se \\;decide \\;utilizar \\;la \\;Fabrica \\;i. \\;0 \\;de \\;otra \\;manera$.\n",
    "- $y_{ij} = \\; \\; cantidad \\; de \\;productos \\;enviados \\;desde\\;la \\;fabrica \\;i \\;al \\;cliente \\;j $"
   ],
   "metadata": {}
  },
  {
   "cell_type": "code",
   "execution_count": 20,
   "source": [],
   "outputs": [],
   "metadata": {}
  },
  {
   "cell_type": "markdown",
   "source": [
    "## **Función Objetivo**\n",
    "\n",
    "$Min \\; Z= \\;\\displaystyle\\sum_{i,j\\;\\in\\;A}^{} y_{ij}*(cTransEuro_{i}+cVariable_{i})\\;+\\displaystyle\\sum_{i\\;\\in\\;I}^{} x_{i}*cFijo_{i}$"
   ],
   "metadata": {}
  },
  {
   "cell_type": "code",
   "execution_count": 25,
   "source": [],
   "outputs": [],
   "metadata": {}
  },
  {
   "cell_type": "markdown",
   "source": [
    "## **Restricciones**"
   ],
   "metadata": {}
  },
  {
   "cell_type": "markdown",
   "source": [
    "### Capacidad"
   ],
   "metadata": {}
  },
  {
   "cell_type": "code",
   "execution_count": 28,
   "source": [],
   "outputs": [
    {
     "output_type": "execute_result",
     "data": {
      "text/plain": [
       "{'La Serena': <gurobi.Constr *Awaiting Model Update*>,\n",
       " 'Coquimbo': <gurobi.Constr *Awaiting Model Update*>,\n",
       " 'Antofagasta': <gurobi.Constr *Awaiting Model Update*>,\n",
       " 'Vallenar': <gurobi.Constr *Awaiting Model Update*>,\n",
       " 'Copiapo': <gurobi.Constr *Awaiting Model Update*>}"
      ]
     },
     "metadata": {},
     "execution_count": 28
    }
   ],
   "metadata": {}
  },
  {
   "cell_type": "markdown",
   "source": [
    "## Demanda"
   ],
   "metadata": {}
  },
  {
   "cell_type": "code",
   "execution_count": 30,
   "source": [],
   "outputs": [
    {
     "output_type": "execute_result",
     "data": {
      "text/plain": [
       "{'Madrid': <gurobi.Constr *Awaiting Model Update*>,\n",
       " 'Paris': <gurobi.Constr *Awaiting Model Update*>,\n",
       " 'Londres': <gurobi.Constr *Awaiting Model Update*>,\n",
       " 'Liverpool': <gurobi.Constr *Awaiting Model Update*>,\n",
       " 'Roma ': <gurobi.Constr *Awaiting Model Update*>,\n",
       " 'Milan': <gurobi.Constr *Awaiting Model Update*>,\n",
       " 'Zurich': <gurobi.Constr *Awaiting Model Update*>,\n",
       " 'Berlin': <gurobi.Constr *Awaiting Model Update*>,\n",
       " 'Bruselas': <gurobi.Constr *Awaiting Model Update*>,\n",
       " 'Amsterdam': <gurobi.Constr *Awaiting Model Update*>,\n",
       " 'Dublin': <gurobi.Constr *Awaiting Model Update*>,\n",
       " 'Praga': <gurobi.Constr *Awaiting Model Update*>,\n",
       " 'Bratislava': <gurobi.Constr *Awaiting Model Update*>,\n",
       " 'Budapest': <gurobi.Constr *Awaiting Model Update*>,\n",
       " 'Atenas': <gurobi.Constr *Awaiting Model Update*>,\n",
       " 'Varsovia': <gurobi.Constr *Awaiting Model Update*>}"
      ]
     },
     "metadata": {},
     "execution_count": 30
    }
   ],
   "metadata": {}
  },
  {
   "cell_type": "code",
   "execution_count": 31,
   "source": [],
   "outputs": [
    {
     "output_type": "stream",
     "name": "stdout",
     "text": [
      "Gurobi Optimizer version 9.1.2 build v9.1.2rc0 (win64)\n",
      "Thread count: 4 physical cores, 8 logical processors, using up to 8 threads\n",
      "Optimize a model with 21 rows, 85 columns and 165 nonzeros\n",
      "Model fingerprint: 0x3dab8e3a\n",
      "Variable types: 80 continuous, 5 integer (5 binary)\n",
      "Coefficient statistics:\n",
      "  Matrix range     [1e+00, 5e+02]\n",
      "  Objective range  [3e+00, 3e+04]\n",
      "  Bounds range     [1e+00, 1e+00]\n",
      "  RHS range        [2e+00, 2e+02]\n",
      "Presolve removed 1 rows and 5 columns\n",
      "Presolve time: 0.00s\n",
      "Presolved: 20 rows, 80 columns, 155 nonzeros\n",
      "Variable types: 75 continuous, 5 integer (5 binary)\n",
      "\n",
      "Root relaxation: objective 4.075700e+04, 42 iterations, 0.00 seconds\n",
      "\n",
      "    Nodes    |    Current Node    |     Objective Bounds      |     Work\n",
      " Expl Unexpl |  Obj  Depth IntInf | Incumbent    BestBd   Gap | It/Node Time\n",
      "\n",
      "     0     0 40757.0000    0    1          - 40757.0000      -     -    0s\n",
      "H    0     0                    48797.000000 40757.0000  16.5%     -    0s\n",
      "     0     0     cutoff    0      48797.0000 48797.0000  0.00%     -    0s\n",
      "\n",
      "Cutting planes:\n",
      "  Gomory: 1\n",
      "  Implied bound: 3\n",
      "  MIR: 2\n",
      "\n",
      "Explored 1 nodes (45 simplex iterations) in 0.03 seconds\n",
      "Thread count was 8 (of 8 available processors)\n",
      "\n",
      "Solution count 1: 48797 \n",
      "\n",
      "Optimal solution found (tolerance 1.00e-04)\n",
      "Best objective 4.879700000000e+04, best bound 4.879700000000e+04, gap 0.0000%\n"
     ]
    }
   ],
   "metadata": {}
  },
  {
   "cell_type": "code",
   "execution_count": 32,
   "source": [],
   "outputs": [
    {
     "output_type": "stream",
     "name": "stdout",
     "text": [
      "Función Objetivo:  48797.0\n",
      "x[La Serena]=1.0\n",
      "x[Coquimbo]=1.0\n",
      "x[Vallenar]=1.0\n",
      "y[La Serena,Londres]=116.0\n",
      "y[La Serena,Roma ]=59.0\n",
      "y[La Serena,Bruselas]=124.0\n",
      "y[Coquimbo,Madrid]=21.0\n",
      "y[Coquimbo,Liverpool]=21.0\n",
      "y[Coquimbo,Zurich]=182.0\n",
      "y[Coquimbo,Berlin]=111.0\n",
      "y[Coquimbo,Amsterdam]=10.0\n",
      "y[Coquimbo,Atenas]=80.0\n",
      "y[Coquimbo,Varsovia]=75.0\n",
      "y[Vallenar,Paris]=140.0\n",
      "y[Vallenar,Londres]=34.0\n",
      "y[Vallenar,Milan]=98.0\n",
      "y[Vallenar,Amsterdam]=149.0\n",
      "y[Vallenar,Dublin]=2.0\n",
      "y[Vallenar,Praga]=20.0\n",
      "y[Vallenar,Bratislava]=35.0\n",
      "y[Vallenar,Budapest]=22.0\n"
     ]
    }
   ],
   "metadata": {}
  },
  {
   "cell_type": "code",
   "execution_count": 35,
   "source": [],
   "outputs": [
    {
     "output_type": "stream",
     "name": "stdout",
     "text": [
      "La Fabrica  La Serena\n",
      "    transporta 116.0  productos al cliente Londres\n",
      "    transporta 59.0  productos al cliente Roma \n",
      "    transporta 124.0  productos al cliente Bruselas\n",
      "La Fabrica  Coquimbo\n",
      "    transporta 21.0  productos al cliente Madrid\n",
      "    transporta 21.0  productos al cliente Liverpool\n",
      "    transporta 182.0  productos al cliente Zurich\n",
      "    transporta 111.0  productos al cliente Berlin\n",
      "    transporta 10.0  productos al cliente Amsterdam\n",
      "    transporta 80.0  productos al cliente Atenas\n",
      "    transporta 75.0  productos al cliente Varsovia\n",
      "La Fabrica  Vallenar\n",
      "    transporta 140.0  productos al cliente Paris\n",
      "    transporta 34.0  productos al cliente Londres\n",
      "    transporta 98.0  productos al cliente Milan\n",
      "    transporta 149.0  productos al cliente Amsterdam\n",
      "    transporta 2.0  productos al cliente Dublin\n",
      "    transporta 20.0  productos al cliente Praga\n",
      "    transporta 35.0  productos al cliente Bratislava\n",
      "    transporta 22.0  productos al cliente Budapest\n"
     ]
    }
   ],
   "metadata": {}
  },
  {
   "cell_type": "code",
   "execution_count": null,
   "source": [],
   "outputs": [],
   "metadata": {}
  },
  {
   "cell_type": "markdown",
   "source": [
    "# **Parte 2**"
   ],
   "metadata": {}
  },
  {
   "cell_type": "code",
   "execution_count": null,
   "source": [
    "a=\n",
    "fabrica2=['La Serena','Antofagasta']"
   ],
   "outputs": [],
   "metadata": {}
  },
  {
   "cell_type": "code",
   "execution_count": null,
   "source": [
    "#Crear modelo de Cplex\n",
    "mdl=Model(\"Verano Feliz en Europa- v2\")"
   ],
   "outputs": [],
   "metadata": {}
  },
  {
   "cell_type": "markdown",
   "source": [
    "## **Variables de decisión**\n",
    "\n",
    "- $y_{ik} = \\; \\; cantidad \\; de \\;productos \\;enviados \\;desde\\;la \\;fabrica \\;i \\;al \\;CD \\;k $\n",
    "- $z_{kj} = \\; \\; cantidad \\; de \\;productos \\;enviados \\;desde\\; \\;centro \\;de \\;distribución \\;k  \\;al \\;nodo \\;i$\n",
    "- $w_{k} = 1 \\;cuando \\;se \\;decide \\;utilizar \\;el \\;CD \\;k. \\;0 \\;de \\;otra \\;manera$."
   ],
   "metadata": {}
  },
  {
   "cell_type": "code",
   "execution_count": null,
   "source": [
    "#Crear variables de desicion\n",
    "y=\n",
    "z=\n",
    "w="
   ],
   "outputs": [],
   "metadata": {}
  },
  {
   "cell_type": "markdown",
   "source": [
    "## **Función Objetivo**\n",
    "\n",
    "$Min \\; Z= CostoFijoCD + TransporteChileCD + TransporteCDcliente + CostoManufactura + ManejoCD$"
   ],
   "metadata": {}
  },
  {
   "cell_type": "code",
   "execution_count": null,
   "source": [
    "CostoFijoCD=\n",
    "TransChDC=\n",
    "TransCiudad=\n",
    "ManejoCD=\n",
    "cManufactura=\n",
    "Z=\n",
    "mdl.minimize(Z)"
   ],
   "outputs": [],
   "metadata": {}
  },
  {
   "cell_type": "markdown",
   "source": [
    "## **Restricciones**"
   ],
   "metadata": {}
  },
  {
   "cell_type": "markdown",
   "source": [
    "### Capacidad"
   ],
   "metadata": {}
  },
  {
   "cell_type": "code",
   "execution_count": null,
   "source": [],
   "outputs": [],
   "metadata": {}
  },
  {
   "cell_type": "markdown",
   "source": [
    "## Demanda"
   ],
   "metadata": {}
  },
  {
   "cell_type": "code",
   "execution_count": null,
   "source": [],
   "outputs": [],
   "metadata": {}
  },
  {
   "cell_type": "markdown",
   "source": [
    "## **Balance**"
   ],
   "metadata": {}
  },
  {
   "cell_type": "code",
   "execution_count": null,
   "source": [],
   "outputs": [],
   "metadata": {}
  },
  {
   "cell_type": "markdown",
   "source": [
    "## **Capacidad CD**"
   ],
   "metadata": {}
  },
  {
   "cell_type": "code",
   "execution_count": null,
   "source": [],
   "outputs": [],
   "metadata": {}
  },
  {
   "cell_type": "markdown",
   "source": [
    "## **Distancia Promedio**"
   ],
   "metadata": {}
  },
  {
   "cell_type": "code",
   "execution_count": null,
   "source": [],
   "outputs": [],
   "metadata": {}
  },
  {
   "cell_type": "markdown",
   "source": [
    "## **Nivel de Servicio**"
   ],
   "metadata": {}
  },
  {
   "cell_type": "code",
   "execution_count": null,
   "source": [],
   "outputs": [],
   "metadata": {}
  },
  {
   "cell_type": "code",
   "execution_count": null,
   "source": [
    "m.optimize()"
   ],
   "outputs": [],
   "metadata": {}
  },
  {
   "cell_type": "code",
   "execution_count": null,
   "source": [
    "#Estado de la solución\n",
    "if m.status==2:\n",
    "    print(\"Función Objetivo: \",str(round(m.objVal,2)))\n",
    "    for v in m.getVars():\n",
    "        if v.x>0:\n",
    "            print(str(v.VarName)+\"=\"+str(round(v.x,2)))\n",
    "else:\n",
    "    print(\"Solución Infactible\")"
   ],
   "outputs": [],
   "metadata": {}
  },
  {
   "cell_type": "code",
   "execution_count": null,
   "source": [],
   "outputs": [],
   "metadata": {}
  },
  {
   "cell_type": "code",
   "execution_count": null,
   "source": [],
   "outputs": [],
   "metadata": {}
  },
  {
   "cell_type": "code",
   "execution_count": null,
   "source": [
    "CostoFijoCD.getValue()"
   ],
   "outputs": [],
   "metadata": {}
  },
  {
   "cell_type": "code",
   "execution_count": null,
   "source": [
    "TransChDC.getValue()"
   ],
   "outputs": [],
   "metadata": {}
  },
  {
   "cell_type": "code",
   "execution_count": null,
   "source": [
    "TransCiudad.getValue()"
   ],
   "outputs": [],
   "metadata": {}
  },
  {
   "cell_type": "code",
   "execution_count": null,
   "source": [
    "ManejoCD.getValue()"
   ],
   "outputs": [],
   "metadata": {}
  },
  {
   "cell_type": "code",
   "execution_count": null,
   "source": [
    "cManufactura.getValue()"
   ],
   "outputs": [],
   "metadata": {}
  },
  {
   "cell_type": "code",
   "execution_count": null,
   "source": [
    "Z.getValue()"
   ],
   "outputs": [],
   "metadata": {}
  },
  {
   "cell_type": "code",
   "execution_count": null,
   "source": [],
   "outputs": [],
   "metadata": {}
  }
 ],
 "metadata": {
  "kernelspec": {
   "display_name": "Python 3",
   "language": "python",
   "name": "python3"
  },
  "language_info": {
   "codemirror_mode": {
    "name": "ipython",
    "version": 3
   },
   "file_extension": ".py",
   "mimetype": "text/x-python",
   "name": "python",
   "nbconvert_exporter": "python",
   "pygments_lexer": "ipython3",
   "version": "3.6.5"
  }
 },
 "nbformat": 4,
 "nbformat_minor": 4
}