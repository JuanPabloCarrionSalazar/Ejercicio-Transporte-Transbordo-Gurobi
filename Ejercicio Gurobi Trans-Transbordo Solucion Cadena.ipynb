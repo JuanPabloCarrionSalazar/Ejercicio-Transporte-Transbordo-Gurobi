{
 "cells": [
  {
   "cell_type": "markdown",
   "source": [
    " #  <font color=blue> Verano Feliz en Europa. </font>\r\n",
    "\r\n",
    "<div class=\"alert alert-info\"> </h4> **Material preparado para la carrera de Ingeniería Civil Industrial | Universidad Católica del Norte | Escuela de Ingeniería - Campus Coquimbo | Curso - Cadena de Suministros.**\r\n",
    "</h4> </div>\r\n",
    "\r\n",
    "Verano-Feliz ha tenido un gran éxito con su modelo de negocio en la industria de los trajes de baños, por lo cual está expandiendo sus operaciones a un nuevo mercado, La Unión Europea. Con el fin de poder implementa su estrategia de manera exitosa, actualmente está diseñando su cadena de suministros para el mercado de Europa.\r\n",
    "\r\n",
    "Verano-Feliz está planeando abrir nuevas fábricas en Chile, donde manufacturará los trajes de baños y desde ahí los enviará a las ciudades más importantes de Europa, donde los comercializará en malls y tiendas especializadas.\r\n",
    "\r\n",
    "Las ciudades donde está planificando abrir fabricas son: La Serena, Coquimbo, Antofagasta, Vallenar y Copiapó. Cada Fabrica tiene costos de fijo de abrir, costo de manufactura por producto y capacidades específicas.\r\n",
    "Mientras que en Europa algunas ciudades pueden ser centros de distribución, mientras que otras solo serán puntos de ventas que deberán ser abastecidas desde los DC. Los centros de distribución tienen un costo fijo de administración, un costo variable por mover productos en las instalaciones y una capacidad especifica.\r\n",
    "\r\n",
    "Importante notar que el costo de transporte de Chile a Europa no depende de la distancia solamente de las unidades. Mientras que el costo de transporte dentro de Europa depende de las unidades y de la distancia que se deba recorrer.\r\n",
    "\r\n",
    "La información asociada a las Fábricas, Centros de Distribución y Ciudades está disponible en el archivo Excel adjunto.\r\n",
    "\r\n",
    "\r\n",
    "\r\n",
    "## **Parte 1:**\r\n",
    "\r\n",
    "**Pregunta 1.** Primero verano feliz está analizando cuanto debería ser la cantidad de productos a\r\n",
    "enviar mensualmente desde cada una de las fábricas directamente a cada una de las ciudades. Para\r\n",
    "este análisis está suponiendo una capacidad de cada fabrica de 500 unidades mensuales. Si no\r\n",
    "alcanza a cumplir todo el pedido, el faltante no puede ser más de 100 unidades en el mes. Y para su\r\n",
    "función objetivo solo considere los costos de transporte a Europa, costo variable de producción y\r\n",
    "costo fijo de las fabricas.\r\n",
    "(por simplicidad y facilidad de resolución, las cantidades a enviar son continuas, es decir NO\r\n",
    "números enteros).\r\n",
    "¿Desde la Fabrica de la Serena, a qué ciudades debería enviar productos?\r\n",
    "\r\n",
    "**Pregunta 2.** En base a la información anterior. Cuántas unidades debe enviar desde Copiapó a\r\n",
    "Madrid. Ingrese su respuesta redondeando al entero más cercano, sin puntos o comas.\r\n",
    "\r\n",
    "**Pregunta 3.** En base a la información anterior. ¿Cuál es el costo de este plan? Ingrese su respuesta\r\n",
    "redondeando al entero más cercano, sin puntos o comas.\r\n",
    "\r\n",
    "## **Parte 2:**\r\n",
    "**Pregunta 1.** (Utilizar solo la información disponible el archivo con los datos). Verano- Feliz está\r\n",
    "analizando como podría configurar su cadena de suministros utilizando solamente 2 plantas en\r\n",
    "Chile, La Serena y Antofagasta. Junto con esto quiere decidir que centro de distribución debería abriro no para poder minimizar el costo de transporte y obtener una distancia promedio de menor a 800\r\n",
    "Km desde cada DC a sus clientes y un nivel de servicio donde el 50% de los clientes este a menos de\r\n",
    "800 Km. ¿Qué centros de distribución debería abrir?\r\n",
    "Hint: Considere los costos fijos de los Centros de distribución, costo de transporte de chile al cd,\r\n",
    "costo de transporte del CD al cliente y costo de mantención del CD.\r\n",
    "\r\n",
    "**Pregunta 2.** (Utilizando solo la información disponible el archivo con los datos y en base a los datos\r\n",
    "de la pregunta anterior). ¿a cuántas ciudades abastece Ámsterdam, sin incluirse a si misma?\r\n",
    "\r\n",
    "**Pregunta 3.** (Utilizando solo la información disponible el archivo con los datos y en base a los datos\r\n",
    "de la pregunta anterior). ¿Qué planta debería producir la mayor cantidad de productos?¨\r\n",
    "\r\n",
    "**Pregunta 4.** (Utilizando solo la información disponible el archivo con los datos y en base a los datos\r\n",
    "de la pregunta anterior). ¿Cuál es el costo total de envío de productos desde Chile a Europa?\r\n",
    "\r\n",
    "**Pregunta 5.** (Utilizando solo la información disponible el archivo con los datos y en base a los datos\r\n",
    "de la pregunta anterior). ¿Cuál es el costo total de la estrategia?\r\n"
   ],
   "metadata": {}
  },
  {
   "cell_type": "markdown",
   "source": [
    "## Librerias"
   ],
   "metadata": {}
  },
  {
   "cell_type": "code",
   "execution_count": 1,
   "source": [
    "import numpy as np\r\n",
    "import pandas as pd\r\n",
    "import folium #Si les arroja error, coloquen en anaconda prompt: pip install folium\r\n",
    "from folium import features\r\n",
    "from gurobipy import *\r\n"
   ],
   "outputs": [],
   "metadata": {}
  },
  {
   "cell_type": "markdown",
   "source": [
    "## Datos"
   ],
   "metadata": {}
  },
  {
   "cell_type": "code",
   "execution_count": 2,
   "source": [
    "excel=pd.ExcelFile('Verno Feliz en Europa-Coord.xlsx')\r\n",
    "df=pd.read_excel(excel,'Sheet1',index_col=0)#Clientes Europa\r\n",
    "df2=pd.read_excel(excel,'Sheet2',index_col=0)#Centros Distribución\r\n",
    "df3=pd.read_excel(excel,'Sheet3',index_col=0)#Distancias Centro Distribución a Cliente\r\n",
    "df4=pd.read_excel(excel,'Sheet4',index_col=0)#Fabricas Chile"
   ],
   "outputs": [],
   "metadata": {}
  },
  {
   "cell_type": "code",
   "execution_count": 3,
   "source": [
    "df"
   ],
   "outputs": [
    {
     "output_type": "execute_result",
     "data": {
      "text/plain": [
       "                       Pais  Demanda [unidades]  Demanda [Millones]  \\\n",
       "Ciudad                                                                \n",
       "Madrid               España                 121               6.550   \n",
       "Paris               Francia                 240               2.140   \n",
       "Londres         Reino Unido                 250               8.900   \n",
       "Liverpool       Reino Unido                 121               0.552   \n",
       "Roma                 Italia                 159               2.870   \n",
       "Milan                Italia                 198               1.350   \n",
       "Zurich                Suiza                 282               0.402   \n",
       "Berlin             Alemania                 211               3.750   \n",
       "Bruselas            Bélgica                 224               0.174   \n",
       "Amsterdam          Hollanda                 259               0.821   \n",
       "Dublin              Irlanda                 102               1.360   \n",
       "Praga       República Checa                 120               1.309   \n",
       "Bratislava       Eslovaquia                 135               0.424   \n",
       "Budapest            Hungría                 122               1.750   \n",
       "Atenas               Grecia                 180               0.664   \n",
       "Varsovia            Polonia                 175               1.708   \n",
       "\n",
       "            Costo Fijo [$]  Costo Variable [ $/ productos]  \\\n",
       "Ciudad                                                       \n",
       "Madrid               25472                               4   \n",
       "Paris                48005                               2   \n",
       "Londres              54705                               5   \n",
       "Liverpool            45563                               4   \n",
       "Roma                 33375                               4   \n",
       "Milan                48274                               5   \n",
       "Zurich               21148                               6   \n",
       "Berlin               54988                               4   \n",
       "Bruselas             54231                               6   \n",
       "Amsterdam            38114                               3   \n",
       "Dublin               46239                               1   \n",
       "Praga                30391                               3   \n",
       "Bratislava           45986                               4   \n",
       "Budapest             59699                               3   \n",
       "Atenas               26386                               2   \n",
       "Varsovia             54468                               1   \n",
       "\n",
       "            Capacidad [unidades]        lat        lon  \n",
       "Ciudad                                                  \n",
       "Madrid                       750  40.416775  -3.703790  \n",
       "Paris                        800  48.856614   2.352222  \n",
       "Londres                      500  51.507351  -0.127758  \n",
       "Liverpool                    750  53.408371  -2.991573  \n",
       "Roma                         250  41.902783  12.496365  \n",
       "Milan                        300  45.464204   9.189982  \n",
       "Zurich                       150  47.376887   8.541694  \n",
       "Berlin                       700  52.520007  13.404954  \n",
       "Bruselas                     500  50.850340   4.351710  \n",
       "Amsterdam                    800  52.366697   4.894540  \n",
       "Dublin                       500  53.349805  -6.260310  \n",
       "Praga                        600  50.075538  14.437800  \n",
       "Bratislava                   600  48.148596  17.107748  \n",
       "Budapest                     500  47.497912  19.040235  \n",
       "Atenas                       600  37.983810  23.727539  \n",
       "Varsovia                     500  52.229676  21.012229  "
      ],
      "text/html": [
       "<div>\n",
       "<style scoped>\n",
       "    .dataframe tbody tr th:only-of-type {\n",
       "        vertical-align: middle;\n",
       "    }\n",
       "\n",
       "    .dataframe tbody tr th {\n",
       "        vertical-align: top;\n",
       "    }\n",
       "\n",
       "    .dataframe thead th {\n",
       "        text-align: right;\n",
       "    }\n",
       "</style>\n",
       "<table border=\"1\" class=\"dataframe\">\n",
       "  <thead>\n",
       "    <tr style=\"text-align: right;\">\n",
       "      <th></th>\n",
       "      <th>Pais</th>\n",
       "      <th>Demanda [unidades]</th>\n",
       "      <th>Demanda [Millones]</th>\n",
       "      <th>Costo Fijo [$]</th>\n",
       "      <th>Costo Variable [ $/ productos]</th>\n",
       "      <th>Capacidad [unidades]</th>\n",
       "      <th>lat</th>\n",
       "      <th>lon</th>\n",
       "    </tr>\n",
       "    <tr>\n",
       "      <th>Ciudad</th>\n",
       "      <th></th>\n",
       "      <th></th>\n",
       "      <th></th>\n",
       "      <th></th>\n",
       "      <th></th>\n",
       "      <th></th>\n",
       "      <th></th>\n",
       "      <th></th>\n",
       "    </tr>\n",
       "  </thead>\n",
       "  <tbody>\n",
       "    <tr>\n",
       "      <th>Madrid</th>\n",
       "      <td>España</td>\n",
       "      <td>121</td>\n",
       "      <td>6.550</td>\n",
       "      <td>25472</td>\n",
       "      <td>4</td>\n",
       "      <td>750</td>\n",
       "      <td>40.416775</td>\n",
       "      <td>-3.703790</td>\n",
       "    </tr>\n",
       "    <tr>\n",
       "      <th>Paris</th>\n",
       "      <td>Francia</td>\n",
       "      <td>240</td>\n",
       "      <td>2.140</td>\n",
       "      <td>48005</td>\n",
       "      <td>2</td>\n",
       "      <td>800</td>\n",
       "      <td>48.856614</td>\n",
       "      <td>2.352222</td>\n",
       "    </tr>\n",
       "    <tr>\n",
       "      <th>Londres</th>\n",
       "      <td>Reino Unido</td>\n",
       "      <td>250</td>\n",
       "      <td>8.900</td>\n",
       "      <td>54705</td>\n",
       "      <td>5</td>\n",
       "      <td>500</td>\n",
       "      <td>51.507351</td>\n",
       "      <td>-0.127758</td>\n",
       "    </tr>\n",
       "    <tr>\n",
       "      <th>Liverpool</th>\n",
       "      <td>Reino Unido</td>\n",
       "      <td>121</td>\n",
       "      <td>0.552</td>\n",
       "      <td>45563</td>\n",
       "      <td>4</td>\n",
       "      <td>750</td>\n",
       "      <td>53.408371</td>\n",
       "      <td>-2.991573</td>\n",
       "    </tr>\n",
       "    <tr>\n",
       "      <th>Roma</th>\n",
       "      <td>Italia</td>\n",
       "      <td>159</td>\n",
       "      <td>2.870</td>\n",
       "      <td>33375</td>\n",
       "      <td>4</td>\n",
       "      <td>250</td>\n",
       "      <td>41.902783</td>\n",
       "      <td>12.496365</td>\n",
       "    </tr>\n",
       "    <tr>\n",
       "      <th>Milan</th>\n",
       "      <td>Italia</td>\n",
       "      <td>198</td>\n",
       "      <td>1.350</td>\n",
       "      <td>48274</td>\n",
       "      <td>5</td>\n",
       "      <td>300</td>\n",
       "      <td>45.464204</td>\n",
       "      <td>9.189982</td>\n",
       "    </tr>\n",
       "    <tr>\n",
       "      <th>Zurich</th>\n",
       "      <td>Suiza</td>\n",
       "      <td>282</td>\n",
       "      <td>0.402</td>\n",
       "      <td>21148</td>\n",
       "      <td>6</td>\n",
       "      <td>150</td>\n",
       "      <td>47.376887</td>\n",
       "      <td>8.541694</td>\n",
       "    </tr>\n",
       "    <tr>\n",
       "      <th>Berlin</th>\n",
       "      <td>Alemania</td>\n",
       "      <td>211</td>\n",
       "      <td>3.750</td>\n",
       "      <td>54988</td>\n",
       "      <td>4</td>\n",
       "      <td>700</td>\n",
       "      <td>52.520007</td>\n",
       "      <td>13.404954</td>\n",
       "    </tr>\n",
       "    <tr>\n",
       "      <th>Bruselas</th>\n",
       "      <td>Bélgica</td>\n",
       "      <td>224</td>\n",
       "      <td>0.174</td>\n",
       "      <td>54231</td>\n",
       "      <td>6</td>\n",
       "      <td>500</td>\n",
       "      <td>50.850340</td>\n",
       "      <td>4.351710</td>\n",
       "    </tr>\n",
       "    <tr>\n",
       "      <th>Amsterdam</th>\n",
       "      <td>Hollanda</td>\n",
       "      <td>259</td>\n",
       "      <td>0.821</td>\n",
       "      <td>38114</td>\n",
       "      <td>3</td>\n",
       "      <td>800</td>\n",
       "      <td>52.366697</td>\n",
       "      <td>4.894540</td>\n",
       "    </tr>\n",
       "    <tr>\n",
       "      <th>Dublin</th>\n",
       "      <td>Irlanda</td>\n",
       "      <td>102</td>\n",
       "      <td>1.360</td>\n",
       "      <td>46239</td>\n",
       "      <td>1</td>\n",
       "      <td>500</td>\n",
       "      <td>53.349805</td>\n",
       "      <td>-6.260310</td>\n",
       "    </tr>\n",
       "    <tr>\n",
       "      <th>Praga</th>\n",
       "      <td>República Checa</td>\n",
       "      <td>120</td>\n",
       "      <td>1.309</td>\n",
       "      <td>30391</td>\n",
       "      <td>3</td>\n",
       "      <td>600</td>\n",
       "      <td>50.075538</td>\n",
       "      <td>14.437800</td>\n",
       "    </tr>\n",
       "    <tr>\n",
       "      <th>Bratislava</th>\n",
       "      <td>Eslovaquia</td>\n",
       "      <td>135</td>\n",
       "      <td>0.424</td>\n",
       "      <td>45986</td>\n",
       "      <td>4</td>\n",
       "      <td>600</td>\n",
       "      <td>48.148596</td>\n",
       "      <td>17.107748</td>\n",
       "    </tr>\n",
       "    <tr>\n",
       "      <th>Budapest</th>\n",
       "      <td>Hungría</td>\n",
       "      <td>122</td>\n",
       "      <td>1.750</td>\n",
       "      <td>59699</td>\n",
       "      <td>3</td>\n",
       "      <td>500</td>\n",
       "      <td>47.497912</td>\n",
       "      <td>19.040235</td>\n",
       "    </tr>\n",
       "    <tr>\n",
       "      <th>Atenas</th>\n",
       "      <td>Grecia</td>\n",
       "      <td>180</td>\n",
       "      <td>0.664</td>\n",
       "      <td>26386</td>\n",
       "      <td>2</td>\n",
       "      <td>600</td>\n",
       "      <td>37.983810</td>\n",
       "      <td>23.727539</td>\n",
       "    </tr>\n",
       "    <tr>\n",
       "      <th>Varsovia</th>\n",
       "      <td>Polonia</td>\n",
       "      <td>175</td>\n",
       "      <td>1.708</td>\n",
       "      <td>54468</td>\n",
       "      <td>1</td>\n",
       "      <td>500</td>\n",
       "      <td>52.229676</td>\n",
       "      <td>21.012229</td>\n",
       "    </tr>\n",
       "  </tbody>\n",
       "</table>\n",
       "</div>"
      ]
     },
     "metadata": {},
     "execution_count": 3
    }
   ],
   "metadata": {}
  },
  {
   "cell_type": "code",
   "execution_count": 4,
   "source": [
    "df2"
   ],
   "outputs": [
    {
     "output_type": "execute_result",
     "data": {
      "text/plain": [
       "                  Pais  Demanda [unidades]  Población [Millones]  \\\n",
       "Ciudad                                                             \n",
       "Madrid          España                 121                 6.550   \n",
       "Paris          Francia                 240                 2.140   \n",
       "Liverpool  Reino Unido                 121                 0.552   \n",
       "Milan           Italia                 198                 1.350   \n",
       "Berlin        Alemania                 211                 3.750   \n",
       "Bruselas       Bélgica                 224                 0.174   \n",
       "Amsterdam     Hollanda                 259                 0.821   \n",
       "Budapest       Hungría                 122                 1.750   \n",
       "Varsovia       Polonia                 175                 1.708   \n",
       "\n",
       "           Costo Fijo [$]  Costo Variable [ $/ productos]  \\\n",
       "Ciudad                                                      \n",
       "Madrid              25472                               4   \n",
       "Paris               48005                               2   \n",
       "Liverpool           45563                               4   \n",
       "Milan               48274                               5   \n",
       "Berlin              54988                               4   \n",
       "Bruselas            54231                               6   \n",
       "Amsterdam           38114                               3   \n",
       "Budapest            59699                               3   \n",
       "Varsovia            54468                               1   \n",
       "\n",
       "           Capacidad [unidades]        lat        lon  \n",
       "Ciudad                                                 \n",
       "Madrid                      750  40.416775  -3.703790  \n",
       "Paris                       800  48.856614   2.352222  \n",
       "Liverpool                   750  53.408371  -2.991573  \n",
       "Milan                       300  45.464204   9.189982  \n",
       "Berlin                      700  52.520007  13.404954  \n",
       "Bruselas                    500  50.850340   4.351710  \n",
       "Amsterdam                   800  52.366697   4.894540  \n",
       "Budapest                    500  47.497912  19.040235  \n",
       "Varsovia                    500  52.229676  21.012229  "
      ],
      "text/html": [
       "<div>\n",
       "<style scoped>\n",
       "    .dataframe tbody tr th:only-of-type {\n",
       "        vertical-align: middle;\n",
       "    }\n",
       "\n",
       "    .dataframe tbody tr th {\n",
       "        vertical-align: top;\n",
       "    }\n",
       "\n",
       "    .dataframe thead th {\n",
       "        text-align: right;\n",
       "    }\n",
       "</style>\n",
       "<table border=\"1\" class=\"dataframe\">\n",
       "  <thead>\n",
       "    <tr style=\"text-align: right;\">\n",
       "      <th></th>\n",
       "      <th>Pais</th>\n",
       "      <th>Demanda [unidades]</th>\n",
       "      <th>Población [Millones]</th>\n",
       "      <th>Costo Fijo [$]</th>\n",
       "      <th>Costo Variable [ $/ productos]</th>\n",
       "      <th>Capacidad [unidades]</th>\n",
       "      <th>lat</th>\n",
       "      <th>lon</th>\n",
       "    </tr>\n",
       "    <tr>\n",
       "      <th>Ciudad</th>\n",
       "      <th></th>\n",
       "      <th></th>\n",
       "      <th></th>\n",
       "      <th></th>\n",
       "      <th></th>\n",
       "      <th></th>\n",
       "      <th></th>\n",
       "      <th></th>\n",
       "    </tr>\n",
       "  </thead>\n",
       "  <tbody>\n",
       "    <tr>\n",
       "      <th>Madrid</th>\n",
       "      <td>España</td>\n",
       "      <td>121</td>\n",
       "      <td>6.550</td>\n",
       "      <td>25472</td>\n",
       "      <td>4</td>\n",
       "      <td>750</td>\n",
       "      <td>40.416775</td>\n",
       "      <td>-3.703790</td>\n",
       "    </tr>\n",
       "    <tr>\n",
       "      <th>Paris</th>\n",
       "      <td>Francia</td>\n",
       "      <td>240</td>\n",
       "      <td>2.140</td>\n",
       "      <td>48005</td>\n",
       "      <td>2</td>\n",
       "      <td>800</td>\n",
       "      <td>48.856614</td>\n",
       "      <td>2.352222</td>\n",
       "    </tr>\n",
       "    <tr>\n",
       "      <th>Liverpool</th>\n",
       "      <td>Reino Unido</td>\n",
       "      <td>121</td>\n",
       "      <td>0.552</td>\n",
       "      <td>45563</td>\n",
       "      <td>4</td>\n",
       "      <td>750</td>\n",
       "      <td>53.408371</td>\n",
       "      <td>-2.991573</td>\n",
       "    </tr>\n",
       "    <tr>\n",
       "      <th>Milan</th>\n",
       "      <td>Italia</td>\n",
       "      <td>198</td>\n",
       "      <td>1.350</td>\n",
       "      <td>48274</td>\n",
       "      <td>5</td>\n",
       "      <td>300</td>\n",
       "      <td>45.464204</td>\n",
       "      <td>9.189982</td>\n",
       "    </tr>\n",
       "    <tr>\n",
       "      <th>Berlin</th>\n",
       "      <td>Alemania</td>\n",
       "      <td>211</td>\n",
       "      <td>3.750</td>\n",
       "      <td>54988</td>\n",
       "      <td>4</td>\n",
       "      <td>700</td>\n",
       "      <td>52.520007</td>\n",
       "      <td>13.404954</td>\n",
       "    </tr>\n",
       "    <tr>\n",
       "      <th>Bruselas</th>\n",
       "      <td>Bélgica</td>\n",
       "      <td>224</td>\n",
       "      <td>0.174</td>\n",
       "      <td>54231</td>\n",
       "      <td>6</td>\n",
       "      <td>500</td>\n",
       "      <td>50.850340</td>\n",
       "      <td>4.351710</td>\n",
       "    </tr>\n",
       "    <tr>\n",
       "      <th>Amsterdam</th>\n",
       "      <td>Hollanda</td>\n",
       "      <td>259</td>\n",
       "      <td>0.821</td>\n",
       "      <td>38114</td>\n",
       "      <td>3</td>\n",
       "      <td>800</td>\n",
       "      <td>52.366697</td>\n",
       "      <td>4.894540</td>\n",
       "    </tr>\n",
       "    <tr>\n",
       "      <th>Budapest</th>\n",
       "      <td>Hungría</td>\n",
       "      <td>122</td>\n",
       "      <td>1.750</td>\n",
       "      <td>59699</td>\n",
       "      <td>3</td>\n",
       "      <td>500</td>\n",
       "      <td>47.497912</td>\n",
       "      <td>19.040235</td>\n",
       "    </tr>\n",
       "    <tr>\n",
       "      <th>Varsovia</th>\n",
       "      <td>Polonia</td>\n",
       "      <td>175</td>\n",
       "      <td>1.708</td>\n",
       "      <td>54468</td>\n",
       "      <td>1</td>\n",
       "      <td>500</td>\n",
       "      <td>52.229676</td>\n",
       "      <td>21.012229</td>\n",
       "    </tr>\n",
       "  </tbody>\n",
       "</table>\n",
       "</div>"
      ]
     },
     "metadata": {},
     "execution_count": 4
    }
   ],
   "metadata": {}
  },
  {
   "cell_type": "code",
   "execution_count": 5,
   "source": [
    "df3"
   ],
   "outputs": [
    {
     "output_type": "execute_result",
     "data": {
      "text/plain": [
       "                  Pais   Madrid    Paris  Londres  Liverpool    Roma   \\\n",
       "Ciudad                                                                  \n",
       "Madrid          España    10.00  1052.97  1263.10    1445.26  1367.60   \n",
       "Paris          Francia  1052.97    10.00   343.92     629.18  1106.60   \n",
       "Liverpool  Reino Unido  1445.26   629.18   287.43      10.00  1721.78   \n",
       "Milan           Italia  1190.45   640.74   960.88    1246.27   477.03   \n",
       "Berlín        Alemania  1871.43   879.69   934.52    1103.69  1182.35   \n",
       "Bruselas       Bélgica  1316.97   264.27   321.60     577.43  1173.92   \n",
       "Amsterdam     Hollanda  1481.41   429.87   358.31     543.03  1296.71   \n",
       "Budapest       Hungría  1978.45  1247.68  1453.28    1688.43   809.07   \n",
       "Varsovia       Polonia  2294.00  1370.54  1453.14    1615.88  1315.68   \n",
       "\n",
       "             Milan   Zurich   Berlín  Bruselas  Ámsterdam   Dublín    Praga  \\\n",
       "Ciudad                                                                        \n",
       "Madrid     1190.45  1248.90  1871.43   1316.97    1481.41  1450.64  1775.59   \n",
       "Paris       640.74   489.17   879.69    264.27     429.87   782.50   885.46   \n",
       "Liverpool  1246.27  1057.38  1103.69    577.43     543.03   217.61  1256.01   \n",
       "Milan        10.00   218.37   842.76    698.40     829.29  1418.42   645.88   \n",
       "Berlín      842.76   669.79    10.00    652.58     578.60  1321.27   281.33   \n",
       "Bruselas    698.40   492.57   652.58     10.00     172.85   777.63   720.75   \n",
       "Amsterdam   829.29   613.61   578.60    172.85      10.00   758.48   713.12   \n",
       "Budapest    788.82   791.45   688.90   1131.76    1148.22  1899.97   443.19   \n",
       "Varsovia   1145.92  1045.41   518.84   1163.40    1097.39  1832.86   518.41   \n",
       "\n",
       "           Bratislava  Budapest   Atenas  Varsovia  \n",
       "Ciudad                                              \n",
       "Madrid        1861.96   1978.45  2375.28   2294.00  \n",
       "Paris         1091.51   1247.68  2099.04   1370.54  \n",
       "Liverpool     1527.05   1688.43  2668.40   1615.88  \n",
       "Milan          673.58    788.82  1463.89   1145.92  \n",
       "Berlín         552.95    688.90  1803.12    518.84  \n",
       "Bruselas       970.18   1131.76  2091.71   1163.40  \n",
       "Amsterdam      987.50   1148.22  2165.63   1097.39  \n",
       "Budapest       161.78     10.00  1123.88    545.00  \n",
       "Varsovia       532.57    545.00  1597.26     10.00  "
      ],
      "text/html": [
       "<div>\n",
       "<style scoped>\n",
       "    .dataframe tbody tr th:only-of-type {\n",
       "        vertical-align: middle;\n",
       "    }\n",
       "\n",
       "    .dataframe tbody tr th {\n",
       "        vertical-align: top;\n",
       "    }\n",
       "\n",
       "    .dataframe thead th {\n",
       "        text-align: right;\n",
       "    }\n",
       "</style>\n",
       "<table border=\"1\" class=\"dataframe\">\n",
       "  <thead>\n",
       "    <tr style=\"text-align: right;\">\n",
       "      <th></th>\n",
       "      <th>Pais</th>\n",
       "      <th>Madrid</th>\n",
       "      <th>Paris</th>\n",
       "      <th>Londres</th>\n",
       "      <th>Liverpool</th>\n",
       "      <th>Roma</th>\n",
       "      <th>Milan</th>\n",
       "      <th>Zurich</th>\n",
       "      <th>Berlín</th>\n",
       "      <th>Bruselas</th>\n",
       "      <th>Ámsterdam</th>\n",
       "      <th>Dublín</th>\n",
       "      <th>Praga</th>\n",
       "      <th>Bratislava</th>\n",
       "      <th>Budapest</th>\n",
       "      <th>Atenas</th>\n",
       "      <th>Varsovia</th>\n",
       "    </tr>\n",
       "    <tr>\n",
       "      <th>Ciudad</th>\n",
       "      <th></th>\n",
       "      <th></th>\n",
       "      <th></th>\n",
       "      <th></th>\n",
       "      <th></th>\n",
       "      <th></th>\n",
       "      <th></th>\n",
       "      <th></th>\n",
       "      <th></th>\n",
       "      <th></th>\n",
       "      <th></th>\n",
       "      <th></th>\n",
       "      <th></th>\n",
       "      <th></th>\n",
       "      <th></th>\n",
       "      <th></th>\n",
       "      <th></th>\n",
       "    </tr>\n",
       "  </thead>\n",
       "  <tbody>\n",
       "    <tr>\n",
       "      <th>Madrid</th>\n",
       "      <td>España</td>\n",
       "      <td>10.00</td>\n",
       "      <td>1052.97</td>\n",
       "      <td>1263.10</td>\n",
       "      <td>1445.26</td>\n",
       "      <td>1367.60</td>\n",
       "      <td>1190.45</td>\n",
       "      <td>1248.90</td>\n",
       "      <td>1871.43</td>\n",
       "      <td>1316.97</td>\n",
       "      <td>1481.41</td>\n",
       "      <td>1450.64</td>\n",
       "      <td>1775.59</td>\n",
       "      <td>1861.96</td>\n",
       "      <td>1978.45</td>\n",
       "      <td>2375.28</td>\n",
       "      <td>2294.00</td>\n",
       "    </tr>\n",
       "    <tr>\n",
       "      <th>Paris</th>\n",
       "      <td>Francia</td>\n",
       "      <td>1052.97</td>\n",
       "      <td>10.00</td>\n",
       "      <td>343.92</td>\n",
       "      <td>629.18</td>\n",
       "      <td>1106.60</td>\n",
       "      <td>640.74</td>\n",
       "      <td>489.17</td>\n",
       "      <td>879.69</td>\n",
       "      <td>264.27</td>\n",
       "      <td>429.87</td>\n",
       "      <td>782.50</td>\n",
       "      <td>885.46</td>\n",
       "      <td>1091.51</td>\n",
       "      <td>1247.68</td>\n",
       "      <td>2099.04</td>\n",
       "      <td>1370.54</td>\n",
       "    </tr>\n",
       "    <tr>\n",
       "      <th>Liverpool</th>\n",
       "      <td>Reino Unido</td>\n",
       "      <td>1445.26</td>\n",
       "      <td>629.18</td>\n",
       "      <td>287.43</td>\n",
       "      <td>10.00</td>\n",
       "      <td>1721.78</td>\n",
       "      <td>1246.27</td>\n",
       "      <td>1057.38</td>\n",
       "      <td>1103.69</td>\n",
       "      <td>577.43</td>\n",
       "      <td>543.03</td>\n",
       "      <td>217.61</td>\n",
       "      <td>1256.01</td>\n",
       "      <td>1527.05</td>\n",
       "      <td>1688.43</td>\n",
       "      <td>2668.40</td>\n",
       "      <td>1615.88</td>\n",
       "    </tr>\n",
       "    <tr>\n",
       "      <th>Milan</th>\n",
       "      <td>Italia</td>\n",
       "      <td>1190.45</td>\n",
       "      <td>640.74</td>\n",
       "      <td>960.88</td>\n",
       "      <td>1246.27</td>\n",
       "      <td>477.03</td>\n",
       "      <td>10.00</td>\n",
       "      <td>218.37</td>\n",
       "      <td>842.76</td>\n",
       "      <td>698.40</td>\n",
       "      <td>829.29</td>\n",
       "      <td>1418.42</td>\n",
       "      <td>645.88</td>\n",
       "      <td>673.58</td>\n",
       "      <td>788.82</td>\n",
       "      <td>1463.89</td>\n",
       "      <td>1145.92</td>\n",
       "    </tr>\n",
       "    <tr>\n",
       "      <th>Berlín</th>\n",
       "      <td>Alemania</td>\n",
       "      <td>1871.43</td>\n",
       "      <td>879.69</td>\n",
       "      <td>934.52</td>\n",
       "      <td>1103.69</td>\n",
       "      <td>1182.35</td>\n",
       "      <td>842.76</td>\n",
       "      <td>669.79</td>\n",
       "      <td>10.00</td>\n",
       "      <td>652.58</td>\n",
       "      <td>578.60</td>\n",
       "      <td>1321.27</td>\n",
       "      <td>281.33</td>\n",
       "      <td>552.95</td>\n",
       "      <td>688.90</td>\n",
       "      <td>1803.12</td>\n",
       "      <td>518.84</td>\n",
       "    </tr>\n",
       "    <tr>\n",
       "      <th>Bruselas</th>\n",
       "      <td>Bélgica</td>\n",
       "      <td>1316.97</td>\n",
       "      <td>264.27</td>\n",
       "      <td>321.60</td>\n",
       "      <td>577.43</td>\n",
       "      <td>1173.92</td>\n",
       "      <td>698.40</td>\n",
       "      <td>492.57</td>\n",
       "      <td>652.58</td>\n",
       "      <td>10.00</td>\n",
       "      <td>172.85</td>\n",
       "      <td>777.63</td>\n",
       "      <td>720.75</td>\n",
       "      <td>970.18</td>\n",
       "      <td>1131.76</td>\n",
       "      <td>2091.71</td>\n",
       "      <td>1163.40</td>\n",
       "    </tr>\n",
       "    <tr>\n",
       "      <th>Amsterdam</th>\n",
       "      <td>Hollanda</td>\n",
       "      <td>1481.41</td>\n",
       "      <td>429.87</td>\n",
       "      <td>358.31</td>\n",
       "      <td>543.03</td>\n",
       "      <td>1296.71</td>\n",
       "      <td>829.29</td>\n",
       "      <td>613.61</td>\n",
       "      <td>578.60</td>\n",
       "      <td>172.85</td>\n",
       "      <td>10.00</td>\n",
       "      <td>758.48</td>\n",
       "      <td>713.12</td>\n",
       "      <td>987.50</td>\n",
       "      <td>1148.22</td>\n",
       "      <td>2165.63</td>\n",
       "      <td>1097.39</td>\n",
       "    </tr>\n",
       "    <tr>\n",
       "      <th>Budapest</th>\n",
       "      <td>Hungría</td>\n",
       "      <td>1978.45</td>\n",
       "      <td>1247.68</td>\n",
       "      <td>1453.28</td>\n",
       "      <td>1688.43</td>\n",
       "      <td>809.07</td>\n",
       "      <td>788.82</td>\n",
       "      <td>791.45</td>\n",
       "      <td>688.90</td>\n",
       "      <td>1131.76</td>\n",
       "      <td>1148.22</td>\n",
       "      <td>1899.97</td>\n",
       "      <td>443.19</td>\n",
       "      <td>161.78</td>\n",
       "      <td>10.00</td>\n",
       "      <td>1123.88</td>\n",
       "      <td>545.00</td>\n",
       "    </tr>\n",
       "    <tr>\n",
       "      <th>Varsovia</th>\n",
       "      <td>Polonia</td>\n",
       "      <td>2294.00</td>\n",
       "      <td>1370.54</td>\n",
       "      <td>1453.14</td>\n",
       "      <td>1615.88</td>\n",
       "      <td>1315.68</td>\n",
       "      <td>1145.92</td>\n",
       "      <td>1045.41</td>\n",
       "      <td>518.84</td>\n",
       "      <td>1163.40</td>\n",
       "      <td>1097.39</td>\n",
       "      <td>1832.86</td>\n",
       "      <td>518.41</td>\n",
       "      <td>532.57</td>\n",
       "      <td>545.00</td>\n",
       "      <td>1597.26</td>\n",
       "      <td>10.00</td>\n",
       "    </tr>\n",
       "  </tbody>\n",
       "</table>\n",
       "</div>"
      ]
     },
     "metadata": {},
     "execution_count": 5
    }
   ],
   "metadata": {}
  },
  {
   "cell_type": "code",
   "execution_count": 6,
   "source": [
    "df4"
   ],
   "outputs": [
    {
     "output_type": "execute_result",
     "data": {
      "text/plain": [
       "             Costo Fijo  Costo Variable  Capacidad  \\\n",
       "La Serena         20000             1.0       2000   \n",
       "Coquimbo          15000             0.8        500   \n",
       "Antofagasta       20000             1.5       2000   \n",
       "Vallenar          10000             1.0        500   \n",
       "Copiapo           25000             1.5       1500   \n",
       "\n",
       "             Costo Envio Europa x unidad  \n",
       "La Serena                              2  \n",
       "Coquimbo                               2  \n",
       "Antofagasta                            2  \n",
       "Vallenar                               2  \n",
       "Copiapo                                2  "
      ],
      "text/html": [
       "<div>\n",
       "<style scoped>\n",
       "    .dataframe tbody tr th:only-of-type {\n",
       "        vertical-align: middle;\n",
       "    }\n",
       "\n",
       "    .dataframe tbody tr th {\n",
       "        vertical-align: top;\n",
       "    }\n",
       "\n",
       "    .dataframe thead th {\n",
       "        text-align: right;\n",
       "    }\n",
       "</style>\n",
       "<table border=\"1\" class=\"dataframe\">\n",
       "  <thead>\n",
       "    <tr style=\"text-align: right;\">\n",
       "      <th></th>\n",
       "      <th>Costo Fijo</th>\n",
       "      <th>Costo Variable</th>\n",
       "      <th>Capacidad</th>\n",
       "      <th>Costo Envio Europa x unidad</th>\n",
       "    </tr>\n",
       "  </thead>\n",
       "  <tbody>\n",
       "    <tr>\n",
       "      <th>La Serena</th>\n",
       "      <td>20000</td>\n",
       "      <td>1.0</td>\n",
       "      <td>2000</td>\n",
       "      <td>2</td>\n",
       "    </tr>\n",
       "    <tr>\n",
       "      <th>Coquimbo</th>\n",
       "      <td>15000</td>\n",
       "      <td>0.8</td>\n",
       "      <td>500</td>\n",
       "      <td>2</td>\n",
       "    </tr>\n",
       "    <tr>\n",
       "      <th>Antofagasta</th>\n",
       "      <td>20000</td>\n",
       "      <td>1.5</td>\n",
       "      <td>2000</td>\n",
       "      <td>2</td>\n",
       "    </tr>\n",
       "    <tr>\n",
       "      <th>Vallenar</th>\n",
       "      <td>10000</td>\n",
       "      <td>1.0</td>\n",
       "      <td>500</td>\n",
       "      <td>2</td>\n",
       "    </tr>\n",
       "    <tr>\n",
       "      <th>Copiapo</th>\n",
       "      <td>25000</td>\n",
       "      <td>1.5</td>\n",
       "      <td>1500</td>\n",
       "      <td>2</td>\n",
       "    </tr>\n",
       "  </tbody>\n",
       "</table>\n",
       "</div>"
      ]
     },
     "metadata": {},
     "execution_count": 6
    }
   ],
   "metadata": {}
  },
  {
   "cell_type": "markdown",
   "source": [
    "## **Subíndice**"
   ],
   "metadata": {}
  },
  {
   "cell_type": "code",
   "execution_count": 7,
   "source": [
    "DC=list(df2.index)\n",
    "ciudad=list(df.index)\n",
    "fabrica=list(df4.index)\n",
    "fabrica"
   ],
   "outputs": [
    {
     "output_type": "execute_result",
     "data": {
      "text/plain": [
       "['La Serena', 'Coquimbo', 'Antofagasta', 'Vallenar', 'Copiapo']"
      ]
     },
     "metadata": {},
     "execution_count": 7
    }
   ],
   "metadata": {}
  },
  {
   "cell_type": "markdown",
   "source": [
    "## Grafica Ubicaciones"
   ],
   "metadata": {}
  },
  {
   "cell_type": "code",
   "execution_count": 8,
   "source": [
    "import folium #Recuerden instalar folium si lo van a usar (colocar en anaconda prompt pip install folium)\n",
    "from folium import features\n",
    "\n",
    "mapa = folium.Map(location=[df['lat'].mean(),df['lon'].mean()],zoom_start=4)\n",
    "\n",
    "\n",
    "fg=folium.FeatureGroup()  \n",
    "for n in range(len(df)): \n",
    "    fg.add_child(folium.CircleMarker(location=[df.iloc[n][6],df.iloc[n][7]],radius=3,\n",
    "                                     color='#ff0000',fill = True,fill_color='#ff0000'))\n",
    "    \n",
    "    fg.add_child(folium.Marker(location=[df.iloc[n][6],df.iloc[n][7]],\n",
    "                           popup=folium.Popup(ciudad[n]),\n",
    "                           icon=folium.Icon(color='green',\n",
    "                                            icon_color='white',icon='info-sign')))\n",
    "    \n",
    "mapa.add_child(fg)\n",
    "mapa"
   ],
   "outputs": [
    {
     "output_type": "execute_result",
     "data": {
      "text/plain": [
       "<folium.folium.Map at 0x214d5ca1c88>"
      ],
      "text/html": [
       "<div style=\"width:100%;\"><div style=\"position:relative;width:100%;height:0;padding-bottom:60%;\"><span style=\"color:#565656\">Make this Notebook Trusted to load map: File -> Trust Notebook</span><iframe src=\"about:blank\" style=\"position:absolute;width:100%;height:100%;left:0;top:0;border:none !important;\" data-html=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 onload=\"this.contentDocument.open();this.contentDocument.write(atob(this.getAttribute('data-html')));this.contentDocument.close();\" allowfullscreen webkitallowfullscreen mozallowfullscreen></iframe></div></div>"
      ]
     },
     "metadata": {},
     "execution_count": 8
    }
   ],
   "metadata": {
    "scrolled": false
   }
  },
  {
   "cell_type": "markdown",
   "source": [
    "## **Arcos**"
   ],
   "metadata": {}
  },
  {
   "cell_type": "code",
   "execution_count": 9,
   "source": [
    "arcos=[(i,j) for i in fabrica for j in ciudad]\n",
    "arcos1=[(i,k) for i in fabrica for k in DC]\n",
    "arcos2=[(k,j) for j in ciudad for k in DC]"
   ],
   "outputs": [],
   "metadata": {}
  },
  {
   "cell_type": "markdown",
   "source": [
    "## **Parametros**"
   ],
   "metadata": {}
  },
  {
   "cell_type": "code",
   "execution_count": 10,
   "source": [
    "cTransEuro=df4['Costo Envio Europa x unidad']\n",
    "Demanda=df['Demanda [unidades]']\n",
    "cFijo=df4['Costo Fijo']\n",
    "cVariable=df4['Costo Variable']\n",
    "CapFabrica=df4['Capacidad']\n",
    "CapDC=df2['Capacidad [unidades]']\n",
    "FijoDC=df2['Costo Fijo [$]']\n",
    "variableDC=df2['Costo Variable [ $/ productos]']"
   ],
   "outputs": [],
   "metadata": {}
  },
  {
   "cell_type": "code",
   "execution_count": 11,
   "source": [
    "dist={(DC[k],ciudad[j]):df3.iloc[k][j+1] for k in range(len(DC)) for j in range(len(ciudad))}"
   ],
   "outputs": [],
   "metadata": {}
  },
  {
   "cell_type": "code",
   "execution_count": 12,
   "source": [
    "#Crear modelo de Gurobi\n",
    "m = Model(\"Verano Feliz en Europa\")"
   ],
   "outputs": [
    {
     "output_type": "stream",
     "name": "stdout",
     "text": [
      "Academic license - for non-commercial use only - expires 2021-06-20\n",
      "Using license file C:\\Users\\jplop\\gurobi.lic\n"
     ]
    }
   ],
   "metadata": {}
  },
  {
   "cell_type": "markdown",
   "source": [
    "## **Variables de decisión**\n",
    "\n",
    "- $x_{i} = 1 \\;cuando \\;se \\;decide \\;utilizar \\;la \\;Fabrica \\;i. \\;0 \\;de \\;otra \\;manera$.\n",
    "- $y_{ij} = \\; \\; cantidad \\; de \\;productos \\;enviados \\;desde\\;la \\;fabrica \\;i \\;al \\;cliente \\;j $"
   ],
   "metadata": {}
  },
  {
   "cell_type": "code",
   "execution_count": 13,
   "source": [
    "#Crear variables de desicion\n",
    "x=m.addVars(fabrica, name='x',vtype=GRB.BINARY)\n",
    "y=m.addVars(arcos, name='y',vtype=GRB.CONTINUOUS)"
   ],
   "outputs": [],
   "metadata": {}
  },
  {
   "cell_type": "markdown",
   "source": [
    "## **Función Objetivo**\n",
    "\n",
    "$Min \\; Z= \\;\\displaystyle\\sum_{i,j\\;\\in\\;A}^{} y_{ij}*(cTransEuro_{i}+cVariable_{i})\\;+\\displaystyle\\sum_{i\\;\\in\\;I}^{} x_{i}*cFijo_{i}$"
   ],
   "metadata": {}
  },
  {
   "cell_type": "code",
   "execution_count": 14,
   "source": [
    "obj=quicksum((cTransEuro[i]+cVariable[i])*y[i,j] for i in fabrica for j in ciudad)+quicksum(x[i]*cFijo[i] for i in fabrica)\n",
    "m.setObjective(obj,GRB.MINIMIZE)"
   ],
   "outputs": [],
   "metadata": {}
  },
  {
   "cell_type": "markdown",
   "source": [
    "## **Restricciones**"
   ],
   "metadata": {}
  },
  {
   "cell_type": "markdown",
   "source": [
    "### Capacidad"
   ],
   "metadata": {}
  },
  {
   "cell_type": "code",
   "execution_count": 15,
   "source": [
    "m.addConstrs(quicksum(y[i,j] for j in ciudad)<=500*x[i] for i in fabrica)"
   ],
   "outputs": [
    {
     "output_type": "execute_result",
     "data": {
      "text/plain": [
       "{'La Serena': <gurobi.Constr *Awaiting Model Update*>,\n",
       " 'Coquimbo': <gurobi.Constr *Awaiting Model Update*>,\n",
       " 'Antofagasta': <gurobi.Constr *Awaiting Model Update*>,\n",
       " 'Vallenar': <gurobi.Constr *Awaiting Model Update*>,\n",
       " 'Copiapo': <gurobi.Constr *Awaiting Model Update*>}"
      ]
     },
     "metadata": {},
     "execution_count": 15
    }
   ],
   "metadata": {}
  },
  {
   "cell_type": "markdown",
   "source": [
    "## Demanda"
   ],
   "metadata": {}
  },
  {
   "cell_type": "code",
   "execution_count": 16,
   "source": [
    "m.addConstrs(quicksum(y[i,j] for i in fabrica)>=Demanda[j]-100 for j in ciudad)"
   ],
   "outputs": [
    {
     "output_type": "execute_result",
     "data": {
      "text/plain": [
       "{'Madrid': <gurobi.Constr *Awaiting Model Update*>,\n",
       " 'Paris': <gurobi.Constr *Awaiting Model Update*>,\n",
       " 'Londres': <gurobi.Constr *Awaiting Model Update*>,\n",
       " 'Liverpool': <gurobi.Constr *Awaiting Model Update*>,\n",
       " 'Roma ': <gurobi.Constr *Awaiting Model Update*>,\n",
       " 'Milan': <gurobi.Constr *Awaiting Model Update*>,\n",
       " 'Zurich': <gurobi.Constr *Awaiting Model Update*>,\n",
       " 'Berlin': <gurobi.Constr *Awaiting Model Update*>,\n",
       " 'Bruselas': <gurobi.Constr *Awaiting Model Update*>,\n",
       " 'Amsterdam': <gurobi.Constr *Awaiting Model Update*>,\n",
       " 'Dublin': <gurobi.Constr *Awaiting Model Update*>,\n",
       " 'Praga': <gurobi.Constr *Awaiting Model Update*>,\n",
       " 'Bratislava': <gurobi.Constr *Awaiting Model Update*>,\n",
       " 'Budapest': <gurobi.Constr *Awaiting Model Update*>,\n",
       " 'Atenas': <gurobi.Constr *Awaiting Model Update*>,\n",
       " 'Varsovia': <gurobi.Constr *Awaiting Model Update*>}"
      ]
     },
     "metadata": {},
     "execution_count": 16
    }
   ],
   "metadata": {}
  },
  {
   "cell_type": "code",
   "execution_count": 17,
   "source": [
    "m.optimize()"
   ],
   "outputs": [
    {
     "output_type": "stream",
     "name": "stdout",
     "text": [
      "Gurobi Optimizer version 9.1.2 build v9.1.2rc0 (win64)\n",
      "Thread count: 4 physical cores, 8 logical processors, using up to 8 threads\n",
      "Optimize a model with 21 rows, 85 columns and 165 nonzeros\n",
      "Model fingerprint: 0x3dab8e3a\n",
      "Variable types: 80 continuous, 5 integer (5 binary)\n",
      "Coefficient statistics:\n",
      "  Matrix range     [1e+00, 5e+02]\n",
      "  Objective range  [3e+00, 3e+04]\n",
      "  Bounds range     [1e+00, 1e+00]\n",
      "  RHS range        [2e+00, 2e+02]\n",
      "Presolve removed 1 rows and 5 columns\n",
      "Presolve time: 0.00s\n",
      "Presolved: 20 rows, 80 columns, 155 nonzeros\n",
      "Variable types: 75 continuous, 5 integer (5 binary)\n",
      "\n",
      "Root relaxation: objective 4.075700e+04, 42 iterations, 0.00 seconds\n",
      "\n",
      "    Nodes    |    Current Node    |     Objective Bounds      |     Work\n",
      " Expl Unexpl |  Obj  Depth IntInf | Incumbent    BestBd   Gap | It/Node Time\n",
      "\n",
      "     0     0 40757.0000    0    1          - 40757.0000      -     -    0s\n",
      "H    0     0                    48797.000000 40757.0000  16.5%     -    0s\n",
      "     0     0     cutoff    0      48797.0000 48797.0000  0.00%     -    0s\n",
      "\n",
      "Cutting planes:\n",
      "  Gomory: 1\n",
      "  Implied bound: 3\n",
      "  MIR: 2\n",
      "\n",
      "Explored 1 nodes (45 simplex iterations) in 0.03 seconds\n",
      "Thread count was 8 (of 8 available processors)\n",
      "\n",
      "Solution count 1: 48797 \n",
      "\n",
      "Optimal solution found (tolerance 1.00e-04)\n",
      "Best objective 4.879700000000e+04, best bound 4.879700000000e+04, gap 0.0000%\n"
     ]
    }
   ],
   "metadata": {}
  },
  {
   "cell_type": "code",
   "execution_count": 18,
   "source": [
    "#Estado de la solución\n",
    "if m.status==2:\n",
    "    print(\"Función Objetivo: \",str(round(m.objVal,2)))\n",
    "    for v in m.getVars():\n",
    "        if v.x>0:\n",
    "            print(str(v.VarName)+\"=\"+str(round(v.x,2)))\n",
    "else:\n",
    "    print(\"Solución Infactible\")"
   ],
   "outputs": [
    {
     "output_type": "stream",
     "name": "stdout",
     "text": [
      "Función Objetivo:  48797.0\n",
      "x[La Serena]=1.0\n",
      "x[Coquimbo]=1.0\n",
      "x[Vallenar]=1.0\n",
      "y[La Serena,Londres]=116.0\n",
      "y[La Serena,Roma ]=59.0\n",
      "y[La Serena,Bruselas]=124.0\n",
      "y[Coquimbo,Madrid]=21.0\n",
      "y[Coquimbo,Liverpool]=21.0\n",
      "y[Coquimbo,Zurich]=182.0\n",
      "y[Coquimbo,Berlin]=111.0\n",
      "y[Coquimbo,Amsterdam]=10.0\n",
      "y[Coquimbo,Atenas]=80.0\n",
      "y[Coquimbo,Varsovia]=75.0\n",
      "y[Vallenar,Paris]=140.0\n",
      "y[Vallenar,Londres]=34.0\n",
      "y[Vallenar,Milan]=98.0\n",
      "y[Vallenar,Amsterdam]=149.0\n",
      "y[Vallenar,Dublin]=2.0\n",
      "y[Vallenar,Praga]=20.0\n",
      "y[Vallenar,Bratislava]=35.0\n",
      "y[Vallenar,Budapest]=22.0\n"
     ]
    }
   ],
   "metadata": {}
  },
  {
   "cell_type": "code",
   "execution_count": 19,
   "source": [
    "m.objVal"
   ],
   "outputs": [
    {
     "output_type": "execute_result",
     "data": {
      "text/plain": [
       "48797.00000000001"
      ]
     },
     "metadata": {},
     "execution_count": 19
    }
   ],
   "metadata": {}
  },
  {
   "cell_type": "code",
   "execution_count": 20,
   "source": [
    "#Ver la solución\n",
    "m.display()"
   ],
   "outputs": [
    {
     "output_type": "stream",
     "name": "stdout",
     "text": [
      "Minimize\n",
      "   <gurobi.LinExpr: 20000.0 x[La Serena] + 15000.0 x[Coquimbo] + 20000.0 x[Antofagasta] + 10000.0 x[Vallenar] + 25000.0 x[Copiapo] + 3.0 y[La Serena,Madrid] + 3.0 y[La Serena,Paris] + 3.0 y[La Serena,Londres] + 3.0 y[La Serena,Liverpool] + 3.0 y[La Serena,Roma ] + 3.0 y[La Serena,Milan] + 3.0 y[La Serena,Zurich] + 3.0 y[La Serena,Berlin] + 3.0 y[La Serena,Bruselas] + 3.0 y[La Serena,Amsterdam] + 3.0 y[La Serena,Dublin] + 3.0 y[La Serena,Praga] + 3.0 y[La Serena,Bratislava] + 3.0 y[La Serena,Budapest] + 3.0 y[La Serena,Atenas] + 3.0 y[La Serena,Varsovia] + 2.8 y[Coquimbo,Madrid] + 2.8 y[Coquimbo,Paris] + 2.8 y[Coquimbo,Londres] + 2.8 y[Coquimbo,Liverpool] + 2.8 y[Coquimbo,Roma ] + 2.8 y[Coquimbo,Milan] + 2.8 y[Coquimbo,Zurich] + 2.8 y[Coquimbo,Berlin] + 2.8 y[Coquimbo,Bruselas] + 2.8 y[Coquimbo,Amsterdam] + 2.8 y[Coquimbo,Dublin] + 2.8 y[Coquimbo,Praga] + 2.8 y[Coquimbo,Bratislava] + 2.8 y[Coquimbo,Budapest] + 2.8 y[Coquimbo,Atenas] + 2.8 y[Coquimbo,Varsovia] + 3.5 y[Antofagasta,Madrid] + 3.5 y[Antofagasta,Paris] + 3.5 y[Antofagasta,Londres] + 3.5 y[Antofagasta,Liverpool] + 3.5 y[Antofagasta,Roma ] + 3.5 y[Antofagasta,Milan] + 3.5 y[Antofagasta,Zurich] + 3.5 y[Antofagasta,Berlin] + 3.5 y[Antofagasta,Bruselas] + 3.5 y[Antofagasta,Amsterdam] + 3.5 y[Antofagasta,Dublin] + 3.5 y[Antofagasta,Praga] + 3.5 y[Antofagasta,Bratislava] + 3.5 y[Antofagasta,Budapest] + 3.5 y[Antofagasta,Atenas] + 3.5 y[Antofagasta,Varsovia] + 3.0 y[Vallenar,Madrid] + 3.0 y[Vallenar,Paris] + 3.0 y[Vallenar,Londres] + 3.0 y[Vallenar,Liverpool] + 3.0 y[Vallenar,Roma ] + 3.0 y[Vallenar,Milan] + 3.0 y[Vallenar,Zurich] + 3.0 y[Vallenar,Berlin] + 3.0 y[Vallenar,Bruselas] + 3.0 y[Vallenar,Amsterdam] + 3.0 y[Vallenar,Dublin] + 3.0 y[Vallenar,Praga] + 3.0 y[Vallenar,Bratislava] + 3.0 y[Vallenar,Budapest] + 3.0 y[Vallenar,Atenas] + 3.0 y[Vallenar,Varsovia] + 3.5 y[Copiapo,Madrid] + 3.5 y[Copiapo,Paris] + 3.5 y[Copiapo,Londres] + 3.5 y[Copiapo,Liverpool] + 3.5 y[Copiapo,Roma ] + 3.5 y[Copiapo,Milan] + 3.5 y[Copiapo,Zurich] + 3.5 y[Copiapo,Berlin] + 3.5 y[Copiapo,Bruselas] + 3.5 y[Copiapo,Amsterdam] + 3.5 y[Copiapo,Dublin] + 3.5 y[Copiapo,Praga] + 3.5 y[Copiapo,Bratislava] + 3.5 y[Copiapo,Budapest] + 3.5 y[Copiapo,Atenas] + 3.5 y[Copiapo,Varsovia]>\n",
      "Subject To\n",
      "   R0 : <gurobi.LinExpr: -500.0 x[La Serena] + y[La Serena,Madrid] + y[La Serena,Paris] + y[La Serena,Londres] + y[La Serena,Liverpool] + y[La Serena,Roma ] + y[La Serena,Milan] + y[La Serena,Zurich] + y[La Serena,Berlin] + y[La Serena,Bruselas] + y[La Serena,Amsterdam] + y[La Serena,Dublin] + y[La Serena,Praga] + y[La Serena,Bratislava] + y[La Serena,Budapest] + y[La Serena,Atenas] + y[La Serena,Varsovia]> <= 0.0\n",
      "   R1 : <gurobi.LinExpr: -500.0 x[Coquimbo] + y[Coquimbo,Madrid] + y[Coquimbo,Paris] + y[Coquimbo,Londres] + y[Coquimbo,Liverpool] + y[Coquimbo,Roma ] + y[Coquimbo,Milan] + y[Coquimbo,Zurich] + y[Coquimbo,Berlin] + y[Coquimbo,Bruselas] + y[Coquimbo,Amsterdam] + y[Coquimbo,Dublin] + y[Coquimbo,Praga] + y[Coquimbo,Bratislava] + y[Coquimbo,Budapest] + y[Coquimbo,Atenas] + y[Coquimbo,Varsovia]> <= 0.0\n",
      "   R2 : <gurobi.LinExpr: -500.0 x[Antofagasta] + y[Antofagasta,Madrid] + y[Antofagasta,Paris] + y[Antofagasta,Londres] + y[Antofagasta,Liverpool] + y[Antofagasta,Roma ] + y[Antofagasta,Milan] + y[Antofagasta,Zurich] + y[Antofagasta,Berlin] + y[Antofagasta,Bruselas] + y[Antofagasta,Amsterdam] + y[Antofagasta,Dublin] + y[Antofagasta,Praga] + y[Antofagasta,Bratislava] + y[Antofagasta,Budapest] + y[Antofagasta,Atenas] + y[Antofagasta,Varsovia]> <= 0.0\n",
      "   R3 : <gurobi.LinExpr: -500.0 x[Vallenar] + y[Vallenar,Madrid] + y[Vallenar,Paris] + y[Vallenar,Londres] + y[Vallenar,Liverpool] + y[Vallenar,Roma ] + y[Vallenar,Milan] + y[Vallenar,Zurich] + y[Vallenar,Berlin] + y[Vallenar,Bruselas] + y[Vallenar,Amsterdam] + y[Vallenar,Dublin] + y[Vallenar,Praga] + y[Vallenar,Bratislava] + y[Vallenar,Budapest] + y[Vallenar,Atenas] + y[Vallenar,Varsovia]> <= 0.0\n",
      "   R4 : <gurobi.LinExpr: -500.0 x[Copiapo] + y[Copiapo,Madrid] + y[Copiapo,Paris] + y[Copiapo,Londres] + y[Copiapo,Liverpool] + y[Copiapo,Roma ] + y[Copiapo,Milan] + y[Copiapo,Zurich] + y[Copiapo,Berlin] + y[Copiapo,Bruselas] + y[Copiapo,Amsterdam] + y[Copiapo,Dublin] + y[Copiapo,Praga] + y[Copiapo,Bratislava] + y[Copiapo,Budapest] + y[Copiapo,Atenas] + y[Copiapo,Varsovia]> <= 0.0\n",
      "   R5 : <gurobi.LinExpr: y[La Serena,Madrid] + y[Coquimbo,Madrid] + y[Antofagasta,Madrid] + y[Vallenar,Madrid] + y[Copiapo,Madrid]> >= 21.0\n",
      "   R6 : <gurobi.LinExpr: y[La Serena,Paris] + y[Coquimbo,Paris] + y[Antofagasta,Paris] + y[Vallenar,Paris] + y[Copiapo,Paris]> >= 140.0\n",
      "   R7 : <gurobi.LinExpr: y[La Serena,Londres] + y[Coquimbo,Londres] + y[Antofagasta,Londres] + y[Vallenar,Londres] + y[Copiapo,Londres]> >= 150.0\n",
      "   R8 : <gurobi.LinExpr: y[La Serena,Liverpool] + y[Coquimbo,Liverpool] + y[Antofagasta,Liverpool] + y[Vallenar,Liverpool] + y[Copiapo,Liverpool]> >= 21.0\n",
      "   R9 : <gurobi.LinExpr: y[La Serena,Roma ] + y[Coquimbo,Roma ] + y[Antofagasta,Roma ] + y[Vallenar,Roma ] + y[Copiapo,Roma ]> >= 59.0\n",
      "   R10 : <gurobi.LinExpr: y[La Serena,Milan] + y[Coquimbo,Milan] + y[Antofagasta,Milan] + y[Vallenar,Milan] + y[Copiapo,Milan]> >= 98.0\n",
      "   R11 : <gurobi.LinExpr: y[La Serena,Zurich] + y[Coquimbo,Zurich] + y[Antofagasta,Zurich] + y[Vallenar,Zurich] + y[Copiapo,Zurich]> >= 182.0\n",
      "   R12 : <gurobi.LinExpr: y[La Serena,Berlin] + y[Coquimbo,Berlin] + y[Antofagasta,Berlin] + y[Vallenar,Berlin] + y[Copiapo,Berlin]> >= 111.0\n",
      "   R13 : <gurobi.LinExpr: y[La Serena,Bruselas] + y[Coquimbo,Bruselas] + y[Antofagasta,Bruselas] + y[Vallenar,Bruselas] + y[Copiapo,Bruselas]> >= 124.0\n",
      "   R14 : <gurobi.LinExpr: y[La Serena,Amsterdam] + y[Coquimbo,Amsterdam] + y[Antofagasta,Amsterdam] + y[Vallenar,Amsterdam] + y[Copiapo,Amsterdam]> >= 159.0\n",
      "   R15 : <gurobi.LinExpr: y[La Serena,Dublin] + y[Coquimbo,Dublin] + y[Antofagasta,Dublin] + y[Vallenar,Dublin] + y[Copiapo,Dublin]> >= 2.0\n",
      "   R16 : <gurobi.LinExpr: y[La Serena,Praga] + y[Coquimbo,Praga] + y[Antofagasta,Praga] + y[Vallenar,Praga] + y[Copiapo,Praga]> >= 20.0\n",
      "   R17 : <gurobi.LinExpr: y[La Serena,Bratislava] + y[Coquimbo,Bratislava] + y[Antofagasta,Bratislava] + y[Vallenar,Bratislava] + y[Copiapo,Bratislava]> >= 35.0\n",
      "   R18 : <gurobi.LinExpr: y[La Serena,Budapest] + y[Coquimbo,Budapest] + y[Antofagasta,Budapest] + y[Vallenar,Budapest] + y[Copiapo,Budapest]> >= 22.0\n",
      "   R19 : <gurobi.LinExpr: y[La Serena,Atenas] + y[Coquimbo,Atenas] + y[Antofagasta,Atenas] + y[Vallenar,Atenas] + y[Copiapo,Atenas]> >= 80.0\n",
      "   R20 : <gurobi.LinExpr: y[La Serena,Varsovia] + y[Coquimbo,Varsovia] + y[Antofagasta,Varsovia] + y[Vallenar,Varsovia] + y[Copiapo,Varsovia]> >= 75.0\n",
      "Binaries\n",
      "   ['x[La Serena]', 'x[Coquimbo]', 'x[Antofagasta]', 'x[Vallenar]', 'x[Copiapo]']\n"
     ]
    }
   ],
   "metadata": {}
  },
  {
   "cell_type": "code",
   "execution_count": 21,
   "source": [
    "#Obtener las ubicacioes activas Y\n",
    "ubi_activos=[k for k in fabrica if x[k].x > 0.9]\n",
    "for i in fabrica:\n",
    "    print(\"La fabrica:\",i)\n",
    "    for j in ciudad:\n",
    "        if y[i,j].x>0.9:\n",
    "            print(\"    transporta\",round(y[i,j].x),\"productos al nodo\",j)\n",
    "# Total producido por fabrica\n",
    "suma=[sum(y[i,j].x for j in ciudad) for i in fabrica]\n",
    "suma"
   ],
   "outputs": [
    {
     "output_type": "stream",
     "name": "stdout",
     "text": [
      "La fabrica: La Serena\n",
      "    transporta 116 productos al nodo Londres\n",
      "    transporta 59 productos al nodo Roma \n",
      "    transporta 124 productos al nodo Bruselas\n",
      "La fabrica: Coquimbo\n",
      "    transporta 21 productos al nodo Madrid\n",
      "    transporta 21 productos al nodo Liverpool\n",
      "    transporta 182 productos al nodo Zurich\n",
      "    transporta 111 productos al nodo Berlin\n",
      "    transporta 10 productos al nodo Amsterdam\n",
      "    transporta 80 productos al nodo Atenas\n",
      "    transporta 75 productos al nodo Varsovia\n",
      "La fabrica: Antofagasta\n",
      "La fabrica: Vallenar\n",
      "    transporta 140 productos al nodo Paris\n",
      "    transporta 34 productos al nodo Londres\n",
      "    transporta 98 productos al nodo Milan\n",
      "    transporta 149 productos al nodo Amsterdam\n",
      "    transporta 2 productos al nodo Dublin\n",
      "    transporta 20 productos al nodo Praga\n",
      "    transporta 35 productos al nodo Bratislava\n",
      "    transporta 22 productos al nodo Budapest\n",
      "La fabrica: Copiapo\n"
     ]
    },
    {
     "output_type": "execute_result",
     "data": {
      "text/plain": [
       "[299.0, 500.0, 0.0, 500.0, 0.0]"
      ]
     },
     "metadata": {},
     "execution_count": 21
    }
   ],
   "metadata": {}
  },
  {
   "cell_type": "code",
   "execution_count": 22,
   "source": [
    "print(\"la demanda total era de:\",Demanda.sum(),\"se envio un total de\",sum(suma),\"a los clientes de Europa\")"
   ],
   "outputs": [
    {
     "output_type": "stream",
     "name": "stdout",
     "text": [
      "la demanda total era de: 2899 se envio un total de 1299.0 a los clientes de Europa\n"
     ]
    }
   ],
   "metadata": {}
  },
  {
   "cell_type": "code",
   "execution_count": 23,
   "source": [
    "len(ciudad)*100"
   ],
   "outputs": [
    {
     "output_type": "execute_result",
     "data": {
      "text/plain": [
       "1600"
      ]
     },
     "metadata": {},
     "execution_count": 23
    }
   ],
   "metadata": {}
  },
  {
   "cell_type": "markdown",
   "source": [
    "# **Parte 2**"
   ],
   "metadata": {}
  },
  {
   "cell_type": "code",
   "execution_count": 24,
   "source": [
    "a={(k,j):1 if dist[(k,j)]<=800 else 0 for k in DC for j in ciudad}\n",
    "fabrica2=['La Serena','Antofagasta']"
   ],
   "outputs": [],
   "metadata": {}
  },
  {
   "cell_type": "code",
   "execution_count": 25,
   "source": [
    "#Crear modelo de Gurobi\n",
    "m=Model(\"Verano Feliz en Europa- v2\")"
   ],
   "outputs": [],
   "metadata": {}
  },
  {
   "cell_type": "markdown",
   "source": [
    "## **Variables de decisión**\n",
    "\n",
    "- $y_{ik} = \\; \\; cantidad \\; de \\;productos \\;enviados \\;desde\\;la \\;fabrica \\;i \\;al \\;CD \\;k $\n",
    "- $z_{kj} = \\; \\; cantidad \\; de \\;productos \\;enviados \\;desde\\; \\;centro \\;de \\;distribución \\;k  \\;al \\;nodo \\;i$\n",
    "- $w_{k} = 1 \\;cuando \\;se \\;decide \\;utilizar \\;el \\;CD \\;k. \\;0 \\;de \\;otra \\;manera$."
   ],
   "metadata": {}
  },
  {
   "cell_type": "code",
   "execution_count": 26,
   "source": [
    "#Crear variables de desicion\n",
    "y=m.addVars(arcos1, name='y',vtype=GRB.CONTINUOUS)# cantidad transportada de i a k\n",
    "z=m.addVars(arcos2, name='z',vtype=GRB.CONTINUOUS) #del cd k a la ubicaciones j\n",
    "w=m.addVars(DC, name='w',vtype=GRB.BINARY)# si se usa el centro de distribucion k"
   ],
   "outputs": [],
   "metadata": {}
  },
  {
   "cell_type": "markdown",
   "source": [
    "## **Función Objetivo**\n",
    "\n",
    "$Min \\; Z= CostoFijoCD + TransporteChileCD + TransporteCDcliente + CostoManufactura + ManejoCD$"
   ],
   "metadata": {}
  },
  {
   "cell_type": "code",
   "execution_count": 27,
   "source": [
    "CostoFijoCD=quicksum(w[k]*FijoDC[k] for k in DC)\n",
    "TransChDC=quicksum(y[i,k]*cTransEuro[i] for k in DC for i in fabrica)\n",
    "TransCiudad=quicksum(dist[k,j]*z[k,j] for k in DC for j in ciudad)\n",
    "ManejoCD=quicksum(variableDC[k]*z[k,j] for k in DC for j in ciudad)\n",
    "cManufactura=quicksum(cVariable[i]*y[i,k] for i in fabrica for k in DC)\n",
    "\n",
    "Z=CostoFijoCD+ManejoCD+TransChDC+TransCiudad+cManufactura\n",
    "\n",
    "m.setObjective(Z,GRB.MINIMIZE)"
   ],
   "outputs": [],
   "metadata": {}
  },
  {
   "cell_type": "markdown",
   "source": [
    "## **Restricciones**"
   ],
   "metadata": {}
  },
  {
   "cell_type": "markdown",
   "source": [
    "### Capacidad"
   ],
   "metadata": {}
  },
  {
   "cell_type": "code",
   "execution_count": 28,
   "source": [
    "m.addConstrs(quicksum(y[i,K] for K in DC)<=CapFabrica[i] for i in fabrica2)"
   ],
   "outputs": [
    {
     "output_type": "execute_result",
     "data": {
      "text/plain": [
       "{'La Serena': <gurobi.Constr *Awaiting Model Update*>,\n",
       " 'Antofagasta': <gurobi.Constr *Awaiting Model Update*>}"
      ]
     },
     "metadata": {},
     "execution_count": 28
    }
   ],
   "metadata": {}
  },
  {
   "cell_type": "markdown",
   "source": [
    "## Demanda"
   ],
   "metadata": {}
  },
  {
   "cell_type": "code",
   "execution_count": 29,
   "source": [
    "m.addConstrs(quicksum(z[k,j] for k in DC)>=Demanda[j] for j in ciudad)"
   ],
   "outputs": [
    {
     "output_type": "execute_result",
     "data": {
      "text/plain": [
       "{'Madrid': <gurobi.Constr *Awaiting Model Update*>,\n",
       " 'Paris': <gurobi.Constr *Awaiting Model Update*>,\n",
       " 'Londres': <gurobi.Constr *Awaiting Model Update*>,\n",
       " 'Liverpool': <gurobi.Constr *Awaiting Model Update*>,\n",
       " 'Roma ': <gurobi.Constr *Awaiting Model Update*>,\n",
       " 'Milan': <gurobi.Constr *Awaiting Model Update*>,\n",
       " 'Zurich': <gurobi.Constr *Awaiting Model Update*>,\n",
       " 'Berlin': <gurobi.Constr *Awaiting Model Update*>,\n",
       " 'Bruselas': <gurobi.Constr *Awaiting Model Update*>,\n",
       " 'Amsterdam': <gurobi.Constr *Awaiting Model Update*>,\n",
       " 'Dublin': <gurobi.Constr *Awaiting Model Update*>,\n",
       " 'Praga': <gurobi.Constr *Awaiting Model Update*>,\n",
       " 'Bratislava': <gurobi.Constr *Awaiting Model Update*>,\n",
       " 'Budapest': <gurobi.Constr *Awaiting Model Update*>,\n",
       " 'Atenas': <gurobi.Constr *Awaiting Model Update*>,\n",
       " 'Varsovia': <gurobi.Constr *Awaiting Model Update*>}"
      ]
     },
     "metadata": {},
     "execution_count": 29
    }
   ],
   "metadata": {}
  },
  {
   "cell_type": "markdown",
   "source": [
    "## **Balance**"
   ],
   "metadata": {}
  },
  {
   "cell_type": "code",
   "execution_count": 30,
   "source": [
    "m.addConstrs(quicksum(z[k,j] for j in ciudad)==quicksum(y[i,k] for i in fabrica2) for k in DC)"
   ],
   "outputs": [
    {
     "output_type": "execute_result",
     "data": {
      "text/plain": [
       "{'Madrid': <gurobi.Constr *Awaiting Model Update*>,\n",
       " 'Paris': <gurobi.Constr *Awaiting Model Update*>,\n",
       " 'Liverpool': <gurobi.Constr *Awaiting Model Update*>,\n",
       " 'Milan': <gurobi.Constr *Awaiting Model Update*>,\n",
       " 'Berlin': <gurobi.Constr *Awaiting Model Update*>,\n",
       " 'Bruselas': <gurobi.Constr *Awaiting Model Update*>,\n",
       " 'Amsterdam': <gurobi.Constr *Awaiting Model Update*>,\n",
       " 'Budapest': <gurobi.Constr *Awaiting Model Update*>,\n",
       " 'Varsovia': <gurobi.Constr *Awaiting Model Update*>}"
      ]
     },
     "metadata": {},
     "execution_count": 30
    }
   ],
   "metadata": {}
  },
  {
   "cell_type": "markdown",
   "source": [
    "## **Capacidad CD**"
   ],
   "metadata": {}
  },
  {
   "cell_type": "code",
   "execution_count": 31,
   "source": [
    "m.addConstrs(quicksum(z[k,j] for j in ciudad)<=CapDC[k]*w[k] for k in DC)"
   ],
   "outputs": [
    {
     "output_type": "execute_result",
     "data": {
      "text/plain": [
       "{'Madrid': <gurobi.Constr *Awaiting Model Update*>,\n",
       " 'Paris': <gurobi.Constr *Awaiting Model Update*>,\n",
       " 'Liverpool': <gurobi.Constr *Awaiting Model Update*>,\n",
       " 'Milan': <gurobi.Constr *Awaiting Model Update*>,\n",
       " 'Berlin': <gurobi.Constr *Awaiting Model Update*>,\n",
       " 'Bruselas': <gurobi.Constr *Awaiting Model Update*>,\n",
       " 'Amsterdam': <gurobi.Constr *Awaiting Model Update*>,\n",
       " 'Budapest': <gurobi.Constr *Awaiting Model Update*>,\n",
       " 'Varsovia': <gurobi.Constr *Awaiting Model Update*>}"
      ]
     },
     "metadata": {},
     "execution_count": 31
    }
   ],
   "metadata": {}
  },
  {
   "cell_type": "markdown",
   "source": [
    "## **Distancia Promedio**"
   ],
   "metadata": {}
  },
  {
   "cell_type": "code",
   "execution_count": 32,
   "source": [
    "m.addConstr(quicksum(z[k,j]*dist[k,j] for k in DC for j in ciudad)/Demanda.sum()<=800)"
   ],
   "outputs": [
    {
     "output_type": "execute_result",
     "data": {
      "text/plain": [
       "<gurobi.Constr *Awaiting Model Update*>"
      ]
     },
     "metadata": {},
     "execution_count": 32
    }
   ],
   "metadata": {}
  },
  {
   "cell_type": "markdown",
   "source": [
    "## **Nivel de Servicio**"
   ],
   "metadata": {}
  },
  {
   "cell_type": "code",
   "execution_count": 33,
   "source": [
    "m.addConstr(quicksum(z[k,j]*a[k,j] for k in DC for j in ciudad)/Demanda.sum()>=0.5)"
   ],
   "outputs": [
    {
     "output_type": "execute_result",
     "data": {
      "text/plain": [
       "<gurobi.Constr *Awaiting Model Update*>"
      ]
     },
     "metadata": {},
     "execution_count": 33
    }
   ],
   "metadata": {}
  },
  {
   "cell_type": "code",
   "execution_count": 34,
   "source": [
    "m.optimize()"
   ],
   "outputs": [
    {
     "output_type": "stream",
     "name": "stdout",
     "text": [
      "Gurobi Optimizer version 9.1.2 build v9.1.2rc0 (win64)\n",
      "Thread count: 4 physical cores, 8 logical processors, using up to 8 threads\n",
      "Optimize a model with 38 rows, 198 columns and 683 nonzeros\n",
      "Model fingerprint: 0x65cd3c24\n",
      "Variable types: 189 continuous, 9 integer (9 binary)\n",
      "Coefficient statistics:\n",
      "  Matrix range     [3e-04, 8e+02]\n",
      "  Objective range  [3e+00, 6e+04]\n",
      "  Bounds range     [1e+00, 1e+00]\n",
      "  RHS range        [5e-01, 2e+03]\n",
      "Presolve removed 0 rows and 27 columns\n",
      "Presolve time: 0.00s\n",
      "Presolved: 38 rows, 171 columns, 683 nonzeros\n",
      "Variable types: 162 continuous, 9 integer (9 binary)\n",
      "\n",
      "Root relaxation: objective 8.736751e+05, 41 iterations, 0.00 seconds\n",
      "\n",
      "    Nodes    |    Current Node    |     Objective Bounds      |     Work\n",
      " Expl Unexpl |  Obj  Depth IntInf | Incumbent    BestBd   Gap | It/Node Time\n",
      "\n",
      "     0     0 873675.097    0    8          - 873675.097      -     -    0s\n",
      "H    0     0                    1049364.5100 873675.097  16.7%     -    0s\n",
      "H    0     0                    1030939.9100 873675.097  15.3%     -    0s\n",
      "     0     0     cutoff    0      1030939.91 1030939.91  0.00%     -    0s\n",
      "\n",
      "Cutting planes:\n",
      "  MIR: 6\n",
      "  Flow cover: 4\n",
      "\n",
      "Explored 1 nodes (57 simplex iterations) in 0.03 seconds\n",
      "Thread count was 8 (of 8 available processors)\n",
      "\n",
      "Solution count 2: 1.03094e+06 1.04936e+06 \n",
      "\n",
      "Optimal solution found (tolerance 1.00e-04)\n",
      "Best objective 1.030939910000e+06, best bound 1.030939910000e+06, gap 0.0000%\n"
     ]
    }
   ],
   "metadata": {}
  },
  {
   "cell_type": "code",
   "execution_count": 35,
   "source": [
    "#Estado de la solución\n",
    "if m.status==2:\n",
    "    print(\"Función Objetivo: \",str(round(m.objVal,2)))\n",
    "    for v in m.getVars():\n",
    "        if v.x>0:\n",
    "            print(str(v.VarName)+\"=\"+str(round(v.x,2)))\n",
    "else:\n",
    "    print(\"Solución Infactible\")"
   ],
   "outputs": [
    {
     "output_type": "stream",
     "name": "stdout",
     "text": [
      "Función Objetivo:  1030939.91\n",
      "y[La Serena,Paris]=44.0\n",
      "y[La Serena,Liverpool]=473.0\n",
      "y[La Serena,Berlin]=331.0\n",
      "y[La Serena,Amsterdam]=483.0\n",
      "y[La Serena,Budapest]=494.0\n",
      "y[La Serena,Varsovia]=175.0\n",
      "y[Antofagasta,Madrid]=121.0\n",
      "y[Antofagasta,Paris]=478.0\n",
      "y[Antofagasta,Milan]=300.0\n",
      "z[Madrid,Madrid]=121.0\n",
      "z[Paris,Paris]=240.0\n",
      "z[Liverpool,Londres]=250.0\n",
      "z[Liverpool,Liverpool]=121.0\n",
      "z[Milan,Roma ]=102.0\n",
      "z[Budapest,Roma ]=57.0\n",
      "z[Milan,Milan]=198.0\n",
      "z[Paris,Zurich]=282.0\n",
      "z[Berlin,Berlin]=211.0\n",
      "z[Amsterdam,Bruselas]=224.0\n",
      "z[Amsterdam,Amsterdam]=259.0\n",
      "z[Liverpool,Dublin]=102.0\n",
      "z[Berlin,Praga]=120.0\n",
      "z[Budapest,Bratislava]=135.0\n",
      "z[Budapest,Budapest]=122.0\n",
      "z[Budapest,Atenas]=180.0\n",
      "z[Varsovia,Varsovia]=175.0\n",
      "w[Madrid]=1.0\n",
      "w[Paris]=1.0\n",
      "w[Liverpool]=1.0\n",
      "w[Milan]=1.0\n",
      "w[Berlin]=1.0\n",
      "w[Amsterdam]=1.0\n",
      "w[Budapest]=1.0\n",
      "w[Varsovia]=1.0\n"
     ]
    }
   ],
   "metadata": {}
  },
  {
   "cell_type": "code",
   "execution_count": 36,
   "source": [
    "m.objVal"
   ],
   "outputs": [
    {
     "output_type": "execute_result",
     "data": {
      "text/plain": [
       "1030939.91"
      ]
     },
     "metadata": {},
     "execution_count": 36
    }
   ],
   "metadata": {}
  },
  {
   "cell_type": "code",
   "execution_count": 37,
   "source": [
    "#Ver la solución\n",
    "m.display()"
   ],
   "outputs": [
    {
     "output_type": "stream",
     "name": "stdout",
     "text": [
      "Minimize\n",
      "   <gurobi.LinExpr: 3.0 y[La Serena,Madrid] + 3.0 y[La Serena,Paris] + 3.0 y[La Serena,Liverpool] + 3.0 y[La Serena,Milan] + 3.0 y[La Serena,Berlin] + 3.0 y[La Serena,Bruselas] + 3.0 y[La Serena,Amsterdam] + 3.0 y[La Serena,Budapest] + 3.0 y[La Serena,Varsovia] + 2.8 y[Coquimbo,Madrid] + 2.8 y[Coquimbo,Paris] + 2.8 y[Coquimbo,Liverpool] + 2.8 y[Coquimbo,Milan] + 2.8 y[Coquimbo,Berlin] + 2.8 y[Coquimbo,Bruselas] + 2.8 y[Coquimbo,Amsterdam] + 2.8 y[Coquimbo,Budapest] + 2.8 y[Coquimbo,Varsovia] + 3.5 y[Antofagasta,Madrid] + 3.5 y[Antofagasta,Paris] + 3.5 y[Antofagasta,Liverpool] + 3.5 y[Antofagasta,Milan] + 3.5 y[Antofagasta,Berlin] + 3.5 y[Antofagasta,Bruselas] + 3.5 y[Antofagasta,Amsterdam] + 3.5 y[Antofagasta,Budapest] + 3.5 y[Antofagasta,Varsovia] + 3.0 y[Vallenar,Madrid] + 3.0 y[Vallenar,Paris] + 3.0 y[Vallenar,Liverpool] + 3.0 y[Vallenar,Milan] + 3.0 y[Vallenar,Berlin] + 3.0 y[Vallenar,Bruselas] + 3.0 y[Vallenar,Amsterdam] + 3.0 y[Vallenar,Budapest] + 3.0 y[Vallenar,Varsovia] + 3.5 y[Copiapo,Madrid] + 3.5 y[Copiapo,Paris] + 3.5 y[Copiapo,Liverpool] + 3.5 y[Copiapo,Milan] + 3.5 y[Copiapo,Berlin] + 3.5 y[Copiapo,Bruselas] + 3.5 y[Copiapo,Amsterdam] + 3.5 y[Copiapo,Budapest] + 3.5 y[Copiapo,Varsovia] + 14.0 z[Madrid,Madrid] + 1054.97 z[Paris,Madrid] + 1449.26 z[Liverpool,Madrid] + 1195.45 z[Milan,Madrid] + 1875.43 z[Berlin,Madrid] + 1322.97 z[Bruselas,Madrid] + 1484.41 z[Amsterdam,Madrid] + 1981.45 z[Budapest,Madrid] + 2295.0 z[Varsovia,Madrid] + 1056.97 z[Madrid,Paris] + 12.0 z[Paris,Paris] + 633.18 z[Liverpool,Paris] + 645.74 z[Milan,Paris] + 883.69 z[Berlin,Paris] + 270.27 z[Bruselas,Paris] + 432.87 z[Amsterdam,Paris] + 1250.68 z[Budapest,Paris] + 1371.54 z[Varsovia,Paris] + 1267.1 z[Madrid,Londres] + 345.92 z[Paris,Londres] + 291.43 z[Liverpool,Londres] + 965.88 z[Milan,Londres] + 938.52 z[Berlin,Londres] + 327.6 z[Bruselas,Londres] + 361.31 z[Amsterdam,Londres] + 1456.28 z[Budapest,Londres] + 1454.14 z[Varsovia,Londres] + 1449.26 z[Madrid,Liverpool] + 631.18 z[Paris,Liverpool] + 14.0 z[Liverpool,Liverpool] + 1251.27 z[Milan,Liverpool] + 1107.69 z[Berlin,Liverpool] + 583.43 z[Bruselas,Liverpool] + 546.03 z[Amsterdam,Liverpool] + 1691.43 z[Budapest,Liverpool] + 1616.88 z[Varsovia,Liverpool] + 1371.6 z[Madrid,Roma ] + 1108.6 z[Paris,Roma ] + 1725.78 z[Liverpool,Roma ] + 482.03 z[Milan,Roma ] + 1186.35 z[Berlin,Roma ] + 1179.92 z[Bruselas,Roma ] + 1299.71 z[Amsterdam,Roma ] + 812.07 z[Budapest,Roma ] + 1316.68 z[Varsovia,Roma ] + 1194.45 z[Madrid,Milan] + 642.74 z[Paris,Milan] + 1250.27 z[Liverpool,Milan] + 15.0 z[Milan,Milan] + 846.76 z[Berlin,Milan] + 704.4 z[Bruselas,Milan] + 832.29 z[Amsterdam,Milan] + 791.82 z[Budapest,Milan] + 1146.92 z[Varsovia,Milan] + 1252.9 z[Madrid,Zurich] + 491.17 z[Paris,Zurich] + 1061.38 z[Liverpool,Zurich] + 223.37 z[Milan,Zurich] + 673.79 z[Berlin,Zurich] + 498.57 z[Bruselas,Zurich] + 616.61 z[Amsterdam,Zurich] + 794.45 z[Budapest,Zurich] + 1046.41 z[Varsovia,Zurich] + 1875.43 z[Madrid,Berlin] + 881.69 z[Paris,Berlin] + 1107.69 z[Liverpool,Berlin] + 847.76 z[Milan,Berlin] + 14.0 z[Berlin,Berlin] + 658.58 z[Bruselas,Berlin] + 581.6 z[Amsterdam,Berlin] + 691.9 z[Budapest,Berlin] + 519.84 z[Varsovia,Berlin] + 1320.97 z[Madrid,Bruselas] + 266.27 z[Paris,Bruselas] + 581.43 z[Liverpool,Bruselas] + 703.4 z[Milan,Bruselas] + 656.58 z[Berlin,Bruselas] + 16.0 z[Bruselas,Bruselas] + 175.85 z[Amsterdam,Bruselas] + 1134.76 z[Budapest,Bruselas] + 1164.4 z[Varsovia,Bruselas] + 1485.41 z[Madrid,Amsterdam] + 431.87 z[Paris,Amsterdam] + 547.03 z[Liverpool,Amsterdam] + 834.29 z[Milan,Amsterdam] + 582.6 z[Berlin,Amsterdam] + 178.85 z[Bruselas,Amsterdam] + 13.0 z[Amsterdam,Amsterdam] + 1151.22 z[Budapest,Amsterdam] + 1098.39 z[Varsovia,Amsterdam] + 1454.64 z[Madrid,Dublin] + 784.5 z[Paris,Dublin] + 221.61 z[Liverpool,Dublin] + 1423.42 z[Milan,Dublin] + 1325.27 z[Berlin,Dublin] + 783.63 z[Bruselas,Dublin] + 761.48 z[Amsterdam,Dublin] + 1902.97 z[Budapest,Dublin] + 1833.86 z[Varsovia,Dublin] + 1779.59 z[Madrid,Praga] + 887.46 z[Paris,Praga] + 1260.01 z[Liverpool,Praga] + 650.88 z[Milan,Praga] + 285.33 z[Berlin,Praga] + 726.75 z[Bruselas,Praga] + 716.12 z[Amsterdam,Praga] + 446.19 z[Budapest,Praga] + 519.41 z[Varsovia,Praga] + 1865.96 z[Madrid,Bratislava] + 1093.51 z[Paris,Bratislava] + 1531.05 z[Liverpool,Bratislava] + 678.58 z[Milan,Bratislava] + 556.95 z[Berlin,Bratislava] + 976.18 z[Bruselas,Bratislava] + 990.5 z[Amsterdam,Bratislava] + 164.78 z[Budapest,Bratislava] + 533.57 z[Varsovia,Bratislava] + 1982.45 z[Madrid,Budapest] + 1249.68 z[Paris,Budapest] + 1692.43 z[Liverpool,Budapest] + 793.82 z[Milan,Budapest] + 692.9 z[Berlin,Budapest] + 1137.76 z[Bruselas,Budapest] + 1151.22 z[Amsterdam,Budapest] + 13.0 z[Budapest,Budapest] + 546.0 z[Varsovia,Budapest] + 2379.28 z[Madrid,Atenas] + 2101.04 z[Paris,Atenas] + 2672.4 z[Liverpool,Atenas] + 1468.89 z[Milan,Atenas] + 1807.12 z[Berlin,Atenas] + 2097.71 z[Bruselas,Atenas] + 2168.63 z[Amsterdam,Atenas] + 1126.88 z[Budapest,Atenas] + 1598.26 z[Varsovia,Atenas] + 2298.0 z[Madrid,Varsovia] + 1372.54 z[Paris,Varsovia] + 1619.88 z[Liverpool,Varsovia] + 1150.92 z[Milan,Varsovia] + 522.84 z[Berlin,Varsovia] + 1169.4 z[Bruselas,Varsovia] + 1100.39 z[Amsterdam,Varsovia] + 548.0 z[Budapest,Varsovia] + 11.0 z[Varsovia,Varsovia] + 25472.0 w[Madrid] + 48005.0 w[Paris] + 45563.0 w[Liverpool] + 48274.0 w[Milan] + 54988.0 w[Berlin] + 54231.0 w[Bruselas] + 38114.0 w[Amsterdam] + 59699.0 w[Budapest] + 54468.0 w[Varsovia]>\n",
      "Subject To\n",
      "   R0 : <gurobi.LinExpr: y[La Serena,Madrid] + y[La Serena,Paris] + y[La Serena,Liverpool] + y[La Serena,Milan] + y[La Serena,Berlin] + y[La Serena,Bruselas] + y[La Serena,Amsterdam] + y[La Serena,Budapest] + y[La Serena,Varsovia]> <= 2000.0\n",
      "   R1 : <gurobi.LinExpr: y[Antofagasta,Madrid] + y[Antofagasta,Paris] + y[Antofagasta,Liverpool] + y[Antofagasta,Milan] + y[Antofagasta,Berlin] + y[Antofagasta,Bruselas] + y[Antofagasta,Amsterdam] + y[Antofagasta,Budapest] + y[Antofagasta,Varsovia]> <= 2000.0\n",
      "   R2 : <gurobi.LinExpr: z[Madrid,Madrid] + z[Paris,Madrid] + z[Liverpool,Madrid] + z[Milan,Madrid] + z[Berlin,Madrid] + z[Bruselas,Madrid] + z[Amsterdam,Madrid] + z[Budapest,Madrid] + z[Varsovia,Madrid]> >= 121.0\n",
      "   R3 : <gurobi.LinExpr: z[Madrid,Paris] + z[Paris,Paris] + z[Liverpool,Paris] + z[Milan,Paris] + z[Berlin,Paris] + z[Bruselas,Paris] + z[Amsterdam,Paris] + z[Budapest,Paris] + z[Varsovia,Paris]> >= 240.0\n",
      "   R4 : <gurobi.LinExpr: z[Madrid,Londres] + z[Paris,Londres] + z[Liverpool,Londres] + z[Milan,Londres] + z[Berlin,Londres] + z[Bruselas,Londres] + z[Amsterdam,Londres] + z[Budapest,Londres] + z[Varsovia,Londres]> >= 250.0\n",
      "   R5 : <gurobi.LinExpr: z[Madrid,Liverpool] + z[Paris,Liverpool] + z[Liverpool,Liverpool] + z[Milan,Liverpool] + z[Berlin,Liverpool] + z[Bruselas,Liverpool] + z[Amsterdam,Liverpool] + z[Budapest,Liverpool] + z[Varsovia,Liverpool]> >= 121.0\n",
      "   R6 : <gurobi.LinExpr: z[Madrid,Roma ] + z[Paris,Roma ] + z[Liverpool,Roma ] + z[Milan,Roma ] + z[Berlin,Roma ] + z[Bruselas,Roma ] + z[Amsterdam,Roma ] + z[Budapest,Roma ] + z[Varsovia,Roma ]> >= 159.0\n",
      "   R7 : <gurobi.LinExpr: z[Madrid,Milan] + z[Paris,Milan] + z[Liverpool,Milan] + z[Milan,Milan] + z[Berlin,Milan] + z[Bruselas,Milan] + z[Amsterdam,Milan] + z[Budapest,Milan] + z[Varsovia,Milan]> >= 198.0\n",
      "   R8 : <gurobi.LinExpr: z[Madrid,Zurich] + z[Paris,Zurich] + z[Liverpool,Zurich] + z[Milan,Zurich] + z[Berlin,Zurich] + z[Bruselas,Zurich] + z[Amsterdam,Zurich] + z[Budapest,Zurich] + z[Varsovia,Zurich]> >= 282.0\n",
      "   R9 : <gurobi.LinExpr: z[Madrid,Berlin] + z[Paris,Berlin] + z[Liverpool,Berlin] + z[Milan,Berlin] + z[Berlin,Berlin] + z[Bruselas,Berlin] + z[Amsterdam,Berlin] + z[Budapest,Berlin] + z[Varsovia,Berlin]> >= 211.0\n",
      "   R10 : <gurobi.LinExpr: z[Madrid,Bruselas] + z[Paris,Bruselas] + z[Liverpool,Bruselas] + z[Milan,Bruselas] + z[Berlin,Bruselas] + z[Bruselas,Bruselas] + z[Amsterdam,Bruselas] + z[Budapest,Bruselas] + z[Varsovia,Bruselas]> >= 224.0\n",
      "   R11 : <gurobi.LinExpr: z[Madrid,Amsterdam] + z[Paris,Amsterdam] + z[Liverpool,Amsterdam] + z[Milan,Amsterdam] + z[Berlin,Amsterdam] + z[Bruselas,Amsterdam] + z[Amsterdam,Amsterdam] + z[Budapest,Amsterdam] + z[Varsovia,Amsterdam]> >= 259.0\n",
      "   R12 : <gurobi.LinExpr: z[Madrid,Dublin] + z[Paris,Dublin] + z[Liverpool,Dublin] + z[Milan,Dublin] + z[Berlin,Dublin] + z[Bruselas,Dublin] + z[Amsterdam,Dublin] + z[Budapest,Dublin] + z[Varsovia,Dublin]> >= 102.0\n",
      "   R13 : <gurobi.LinExpr: z[Madrid,Praga] + z[Paris,Praga] + z[Liverpool,Praga] + z[Milan,Praga] + z[Berlin,Praga] + z[Bruselas,Praga] + z[Amsterdam,Praga] + z[Budapest,Praga] + z[Varsovia,Praga]> >= 120.0\n",
      "   R14 : <gurobi.LinExpr: z[Madrid,Bratislava] + z[Paris,Bratislava] + z[Liverpool,Bratislava] + z[Milan,Bratislava] + z[Berlin,Bratislava] + z[Bruselas,Bratislava] + z[Amsterdam,Bratislava] + z[Budapest,Bratislava] + z[Varsovia,Bratislava]> >= 135.0\n",
      "   R15 : <gurobi.LinExpr: z[Madrid,Budapest] + z[Paris,Budapest] + z[Liverpool,Budapest] + z[Milan,Budapest] + z[Berlin,Budapest] + z[Bruselas,Budapest] + z[Amsterdam,Budapest] + z[Budapest,Budapest] + z[Varsovia,Budapest]> >= 122.0\n",
      "   R16 : <gurobi.LinExpr: z[Madrid,Atenas] + z[Paris,Atenas] + z[Liverpool,Atenas] + z[Milan,Atenas] + z[Berlin,Atenas] + z[Bruselas,Atenas] + z[Amsterdam,Atenas] + z[Budapest,Atenas] + z[Varsovia,Atenas]> >= 180.0\n",
      "   R17 : <gurobi.LinExpr: z[Madrid,Varsovia] + z[Paris,Varsovia] + z[Liverpool,Varsovia] + z[Milan,Varsovia] + z[Berlin,Varsovia] + z[Bruselas,Varsovia] + z[Amsterdam,Varsovia] + z[Budapest,Varsovia] + z[Varsovia,Varsovia]> >= 175.0\n",
      "   R18 : <gurobi.LinExpr: -1.0 y[La Serena,Madrid] + -1.0 y[Antofagasta,Madrid] + z[Madrid,Madrid] + z[Madrid,Paris] + z[Madrid,Londres] + z[Madrid,Liverpool] + z[Madrid,Roma ] + z[Madrid,Milan] + z[Madrid,Zurich] + z[Madrid,Berlin] + z[Madrid,Bruselas] + z[Madrid,Amsterdam] + z[Madrid,Dublin] + z[Madrid,Praga] + z[Madrid,Bratislava] + z[Madrid,Budapest] + z[Madrid,Atenas] + z[Madrid,Varsovia]> = 0.0\n",
      "   R19 : <gurobi.LinExpr: -1.0 y[La Serena,Paris] + -1.0 y[Antofagasta,Paris] + z[Paris,Madrid] + z[Paris,Paris] + z[Paris,Londres] + z[Paris,Liverpool] + z[Paris,Roma ] + z[Paris,Milan] + z[Paris,Zurich] + z[Paris,Berlin] + z[Paris,Bruselas] + z[Paris,Amsterdam] + z[Paris,Dublin] + z[Paris,Praga] + z[Paris,Bratislava] + z[Paris,Budapest] + z[Paris,Atenas] + z[Paris,Varsovia]> = 0.0\n",
      "   R20 : <gurobi.LinExpr: -1.0 y[La Serena,Liverpool] + -1.0 y[Antofagasta,Liverpool] + z[Liverpool,Madrid] + z[Liverpool,Paris] + z[Liverpool,Londres] + z[Liverpool,Liverpool] + z[Liverpool,Roma ] + z[Liverpool,Milan] + z[Liverpool,Zurich] + z[Liverpool,Berlin] + z[Liverpool,Bruselas] + z[Liverpool,Amsterdam] + z[Liverpool,Dublin] + z[Liverpool,Praga] + z[Liverpool,Bratislava] + z[Liverpool,Budapest] + z[Liverpool,Atenas] + z[Liverpool,Varsovia]> = 0.0\n",
      "   R21 : <gurobi.LinExpr: -1.0 y[La Serena,Milan] + -1.0 y[Antofagasta,Milan] + z[Milan,Madrid] + z[Milan,Paris] + z[Milan,Londres] + z[Milan,Liverpool] + z[Milan,Roma ] + z[Milan,Milan] + z[Milan,Zurich] + z[Milan,Berlin] + z[Milan,Bruselas] + z[Milan,Amsterdam] + z[Milan,Dublin] + z[Milan,Praga] + z[Milan,Bratislava] + z[Milan,Budapest] + z[Milan,Atenas] + z[Milan,Varsovia]> = 0.0\n",
      "   R22 : <gurobi.LinExpr: -1.0 y[La Serena,Berlin] + -1.0 y[Antofagasta,Berlin] + z[Berlin,Madrid] + z[Berlin,Paris] + z[Berlin,Londres] + z[Berlin,Liverpool] + z[Berlin,Roma ] + z[Berlin,Milan] + z[Berlin,Zurich] + z[Berlin,Berlin] + z[Berlin,Bruselas] + z[Berlin,Amsterdam] + z[Berlin,Dublin] + z[Berlin,Praga] + z[Berlin,Bratislava] + z[Berlin,Budapest] + z[Berlin,Atenas] + z[Berlin,Varsovia]> = 0.0\n",
      "   R23 : <gurobi.LinExpr: -1.0 y[La Serena,Bruselas] + -1.0 y[Antofagasta,Bruselas] + z[Bruselas,Madrid] + z[Bruselas,Paris] + z[Bruselas,Londres] + z[Bruselas,Liverpool] + z[Bruselas,Roma ] + z[Bruselas,Milan] + z[Bruselas,Zurich] + z[Bruselas,Berlin] + z[Bruselas,Bruselas] + z[Bruselas,Amsterdam] + z[Bruselas,Dublin] + z[Bruselas,Praga] + z[Bruselas,Bratislava] + z[Bruselas,Budapest] + z[Bruselas,Atenas] + z[Bruselas,Varsovia]> = 0.0\n",
      "   R24 : <gurobi.LinExpr: -1.0 y[La Serena,Amsterdam] + -1.0 y[Antofagasta,Amsterdam] + z[Amsterdam,Madrid] + z[Amsterdam,Paris] + z[Amsterdam,Londres] + z[Amsterdam,Liverpool] + z[Amsterdam,Roma ] + z[Amsterdam,Milan] + z[Amsterdam,Zurich] + z[Amsterdam,Berlin] + z[Amsterdam,Bruselas] + z[Amsterdam,Amsterdam] + z[Amsterdam,Dublin] + z[Amsterdam,Praga] + z[Amsterdam,Bratislava] + z[Amsterdam,Budapest] + z[Amsterdam,Atenas] + z[Amsterdam,Varsovia]> = 0.0\n",
      "   R25 : <gurobi.LinExpr: -1.0 y[La Serena,Budapest] + -1.0 y[Antofagasta,Budapest] + z[Budapest,Madrid] + z[Budapest,Paris] + z[Budapest,Londres] + z[Budapest,Liverpool] + z[Budapest,Roma ] + z[Budapest,Milan] + z[Budapest,Zurich] + z[Budapest,Berlin] + z[Budapest,Bruselas] + z[Budapest,Amsterdam] + z[Budapest,Dublin] + z[Budapest,Praga] + z[Budapest,Bratislava] + z[Budapest,Budapest] + z[Budapest,Atenas] + z[Budapest,Varsovia]> = 0.0\n",
      "   R26 : <gurobi.LinExpr: -1.0 y[La Serena,Varsovia] + -1.0 y[Antofagasta,Varsovia] + z[Varsovia,Madrid] + z[Varsovia,Paris] + z[Varsovia,Londres] + z[Varsovia,Liverpool] + z[Varsovia,Roma ] + z[Varsovia,Milan] + z[Varsovia,Zurich] + z[Varsovia,Berlin] + z[Varsovia,Bruselas] + z[Varsovia,Amsterdam] + z[Varsovia,Dublin] + z[Varsovia,Praga] + z[Varsovia,Bratislava] + z[Varsovia,Budapest] + z[Varsovia,Atenas] + z[Varsovia,Varsovia]> = 0.0\n",
      "   R27 : <gurobi.LinExpr: z[Madrid,Madrid] + z[Madrid,Paris] + z[Madrid,Londres] + z[Madrid,Liverpool] + z[Madrid,Roma ] + z[Madrid,Milan] + z[Madrid,Zurich] + z[Madrid,Berlin] + z[Madrid,Bruselas] + z[Madrid,Amsterdam] + z[Madrid,Dublin] + z[Madrid,Praga] + z[Madrid,Bratislava] + z[Madrid,Budapest] + z[Madrid,Atenas] + z[Madrid,Varsovia] + -750.0 w[Madrid]> <= 0.0\n",
      "   R28 : <gurobi.LinExpr: z[Paris,Madrid] + z[Paris,Paris] + z[Paris,Londres] + z[Paris,Liverpool] + z[Paris,Roma ] + z[Paris,Milan] + z[Paris,Zurich] + z[Paris,Berlin] + z[Paris,Bruselas] + z[Paris,Amsterdam] + z[Paris,Dublin] + z[Paris,Praga] + z[Paris,Bratislava] + z[Paris,Budapest] + z[Paris,Atenas] + z[Paris,Varsovia] + -800.0 w[Paris]> <= 0.0\n",
      "   R29 : <gurobi.LinExpr: z[Liverpool,Madrid] + z[Liverpool,Paris] + z[Liverpool,Londres] + z[Liverpool,Liverpool] + z[Liverpool,Roma ] + z[Liverpool,Milan] + z[Liverpool,Zurich] + z[Liverpool,Berlin] + z[Liverpool,Bruselas] + z[Liverpool,Amsterdam] + z[Liverpool,Dublin] + z[Liverpool,Praga] + z[Liverpool,Bratislava] + z[Liverpool,Budapest] + z[Liverpool,Atenas] + z[Liverpool,Varsovia] + -750.0 w[Liverpool]> <= 0.0\n",
      "   R30 : <gurobi.LinExpr: z[Milan,Madrid] + z[Milan,Paris] + z[Milan,Londres] + z[Milan,Liverpool] + z[Milan,Roma ] + z[Milan,Milan] + z[Milan,Zurich] + z[Milan,Berlin] + z[Milan,Bruselas] + z[Milan,Amsterdam] + z[Milan,Dublin] + z[Milan,Praga] + z[Milan,Bratislava] + z[Milan,Budapest] + z[Milan,Atenas] + z[Milan,Varsovia] + -300.0 w[Milan]> <= 0.0\n",
      "   R31 : <gurobi.LinExpr: z[Berlin,Madrid] + z[Berlin,Paris] + z[Berlin,Londres] + z[Berlin,Liverpool] + z[Berlin,Roma ] + z[Berlin,Milan] + z[Berlin,Zurich] + z[Berlin,Berlin] + z[Berlin,Bruselas] + z[Berlin,Amsterdam] + z[Berlin,Dublin] + z[Berlin,Praga] + z[Berlin,Bratislava] + z[Berlin,Budapest] + z[Berlin,Atenas] + z[Berlin,Varsovia] + -700.0 w[Berlin]> <= 0.0\n",
      "   R32 : <gurobi.LinExpr: z[Bruselas,Madrid] + z[Bruselas,Paris] + z[Bruselas,Londres] + z[Bruselas,Liverpool] + z[Bruselas,Roma ] + z[Bruselas,Milan] + z[Bruselas,Zurich] + z[Bruselas,Berlin] + z[Bruselas,Bruselas] + z[Bruselas,Amsterdam] + z[Bruselas,Dublin] + z[Bruselas,Praga] + z[Bruselas,Bratislava] + z[Bruselas,Budapest] + z[Bruselas,Atenas] + z[Bruselas,Varsovia] + -500.0 w[Bruselas]> <= 0.0\n",
      "   R33 : <gurobi.LinExpr: z[Amsterdam,Madrid] + z[Amsterdam,Paris] + z[Amsterdam,Londres] + z[Amsterdam,Liverpool] + z[Amsterdam,Roma ] + z[Amsterdam,Milan] + z[Amsterdam,Zurich] + z[Amsterdam,Berlin] + z[Amsterdam,Bruselas] + z[Amsterdam,Amsterdam] + z[Amsterdam,Dublin] + z[Amsterdam,Praga] + z[Amsterdam,Bratislava] + z[Amsterdam,Budapest] + z[Amsterdam,Atenas] + z[Amsterdam,Varsovia] + -800.0 w[Amsterdam]> <= 0.0\n",
      "   R34 : <gurobi.LinExpr: z[Budapest,Madrid] + z[Budapest,Paris] + z[Budapest,Londres] + z[Budapest,Liverpool] + z[Budapest,Roma ] + z[Budapest,Milan] + z[Budapest,Zurich] + z[Budapest,Berlin] + z[Budapest,Bruselas] + z[Budapest,Amsterdam] + z[Budapest,Dublin] + z[Budapest,Praga] + z[Budapest,Bratislava] + z[Budapest,Budapest] + z[Budapest,Atenas] + z[Budapest,Varsovia] + -500.0 w[Budapest]> <= 0.0\n",
      "   R35 : <gurobi.LinExpr: z[Varsovia,Madrid] + z[Varsovia,Paris] + z[Varsovia,Londres] + z[Varsovia,Liverpool] + z[Varsovia,Roma ] + z[Varsovia,Milan] + z[Varsovia,Zurich] + z[Varsovia,Berlin] + z[Varsovia,Bruselas] + z[Varsovia,Amsterdam] + z[Varsovia,Dublin] + z[Varsovia,Praga] + z[Varsovia,Bratislava] + z[Varsovia,Budapest] + z[Varsovia,Atenas] + z[Varsovia,Varsovia] + -500.0 w[Varsovia]> <= 0.0\n",
      "   R36 : <gurobi.LinExpr: 0.0034494653328734047 z[Madrid,Madrid] + 0.3632183511555709 z[Paris,Madrid] + 0.49853742669886164 z[Liverpool,Madrid] + 0.41064160055191445 z[Milan,Madrid] + 0.6455432907899276 z[Berlin,Madrid] + 0.45428423594342876 z[Bruselas,Madrid] + 0.5110072438771991 z[Amsterdam,Madrid] + 0.6824594687823388 z[Budapest,Madrid] + 0.791307347361159 z[Varsovia,Madrid] + 0.3632183511555709 z[Madrid,Paris] + 0.0034494653328734047 z[Paris,Paris] + 0.21703345981372885 z[Liverpool,Paris] + 0.22102104173853052 z[Milan,Paris] + 0.30344601586754055 z[Berlin,Paris] + 0.09115902035184545 z[Bruselas,Paris] + 0.14828216626422905 z[Amsterdam,Paris] + 0.43038289065194896 z[Budapest,Paris] + 0.47276302173163154 z[Varsovia,Paris] + 0.4357019661952397 z[Madrid,Londres] + 0.11863401172818214 z[Paris,Londres] + 0.09914798206278026 z[Liverpool,Londres] + 0.3314522249051397 z[Milan,Londres] + 0.3223594342876854 z[Berlin,Londres] + 0.1109348051052087 z[Bruselas,Londres] + 0.12359779234218696 z[Amsterdam,Londres] + 0.5013038978958261 z[Budapest,Londres] + 0.501255605381166 z[Varsovia,Londres] + 0.49853742669886164 z[Madrid,Liverpool] + 0.21703345981372885 z[Paris,Liverpool] + 0.0034494653328734047 z[Liverpool,Liverpool] + 0.4298965160400138 z[Milan,Liverpool] + 0.3807140393239048 z[Berlin,Liverpool] + 0.19918247671610897 z[Bruselas,Liverpool] + 0.18731631597102447 z[Amsterdam,Liverpool] + 0.5824180751983442 z[Budapest,Liverpool] + 0.5573922042083477 z[Varsovia,Liverpool] + 0.47174887892376677 z[Madrid,Roma ] + 0.3817178337357709 z[Paris,Roma ] + 0.593922042083477 z[Liverpool,Roma ] + 0.16454984477406 z[Milan,Roma ] + 0.40784753363228693 z[Berlin,Roma ] + 0.40493963435667474 z[Bruselas,Roma ] + 0.44729561917902727 z[Amsterdam,Roma ] + 0.27908589168678855 z[Budapest,Roma ] + 0.4538392549154881 z[Varsovia,Roma ] + 0.41064160055191445 z[Madrid,Milan] + 0.22102104173853052 z[Paris,Milan] + 0.4298965160400138 z[Liverpool,Milan] + 0.0034494653328734047 z[Milan,Milan] + 0.290707140393239 z[Berlin,Milan] + 0.24091065884787857 z[Bruselas,Milan] + 0.28606071058985855 z[Amsterdam,Milan] + 0.2721007243877199 z[Budapest,Milan] + 0.3952811314246292 z[Varsovia,Milan] + 0.4308037254225595 z[Madrid,Zurich] + 0.16873749568816834 z[Paris,Zurich] + 0.36473956536736807 z[Liverpool,Zurich] + 0.07532597447395653 z[Milan,Zurich] + 0.23104173853052776 z[Berlin,Zurich] + 0.16991031390134528 z[Bruselas,Zurich] + 0.21166264229044499 z[Amsterdam,Zurich] + 0.2730079337702656 z[Budapest,Zurich] + 0.3606105553639186 z[Varsovia,Zurich] + 0.6455432907899276 z[Madrid,Berlin] + 0.30344601586754055 z[Paris,Berlin] + 0.3807140393239048 z[Liverpool,Berlin] + 0.290707140393239 z[Milan,Berlin] + 0.0034494653328734047 z[Berlin,Berlin] + 0.22510520869265263 z[Bruselas,Berlin] + 0.1995860641600552 z[Amsterdam,Berlin] + 0.23763366678164882 z[Budapest,Berlin] + 0.17897205933080373 z[Varsovia,Berlin] + 0.45428423594342876 z[Madrid,Bruselas] + 0.09115902035184545 z[Paris,Bruselas] + 0.19918247671610897 z[Liverpool,Bruselas] + 0.24091065884787857 z[Milan,Bruselas] + 0.22510520869265263 z[Berlin,Bruselas] + 0.0034494653328734047 z[Bruselas,Bruselas] + 0.05962400827871679 z[Amsterdam,Bruselas] + 0.3903966885132804 z[Budapest,Bruselas] + 0.4013107968264919 z[Varsovia,Bruselas] + 0.5110072438771991 z[Madrid,Amsterdam] + 0.14828216626422905 z[Paris,Amsterdam] + 0.18731631597102447 z[Liverpool,Amsterdam] + 0.28606071058985855 z[Milan,Amsterdam] + 0.1995860641600552 z[Berlin,Amsterdam] + 0.05962400827871679 z[Bruselas,Amsterdam] + 0.0034494653328734047 z[Amsterdam,Amsterdam] + 0.3960745084511901 z[Budapest,Amsterdam] + 0.3785408761641946 z[Varsovia,Amsterdam] + 0.5003932390479476 z[Madrid,Dublin] + 0.2699206622973439 z[Paris,Dublin] + 0.07506381510865816 z[Liverpool,Dublin] + 0.48927906174542946 z[Milan,Dublin] + 0.4557675060365643 z[Berlin,Dublin] + 0.26824077268023455 z[Bruselas,Dublin] + 0.26163504656778197 z[Amsterdam,Dublin] + 0.6553880648499483 z[Budapest,Dublin] + 0.6322387030010348 z[Varsovia,Dublin] + 0.6124836150396687 z[Madrid,Praga] + 0.3054363573646085 z[Paris,Praga] + 0.4332562952742325 z[Liverpool,Praga] + 0.22279406691962744 z[Milan,Praga] + 0.09704380820972748 z[Berlin,Praga] + 0.24862021386685063 z[Bruselas,Praga] + 0.24598827181786823 z[Amsterdam,Praga] + 0.15287685408761642 z[Budapest,Praga] + 0.17882373232149015 z[Varsovia,Praga] + 0.6422766471196965 z[Madrid,Bratislava] + 0.376512590548465 z[Paris,Bratislava] + 0.5267506036564332 z[Liverpool,Bratislava] + 0.2323490858916868 z[Milan,Bratislava] + 0.19073818558123493 z[Berlin,Bratislava] + 0.33466022766471193 z[Bruselas,Bratislava] + 0.3406347016212487 z[Amsterdam,Bratislava] + 0.055805450155225936 z[Budapest,Bratislava] + 0.18370817523283892 z[Varsovia,Bratislava] + 0.6824594687823388 z[Madrid,Budapest] + 0.43038289065194896 z[Paris,Budapest] + 0.5824180751983442 z[Liverpool,Budapest] + 0.2721007243877199 z[Milan,Budapest] + 0.23763366678164882 z[Berlin,Budapest] + 0.3903966885132804 z[Bruselas,Budapest] + 0.3960745084511901 z[Amsterdam,Budapest] + 0.0034494653328734047 z[Budapest,Budapest] + 0.18799586064160054 z[Varsovia,Budapest] + 0.819344601586754 z[Madrid,Atenas] + 0.7240565712314591 z[Paris,Atenas] + 0.9204553294239393 z[Liverpool,Atenas] + 0.5049637806140048 z[Milan,Atenas] + 0.6219799931010692 z[Berlin,Atenas] + 0.7215281131424629 z[Bruselas,Atenas] + 0.7470265608830632 z[Amsterdam,Atenas] + 0.38767850983097624 z[Budapest,Atenas] + 0.5509692997585374 z[Varsovia,Atenas] + 0.791307347361159 z[Madrid,Varsovia] + 0.47276302173163154 z[Paris,Varsovia] + 0.5573922042083477 z[Liverpool,Varsovia] + 0.3952811314246292 z[Milan,Varsovia] + 0.17897205933080373 z[Berlin,Varsovia] + 0.4013107968264919 z[Bruselas,Varsovia] + 0.3785408761641946 z[Amsterdam,Varsovia] + 0.18799586064160054 z[Budapest,Varsovia] + 0.0034494653328734047 z[Varsovia,Varsovia]> <= 800.0\n",
      "   R37 : <gurobi.LinExpr: 0.00034494653328734045 z[Madrid,Madrid] + 0.00034494653328734045 z[Paris,Paris] + 0.00034494653328734045 z[Liverpool,Paris] + 0.00034494653328734045 z[Milan,Paris] + 0.00034494653328734045 z[Bruselas,Paris] + 0.00034494653328734045 z[Amsterdam,Paris] + 0.00034494653328734045 z[Paris,Londres] + 0.00034494653328734045 z[Liverpool,Londres] + 0.00034494653328734045 z[Bruselas,Londres] + 0.00034494653328734045 z[Amsterdam,Londres] + 0.00034494653328734045 z[Paris,Liverpool] + 0.00034494653328734045 z[Liverpool,Liverpool] + 0.00034494653328734045 z[Bruselas,Liverpool] + 0.00034494653328734045 z[Amsterdam,Liverpool] + 0.00034494653328734045 z[Milan,Roma ] + 0.00034494653328734045 z[Paris,Milan] + 0.00034494653328734045 z[Milan,Milan] + 0.00034494653328734045 z[Bruselas,Milan] + 0.00034494653328734045 z[Budapest,Milan] + 0.00034494653328734045 z[Paris,Zurich] + 0.00034494653328734045 z[Milan,Zurich] + 0.00034494653328734045 z[Berlin,Zurich] + 0.00034494653328734045 z[Bruselas,Zurich] + 0.00034494653328734045 z[Amsterdam,Zurich] + 0.00034494653328734045 z[Budapest,Zurich] + 0.00034494653328734045 z[Berlin,Berlin] + 0.00034494653328734045 z[Bruselas,Berlin] + 0.00034494653328734045 z[Amsterdam,Berlin] + 0.00034494653328734045 z[Budapest,Berlin] + 0.00034494653328734045 z[Varsovia,Berlin] + 0.00034494653328734045 z[Paris,Bruselas] + 0.00034494653328734045 z[Liverpool,Bruselas] + 0.00034494653328734045 z[Milan,Bruselas] + 0.00034494653328734045 z[Berlin,Bruselas] + 0.00034494653328734045 z[Bruselas,Bruselas] + 0.00034494653328734045 z[Amsterdam,Bruselas] + 0.00034494653328734045 z[Paris,Amsterdam] + 0.00034494653328734045 z[Liverpool,Amsterdam] + 0.00034494653328734045 z[Berlin,Amsterdam] + 0.00034494653328734045 z[Bruselas,Amsterdam] + 0.00034494653328734045 z[Amsterdam,Amsterdam] + 0.00034494653328734045 z[Paris,Dublin] + 0.00034494653328734045 z[Liverpool,Dublin] + 0.00034494653328734045 z[Bruselas,Dublin] + 0.00034494653328734045 z[Amsterdam,Dublin] + 0.00034494653328734045 z[Milan,Praga] + 0.00034494653328734045 z[Berlin,Praga] + 0.00034494653328734045 z[Bruselas,Praga] + 0.00034494653328734045 z[Amsterdam,Praga] + 0.00034494653328734045 z[Budapest,Praga] + 0.00034494653328734045 z[Varsovia,Praga] + 0.00034494653328734045 z[Milan,Bratislava] + 0.00034494653328734045 z[Berlin,Bratislava] + 0.00034494653328734045 z[Budapest,Bratislava] + 0.00034494653328734045 z[Varsovia,Bratislava] + 0.00034494653328734045 z[Milan,Budapest] + 0.00034494653328734045 z[Berlin,Budapest] + 0.00034494653328734045 z[Budapest,Budapest] + 0.00034494653328734045 z[Varsovia,Budapest] + 0.00034494653328734045 z[Berlin,Varsovia] + 0.00034494653328734045 z[Budapest,Varsovia] + 0.00034494653328734045 z[Varsovia,Varsovia]> >= 0.5\n",
      "Binaries\n",
      "   ['w[Madrid]', 'w[Paris]', 'w[Liverpool]', 'w[Milan]', 'w[Berlin]', 'w[Bruselas]', 'w[Amsterdam]', 'w[Budapest]', 'w[Varsovia]']\n"
     ]
    }
   ],
   "metadata": {}
  },
  {
   "cell_type": "code",
   "execution_count": 38,
   "source": [
    "for i in fabrica:\n",
    "    print(\"La fabrica:\",i)\n",
    "    for k in DC:\n",
    "        if y[i,k].x>0.9:\n",
    "            print(\"    transporta\",round(y[i,j].x),\"productos al CD\",k)\n",
    "# Total producido por fabrica\n",
    "suma=[sum(y[i,k].x for k in DC) for i in fabrica]\n",
    "suma"
   ],
   "outputs": [
    {
     "output_type": "stream",
     "name": "stdout",
     "text": [
      "La fabrica: La Serena\n",
      "    transporta 175 productos al CD Paris\n",
      "    transporta 175 productos al CD Liverpool\n",
      "    transporta 175 productos al CD Berlin\n",
      "    transporta 175 productos al CD Amsterdam\n",
      "    transporta 175 productos al CD Budapest\n",
      "    transporta 175 productos al CD Varsovia\n",
      "La fabrica: Coquimbo\n",
      "La fabrica: Antofagasta\n",
      "    transporta 0 productos al CD Madrid\n",
      "    transporta 0 productos al CD Paris\n",
      "    transporta 0 productos al CD Milan\n",
      "La fabrica: Vallenar\n",
      "La fabrica: Copiapo\n"
     ]
    },
    {
     "output_type": "execute_result",
     "data": {
      "text/plain": [
       "[2000.0, 0.0, 899.0, 0.0, 0.0]"
      ]
     },
     "metadata": {},
     "execution_count": 38
    }
   ],
   "metadata": {}
  },
  {
   "cell_type": "code",
   "execution_count": 39,
   "source": [
    "#Obtener las ubicacioes activas Y\n",
    "for k in DC:\n",
    "    print(\"El CD:\",k)\n",
    "    for j in ciudad:\n",
    "        if z[k,j].x>0.9:\n",
    "            print(\"    transporta\",round(z[k,j].x),\"productos al cliente\",j)\n",
    "# Total producido por fabrica\n",
    "suma=[sum(z[k,j].x for j in ciudad) for k in DC]\n",
    "suma"
   ],
   "outputs": [
    {
     "output_type": "stream",
     "name": "stdout",
     "text": [
      "El CD: Madrid\n",
      "    transporta 121 productos al cliente Madrid\n",
      "El CD: Paris\n",
      "    transporta 240 productos al cliente Paris\n",
      "    transporta 282 productos al cliente Zurich\n",
      "El CD: Liverpool\n",
      "    transporta 250 productos al cliente Londres\n",
      "    transporta 121 productos al cliente Liverpool\n",
      "    transporta 102 productos al cliente Dublin\n",
      "El CD: Milan\n",
      "    transporta 102 productos al cliente Roma \n",
      "    transporta 198 productos al cliente Milan\n",
      "El CD: Berlin\n",
      "    transporta 211 productos al cliente Berlin\n",
      "    transporta 120 productos al cliente Praga\n",
      "El CD: Bruselas\n",
      "El CD: Amsterdam\n",
      "    transporta 224 productos al cliente Bruselas\n",
      "    transporta 259 productos al cliente Amsterdam\n",
      "El CD: Budapest\n",
      "    transporta 57 productos al cliente Roma \n",
      "    transporta 135 productos al cliente Bratislava\n",
      "    transporta 122 productos al cliente Budapest\n",
      "    transporta 180 productos al cliente Atenas\n",
      "El CD: Varsovia\n",
      "    transporta 175 productos al cliente Varsovia\n"
     ]
    },
    {
     "output_type": "execute_result",
     "data": {
      "text/plain": [
       "[121.0, 522.0, 473.0, 300.0, 331.0, 0.0, 483.0, 494.0, 175.0]"
      ]
     },
     "metadata": {},
     "execution_count": 39
    }
   ],
   "metadata": {}
  },
  {
   "cell_type": "code",
   "execution_count": 44,
   "source": [
    "CostoFijoCD.getValue()"
   ],
   "outputs": [
    {
     "output_type": "execute_result",
     "data": {
      "text/plain": [
       "374583.0"
      ]
     },
     "metadata": {},
     "execution_count": 44
    }
   ],
   "metadata": {}
  },
  {
   "cell_type": "code",
   "execution_count": null,
   "source": [
    "TransChDC.getValue()"
   ],
   "outputs": [],
   "metadata": {}
  },
  {
   "cell_type": "code",
   "execution_count": null,
   "source": [
    "TransCiudad.getValue()"
   ],
   "outputs": [],
   "metadata": {}
  },
  {
   "cell_type": "code",
   "execution_count": null,
   "source": [
    "ManejoCD.getValue()"
   ],
   "outputs": [],
   "metadata": {}
  },
  {
   "cell_type": "code",
   "execution_count": null,
   "source": [
    "cManufactura.getValue()"
   ],
   "outputs": [],
   "metadata": {}
  },
  {
   "cell_type": "code",
   "execution_count": 45,
   "source": [
    "Z.getValue()"
   ],
   "outputs": [
    {
     "output_type": "execute_result",
     "data": {
      "text/plain": [
       "1030939.91"
      ]
     },
     "metadata": {},
     "execution_count": 45
    }
   ],
   "metadata": {}
  },
  {
   "cell_type": "code",
   "execution_count": null,
   "source": [],
   "outputs": [],
   "metadata": {}
  }
 ],
 "metadata": {
  "kernelspec": {
   "display_name": "Python 3",
   "language": "python",
   "name": "python3"
  },
  "language_info": {
   "codemirror_mode": {
    "name": "ipython",
    "version": 3
   },
   "file_extension": ".py",
   "mimetype": "text/x-python",
   "name": "python",
   "nbconvert_exporter": "python",
   "pygments_lexer": "ipython3",
   "version": "3.6.5"
  }
 },
 "nbformat": 4,
 "nbformat_minor": 4
}