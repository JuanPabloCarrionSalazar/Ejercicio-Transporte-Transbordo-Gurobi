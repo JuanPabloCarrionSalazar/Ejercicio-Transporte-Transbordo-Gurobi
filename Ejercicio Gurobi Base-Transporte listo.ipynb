{
 "cells": [
  {
   "cell_type": "markdown",
   "source": [
    " #  <font color=blue> Verano Feliz en Europa. </font>\r\n",
    "\r\n",
    "<div class=\"alert alert-info\"> </h4> **Material preparado para la carrera de Ingeniería Civil Industrial | Universidad Católica del Norte | Escuela de Ingeniería - Campus Coquimbo | Curso - Cadena de Suministros.**\r\n",
    "</h4> </div>\r\n",
    "Verano-Feliz ha tenido un gran éxito con su modelo de negocio en la industria de los trajes de baños, por lo cual está expandiendo sus operaciones a un nuevo mercado, La Unión Europea. Con el fin de poder implementa su estrategia de manera exitosa, actualmente está diseñando su cadena de suministros para el mercado de Europa.\r\n",
    "\r\n",
    "Verano-Feliz está planeando abrir nuevas fábricas en Chile, donde manufacturará los trajes de baños y desde ahí los enviará a las ciudades más importantes de Europa, donde los comercializará en malls y tiendas especializadas.\r\n",
    "\r\n",
    "Las ciudades donde está planificando abrir fabricas son: La Serena, Coquimbo, Antofagasta, Vallenar y Copiapó. Cada Fabrica tiene costos de fijo de abrir, costo de manufactura por producto y capacidades específicas.\r\n",
    "Mientras que en Europa algunas ciudades pueden ser centros de distribución, mientras que otras solo serán puntos de ventas que deberán ser abastecidas desde los DC. Los centros de distribución tienen un costo fijo de administración, un costo variable por mover productos en las instalaciones y una capacidad especifica.\r\n",
    "\r\n",
    "Importante notar que el costo de transporte de Chile a Europa no depende de la distancia solamente de las unidades. Mientras que el costo de transporte dentro de Europa depende de las unidades y de la distancia que se deba recorrer.\r\n",
    "\r\n",
    "La información asociada a las Fábricas, Centros de Distribución y Ciudades está disponible en el archivo Excel adjunto.\r\n",
    "\r\n"
   ],
   "metadata": {}
  },
  {
   "cell_type": "markdown",
   "source": [
    "## Librerias"
   ],
   "metadata": {}
  },
  {
   "cell_type": "code",
   "execution_count": 1,
   "source": [
    "import numpy as np\r\n",
    "import pandas as pd\r\n",
    "import folium\r\n",
    "from folium import features\r\n",
    "from gurobipy import *"
   ],
   "outputs": [],
   "metadata": {}
  },
  {
   "cell_type": "markdown",
   "source": [
    "## Datos"
   ],
   "metadata": {}
  },
  {
   "cell_type": "code",
   "execution_count": 2,
   "source": [
    "excel=pd.ExcelFile('Verno Feliz en Europa-Coord.xlsx')\r\n",
    "df=pd.read_excel(excel,'Sheet1',index_col=0)#Clientes Europa\r\n",
    "df2=pd.read_excel(excel,'Sheet2',index_col=0)#Centros Distribución\r\n",
    "df3=pd.read_excel(excel,'Sheet3',index_col=0)#Distancias Centro Distribución a Cliente\r\n",
    "df4=pd.read_excel(excel,'Sheet4',index_col=0)#Fabricas Chile"
   ],
   "outputs": [],
   "metadata": {}
  },
  {
   "cell_type": "code",
   "execution_count": 3,
   "source": [
    "df"
   ],
   "outputs": [
    {
     "output_type": "execute_result",
     "data": {
      "text/plain": [
       "                       Pais  Demanda [unidades]  Demanda [Millones]  \\\n",
       "Ciudad                                                                \n",
       "Madrid               España                 121               6.550   \n",
       "Paris               Francia                 240               2.140   \n",
       "Londres         Reino Unido                 250               8.900   \n",
       "Liverpool       Reino Unido                 121               0.552   \n",
       "Roma                 Italia                 159               2.870   \n",
       "Milan                Italia                 198               1.350   \n",
       "Zurich                Suiza                 282               0.402   \n",
       "Berlin             Alemania                 211               3.750   \n",
       "Bruselas            Bélgica                 224               0.174   \n",
       "Amsterdam          Hollanda                 259               0.821   \n",
       "Dublin              Irlanda                 102               1.360   \n",
       "Praga       República Checa                 120               1.309   \n",
       "Bratislava       Eslovaquia                 135               0.424   \n",
       "Budapest            Hungría                 122               1.750   \n",
       "Atenas               Grecia                 180               0.664   \n",
       "Varsovia            Polonia                 175               1.708   \n",
       "\n",
       "            Costo Fijo [$]  Costo Variable [ $/ productos]  \\\n",
       "Ciudad                                                       \n",
       "Madrid               25472                               4   \n",
       "Paris                48005                               2   \n",
       "Londres              54705                               5   \n",
       "Liverpool            45563                               4   \n",
       "Roma                 33375                               4   \n",
       "Milan                48274                               5   \n",
       "Zurich               21148                               6   \n",
       "Berlin               54988                               4   \n",
       "Bruselas             54231                               6   \n",
       "Amsterdam            38114                               3   \n",
       "Dublin               46239                               1   \n",
       "Praga                30391                               3   \n",
       "Bratislava           45986                               4   \n",
       "Budapest             59699                               3   \n",
       "Atenas               26386                               2   \n",
       "Varsovia             54468                               1   \n",
       "\n",
       "            Capacidad [unidades]        lat        lon  \n",
       "Ciudad                                                  \n",
       "Madrid                       750  40.416775  -3.703790  \n",
       "Paris                        800  48.856614   2.352222  \n",
       "Londres                      500  51.507351  -0.127758  \n",
       "Liverpool                    750  53.408371  -2.991573  \n",
       "Roma                         250  41.902783  12.496365  \n",
       "Milan                        300  45.464204   9.189982  \n",
       "Zurich                       150  47.376887   8.541694  \n",
       "Berlin                       700  52.520007  13.404954  \n",
       "Bruselas                     500  50.850340   4.351710  \n",
       "Amsterdam                    800  52.366697   4.894540  \n",
       "Dublin                       500  53.349805  -6.260310  \n",
       "Praga                        600  50.075538  14.437800  \n",
       "Bratislava                   600  48.148596  17.107748  \n",
       "Budapest                     500  47.497912  19.040235  \n",
       "Atenas                       600  37.983810  23.727539  \n",
       "Varsovia                     500  52.229676  21.012229  "
      ],
      "text/html": [
       "<div>\n",
       "<style scoped>\n",
       "    .dataframe tbody tr th:only-of-type {\n",
       "        vertical-align: middle;\n",
       "    }\n",
       "\n",
       "    .dataframe tbody tr th {\n",
       "        vertical-align: top;\n",
       "    }\n",
       "\n",
       "    .dataframe thead th {\n",
       "        text-align: right;\n",
       "    }\n",
       "</style>\n",
       "<table border=\"1\" class=\"dataframe\">\n",
       "  <thead>\n",
       "    <tr style=\"text-align: right;\">\n",
       "      <th></th>\n",
       "      <th>Pais</th>\n",
       "      <th>Demanda [unidades]</th>\n",
       "      <th>Demanda [Millones]</th>\n",
       "      <th>Costo Fijo [$]</th>\n",
       "      <th>Costo Variable [ $/ productos]</th>\n",
       "      <th>Capacidad [unidades]</th>\n",
       "      <th>lat</th>\n",
       "      <th>lon</th>\n",
       "    </tr>\n",
       "    <tr>\n",
       "      <th>Ciudad</th>\n",
       "      <th></th>\n",
       "      <th></th>\n",
       "      <th></th>\n",
       "      <th></th>\n",
       "      <th></th>\n",
       "      <th></th>\n",
       "      <th></th>\n",
       "      <th></th>\n",
       "    </tr>\n",
       "  </thead>\n",
       "  <tbody>\n",
       "    <tr>\n",
       "      <th>Madrid</th>\n",
       "      <td>España</td>\n",
       "      <td>121</td>\n",
       "      <td>6.550</td>\n",
       "      <td>25472</td>\n",
       "      <td>4</td>\n",
       "      <td>750</td>\n",
       "      <td>40.416775</td>\n",
       "      <td>-3.703790</td>\n",
       "    </tr>\n",
       "    <tr>\n",
       "      <th>Paris</th>\n",
       "      <td>Francia</td>\n",
       "      <td>240</td>\n",
       "      <td>2.140</td>\n",
       "      <td>48005</td>\n",
       "      <td>2</td>\n",
       "      <td>800</td>\n",
       "      <td>48.856614</td>\n",
       "      <td>2.352222</td>\n",
       "    </tr>\n",
       "    <tr>\n",
       "      <th>Londres</th>\n",
       "      <td>Reino Unido</td>\n",
       "      <td>250</td>\n",
       "      <td>8.900</td>\n",
       "      <td>54705</td>\n",
       "      <td>5</td>\n",
       "      <td>500</td>\n",
       "      <td>51.507351</td>\n",
       "      <td>-0.127758</td>\n",
       "    </tr>\n",
       "    <tr>\n",
       "      <th>Liverpool</th>\n",
       "      <td>Reino Unido</td>\n",
       "      <td>121</td>\n",
       "      <td>0.552</td>\n",
       "      <td>45563</td>\n",
       "      <td>4</td>\n",
       "      <td>750</td>\n",
       "      <td>53.408371</td>\n",
       "      <td>-2.991573</td>\n",
       "    </tr>\n",
       "    <tr>\n",
       "      <th>Roma</th>\n",
       "      <td>Italia</td>\n",
       "      <td>159</td>\n",
       "      <td>2.870</td>\n",
       "      <td>33375</td>\n",
       "      <td>4</td>\n",
       "      <td>250</td>\n",
       "      <td>41.902783</td>\n",
       "      <td>12.496365</td>\n",
       "    </tr>\n",
       "    <tr>\n",
       "      <th>Milan</th>\n",
       "      <td>Italia</td>\n",
       "      <td>198</td>\n",
       "      <td>1.350</td>\n",
       "      <td>48274</td>\n",
       "      <td>5</td>\n",
       "      <td>300</td>\n",
       "      <td>45.464204</td>\n",
       "      <td>9.189982</td>\n",
       "    </tr>\n",
       "    <tr>\n",
       "      <th>Zurich</th>\n",
       "      <td>Suiza</td>\n",
       "      <td>282</td>\n",
       "      <td>0.402</td>\n",
       "      <td>21148</td>\n",
       "      <td>6</td>\n",
       "      <td>150</td>\n",
       "      <td>47.376887</td>\n",
       "      <td>8.541694</td>\n",
       "    </tr>\n",
       "    <tr>\n",
       "      <th>Berlin</th>\n",
       "      <td>Alemania</td>\n",
       "      <td>211</td>\n",
       "      <td>3.750</td>\n",
       "      <td>54988</td>\n",
       "      <td>4</td>\n",
       "      <td>700</td>\n",
       "      <td>52.520007</td>\n",
       "      <td>13.404954</td>\n",
       "    </tr>\n",
       "    <tr>\n",
       "      <th>Bruselas</th>\n",
       "      <td>Bélgica</td>\n",
       "      <td>224</td>\n",
       "      <td>0.174</td>\n",
       "      <td>54231</td>\n",
       "      <td>6</td>\n",
       "      <td>500</td>\n",
       "      <td>50.850340</td>\n",
       "      <td>4.351710</td>\n",
       "    </tr>\n",
       "    <tr>\n",
       "      <th>Amsterdam</th>\n",
       "      <td>Hollanda</td>\n",
       "      <td>259</td>\n",
       "      <td>0.821</td>\n",
       "      <td>38114</td>\n",
       "      <td>3</td>\n",
       "      <td>800</td>\n",
       "      <td>52.366697</td>\n",
       "      <td>4.894540</td>\n",
       "    </tr>\n",
       "    <tr>\n",
       "      <th>Dublin</th>\n",
       "      <td>Irlanda</td>\n",
       "      <td>102</td>\n",
       "      <td>1.360</td>\n",
       "      <td>46239</td>\n",
       "      <td>1</td>\n",
       "      <td>500</td>\n",
       "      <td>53.349805</td>\n",
       "      <td>-6.260310</td>\n",
       "    </tr>\n",
       "    <tr>\n",
       "      <th>Praga</th>\n",
       "      <td>República Checa</td>\n",
       "      <td>120</td>\n",
       "      <td>1.309</td>\n",
       "      <td>30391</td>\n",
       "      <td>3</td>\n",
       "      <td>600</td>\n",
       "      <td>50.075538</td>\n",
       "      <td>14.437800</td>\n",
       "    </tr>\n",
       "    <tr>\n",
       "      <th>Bratislava</th>\n",
       "      <td>Eslovaquia</td>\n",
       "      <td>135</td>\n",
       "      <td>0.424</td>\n",
       "      <td>45986</td>\n",
       "      <td>4</td>\n",
       "      <td>600</td>\n",
       "      <td>48.148596</td>\n",
       "      <td>17.107748</td>\n",
       "    </tr>\n",
       "    <tr>\n",
       "      <th>Budapest</th>\n",
       "      <td>Hungría</td>\n",
       "      <td>122</td>\n",
       "      <td>1.750</td>\n",
       "      <td>59699</td>\n",
       "      <td>3</td>\n",
       "      <td>500</td>\n",
       "      <td>47.497912</td>\n",
       "      <td>19.040235</td>\n",
       "    </tr>\n",
       "    <tr>\n",
       "      <th>Atenas</th>\n",
       "      <td>Grecia</td>\n",
       "      <td>180</td>\n",
       "      <td>0.664</td>\n",
       "      <td>26386</td>\n",
       "      <td>2</td>\n",
       "      <td>600</td>\n",
       "      <td>37.983810</td>\n",
       "      <td>23.727539</td>\n",
       "    </tr>\n",
       "    <tr>\n",
       "      <th>Varsovia</th>\n",
       "      <td>Polonia</td>\n",
       "      <td>175</td>\n",
       "      <td>1.708</td>\n",
       "      <td>54468</td>\n",
       "      <td>1</td>\n",
       "      <td>500</td>\n",
       "      <td>52.229676</td>\n",
       "      <td>21.012229</td>\n",
       "    </tr>\n",
       "  </tbody>\n",
       "</table>\n",
       "</div>"
      ]
     },
     "metadata": {},
     "execution_count": 3
    }
   ],
   "metadata": {}
  },
  {
   "cell_type": "code",
   "execution_count": 4,
   "source": [
    "df2"
   ],
   "outputs": [
    {
     "output_type": "execute_result",
     "data": {
      "text/plain": [
       "                  Pais  Demanda [unidades]  Población [Millones]  \\\n",
       "Ciudad                                                             \n",
       "Madrid          España                 121                 6.550   \n",
       "Paris          Francia                 240                 2.140   \n",
       "Liverpool  Reino Unido                 121                 0.552   \n",
       "Milan           Italia                 198                 1.350   \n",
       "Berlin        Alemania                 211                 3.750   \n",
       "Bruselas       Bélgica                 224                 0.174   \n",
       "Amsterdam     Hollanda                 259                 0.821   \n",
       "Budapest       Hungría                 122                 1.750   \n",
       "Varsovia       Polonia                 175                 1.708   \n",
       "\n",
       "           Costo Fijo [$]  Costo Variable [ $/ productos]  \\\n",
       "Ciudad                                                      \n",
       "Madrid              25472                               4   \n",
       "Paris               48005                               2   \n",
       "Liverpool           45563                               4   \n",
       "Milan               48274                               5   \n",
       "Berlin              54988                               4   \n",
       "Bruselas            54231                               6   \n",
       "Amsterdam           38114                               3   \n",
       "Budapest            59699                               3   \n",
       "Varsovia            54468                               1   \n",
       "\n",
       "           Capacidad [unidades]        lat        lon  \n",
       "Ciudad                                                 \n",
       "Madrid                      750  40.416775  -3.703790  \n",
       "Paris                       800  48.856614   2.352222  \n",
       "Liverpool                   750  53.408371  -2.991573  \n",
       "Milan                       300  45.464204   9.189982  \n",
       "Berlin                      700  52.520007  13.404954  \n",
       "Bruselas                    500  50.850340   4.351710  \n",
       "Amsterdam                   800  52.366697   4.894540  \n",
       "Budapest                    500  47.497912  19.040235  \n",
       "Varsovia                    500  52.229676  21.012229  "
      ],
      "text/html": [
       "<div>\n",
       "<style scoped>\n",
       "    .dataframe tbody tr th:only-of-type {\n",
       "        vertical-align: middle;\n",
       "    }\n",
       "\n",
       "    .dataframe tbody tr th {\n",
       "        vertical-align: top;\n",
       "    }\n",
       "\n",
       "    .dataframe thead th {\n",
       "        text-align: right;\n",
       "    }\n",
       "</style>\n",
       "<table border=\"1\" class=\"dataframe\">\n",
       "  <thead>\n",
       "    <tr style=\"text-align: right;\">\n",
       "      <th></th>\n",
       "      <th>Pais</th>\n",
       "      <th>Demanda [unidades]</th>\n",
       "      <th>Población [Millones]</th>\n",
       "      <th>Costo Fijo [$]</th>\n",
       "      <th>Costo Variable [ $/ productos]</th>\n",
       "      <th>Capacidad [unidades]</th>\n",
       "      <th>lat</th>\n",
       "      <th>lon</th>\n",
       "    </tr>\n",
       "    <tr>\n",
       "      <th>Ciudad</th>\n",
       "      <th></th>\n",
       "      <th></th>\n",
       "      <th></th>\n",
       "      <th></th>\n",
       "      <th></th>\n",
       "      <th></th>\n",
       "      <th></th>\n",
       "      <th></th>\n",
       "    </tr>\n",
       "  </thead>\n",
       "  <tbody>\n",
       "    <tr>\n",
       "      <th>Madrid</th>\n",
       "      <td>España</td>\n",
       "      <td>121</td>\n",
       "      <td>6.550</td>\n",
       "      <td>25472</td>\n",
       "      <td>4</td>\n",
       "      <td>750</td>\n",
       "      <td>40.416775</td>\n",
       "      <td>-3.703790</td>\n",
       "    </tr>\n",
       "    <tr>\n",
       "      <th>Paris</th>\n",
       "      <td>Francia</td>\n",
       "      <td>240</td>\n",
       "      <td>2.140</td>\n",
       "      <td>48005</td>\n",
       "      <td>2</td>\n",
       "      <td>800</td>\n",
       "      <td>48.856614</td>\n",
       "      <td>2.352222</td>\n",
       "    </tr>\n",
       "    <tr>\n",
       "      <th>Liverpool</th>\n",
       "      <td>Reino Unido</td>\n",
       "      <td>121</td>\n",
       "      <td>0.552</td>\n",
       "      <td>45563</td>\n",
       "      <td>4</td>\n",
       "      <td>750</td>\n",
       "      <td>53.408371</td>\n",
       "      <td>-2.991573</td>\n",
       "    </tr>\n",
       "    <tr>\n",
       "      <th>Milan</th>\n",
       "      <td>Italia</td>\n",
       "      <td>198</td>\n",
       "      <td>1.350</td>\n",
       "      <td>48274</td>\n",
       "      <td>5</td>\n",
       "      <td>300</td>\n",
       "      <td>45.464204</td>\n",
       "      <td>9.189982</td>\n",
       "    </tr>\n",
       "    <tr>\n",
       "      <th>Berlin</th>\n",
       "      <td>Alemania</td>\n",
       "      <td>211</td>\n",
       "      <td>3.750</td>\n",
       "      <td>54988</td>\n",
       "      <td>4</td>\n",
       "      <td>700</td>\n",
       "      <td>52.520007</td>\n",
       "      <td>13.404954</td>\n",
       "    </tr>\n",
       "    <tr>\n",
       "      <th>Bruselas</th>\n",
       "      <td>Bélgica</td>\n",
       "      <td>224</td>\n",
       "      <td>0.174</td>\n",
       "      <td>54231</td>\n",
       "      <td>6</td>\n",
       "      <td>500</td>\n",
       "      <td>50.850340</td>\n",
       "      <td>4.351710</td>\n",
       "    </tr>\n",
       "    <tr>\n",
       "      <th>Amsterdam</th>\n",
       "      <td>Hollanda</td>\n",
       "      <td>259</td>\n",
       "      <td>0.821</td>\n",
       "      <td>38114</td>\n",
       "      <td>3</td>\n",
       "      <td>800</td>\n",
       "      <td>52.366697</td>\n",
       "      <td>4.894540</td>\n",
       "    </tr>\n",
       "    <tr>\n",
       "      <th>Budapest</th>\n",
       "      <td>Hungría</td>\n",
       "      <td>122</td>\n",
       "      <td>1.750</td>\n",
       "      <td>59699</td>\n",
       "      <td>3</td>\n",
       "      <td>500</td>\n",
       "      <td>47.497912</td>\n",
       "      <td>19.040235</td>\n",
       "    </tr>\n",
       "    <tr>\n",
       "      <th>Varsovia</th>\n",
       "      <td>Polonia</td>\n",
       "      <td>175</td>\n",
       "      <td>1.708</td>\n",
       "      <td>54468</td>\n",
       "      <td>1</td>\n",
       "      <td>500</td>\n",
       "      <td>52.229676</td>\n",
       "      <td>21.012229</td>\n",
       "    </tr>\n",
       "  </tbody>\n",
       "</table>\n",
       "</div>"
      ]
     },
     "metadata": {},
     "execution_count": 4
    }
   ],
   "metadata": {}
  },
  {
   "cell_type": "code",
   "execution_count": 5,
   "source": [
    "df3"
   ],
   "outputs": [
    {
     "output_type": "execute_result",
     "data": {
      "text/plain": [
       "                  Pais   Madrid    Paris  Londres  Liverpool    Roma   \\\n",
       "Ciudad                                                                  \n",
       "Madrid          España    10.00  1052.97  1263.10    1445.26  1367.60   \n",
       "Paris          Francia  1052.97    10.00   343.92     629.18  1106.60   \n",
       "Liverpool  Reino Unido  1445.26   629.18   287.43      10.00  1721.78   \n",
       "Milan           Italia  1190.45   640.74   960.88    1246.27   477.03   \n",
       "Berlín        Alemania  1871.43   879.69   934.52    1103.69  1182.35   \n",
       "Bruselas       Bélgica  1316.97   264.27   321.60     577.43  1173.92   \n",
       "Amsterdam     Hollanda  1481.41   429.87   358.31     543.03  1296.71   \n",
       "Budapest       Hungría  1978.45  1247.68  1453.28    1688.43   809.07   \n",
       "Varsovia       Polonia  2294.00  1370.54  1453.14    1615.88  1315.68   \n",
       "\n",
       "             Milan   Zurich   Berlín  Bruselas  Ámsterdam   Dublín    Praga  \\\n",
       "Ciudad                                                                        \n",
       "Madrid     1190.45  1248.90  1871.43   1316.97    1481.41  1450.64  1775.59   \n",
       "Paris       640.74   489.17   879.69    264.27     429.87   782.50   885.46   \n",
       "Liverpool  1246.27  1057.38  1103.69    577.43     543.03   217.61  1256.01   \n",
       "Milan        10.00   218.37   842.76    698.40     829.29  1418.42   645.88   \n",
       "Berlín      842.76   669.79    10.00    652.58     578.60  1321.27   281.33   \n",
       "Bruselas    698.40   492.57   652.58     10.00     172.85   777.63   720.75   \n",
       "Amsterdam   829.29   613.61   578.60    172.85      10.00   758.48   713.12   \n",
       "Budapest    788.82   791.45   688.90   1131.76    1148.22  1899.97   443.19   \n",
       "Varsovia   1145.92  1045.41   518.84   1163.40    1097.39  1832.86   518.41   \n",
       "\n",
       "           Bratislava  Budapest   Atenas  Varsovia  \n",
       "Ciudad                                              \n",
       "Madrid        1861.96   1978.45  2375.28   2294.00  \n",
       "Paris         1091.51   1247.68  2099.04   1370.54  \n",
       "Liverpool     1527.05   1688.43  2668.40   1615.88  \n",
       "Milan          673.58    788.82  1463.89   1145.92  \n",
       "Berlín         552.95    688.90  1803.12    518.84  \n",
       "Bruselas       970.18   1131.76  2091.71   1163.40  \n",
       "Amsterdam      987.50   1148.22  2165.63   1097.39  \n",
       "Budapest       161.78     10.00  1123.88    545.00  \n",
       "Varsovia       532.57    545.00  1597.26     10.00  "
      ],
      "text/html": [
       "<div>\n",
       "<style scoped>\n",
       "    .dataframe tbody tr th:only-of-type {\n",
       "        vertical-align: middle;\n",
       "    }\n",
       "\n",
       "    .dataframe tbody tr th {\n",
       "        vertical-align: top;\n",
       "    }\n",
       "\n",
       "    .dataframe thead th {\n",
       "        text-align: right;\n",
       "    }\n",
       "</style>\n",
       "<table border=\"1\" class=\"dataframe\">\n",
       "  <thead>\n",
       "    <tr style=\"text-align: right;\">\n",
       "      <th></th>\n",
       "      <th>Pais</th>\n",
       "      <th>Madrid</th>\n",
       "      <th>Paris</th>\n",
       "      <th>Londres</th>\n",
       "      <th>Liverpool</th>\n",
       "      <th>Roma</th>\n",
       "      <th>Milan</th>\n",
       "      <th>Zurich</th>\n",
       "      <th>Berlín</th>\n",
       "      <th>Bruselas</th>\n",
       "      <th>Ámsterdam</th>\n",
       "      <th>Dublín</th>\n",
       "      <th>Praga</th>\n",
       "      <th>Bratislava</th>\n",
       "      <th>Budapest</th>\n",
       "      <th>Atenas</th>\n",
       "      <th>Varsovia</th>\n",
       "    </tr>\n",
       "    <tr>\n",
       "      <th>Ciudad</th>\n",
       "      <th></th>\n",
       "      <th></th>\n",
       "      <th></th>\n",
       "      <th></th>\n",
       "      <th></th>\n",
       "      <th></th>\n",
       "      <th></th>\n",
       "      <th></th>\n",
       "      <th></th>\n",
       "      <th></th>\n",
       "      <th></th>\n",
       "      <th></th>\n",
       "      <th></th>\n",
       "      <th></th>\n",
       "      <th></th>\n",
       "      <th></th>\n",
       "      <th></th>\n",
       "    </tr>\n",
       "  </thead>\n",
       "  <tbody>\n",
       "    <tr>\n",
       "      <th>Madrid</th>\n",
       "      <td>España</td>\n",
       "      <td>10.00</td>\n",
       "      <td>1052.97</td>\n",
       "      <td>1263.10</td>\n",
       "      <td>1445.26</td>\n",
       "      <td>1367.60</td>\n",
       "      <td>1190.45</td>\n",
       "      <td>1248.90</td>\n",
       "      <td>1871.43</td>\n",
       "      <td>1316.97</td>\n",
       "      <td>1481.41</td>\n",
       "      <td>1450.64</td>\n",
       "      <td>1775.59</td>\n",
       "      <td>1861.96</td>\n",
       "      <td>1978.45</td>\n",
       "      <td>2375.28</td>\n",
       "      <td>2294.00</td>\n",
       "    </tr>\n",
       "    <tr>\n",
       "      <th>Paris</th>\n",
       "      <td>Francia</td>\n",
       "      <td>1052.97</td>\n",
       "      <td>10.00</td>\n",
       "      <td>343.92</td>\n",
       "      <td>629.18</td>\n",
       "      <td>1106.60</td>\n",
       "      <td>640.74</td>\n",
       "      <td>489.17</td>\n",
       "      <td>879.69</td>\n",
       "      <td>264.27</td>\n",
       "      <td>429.87</td>\n",
       "      <td>782.50</td>\n",
       "      <td>885.46</td>\n",
       "      <td>1091.51</td>\n",
       "      <td>1247.68</td>\n",
       "      <td>2099.04</td>\n",
       "      <td>1370.54</td>\n",
       "    </tr>\n",
       "    <tr>\n",
       "      <th>Liverpool</th>\n",
       "      <td>Reino Unido</td>\n",
       "      <td>1445.26</td>\n",
       "      <td>629.18</td>\n",
       "      <td>287.43</td>\n",
       "      <td>10.00</td>\n",
       "      <td>1721.78</td>\n",
       "      <td>1246.27</td>\n",
       "      <td>1057.38</td>\n",
       "      <td>1103.69</td>\n",
       "      <td>577.43</td>\n",
       "      <td>543.03</td>\n",
       "      <td>217.61</td>\n",
       "      <td>1256.01</td>\n",
       "      <td>1527.05</td>\n",
       "      <td>1688.43</td>\n",
       "      <td>2668.40</td>\n",
       "      <td>1615.88</td>\n",
       "    </tr>\n",
       "    <tr>\n",
       "      <th>Milan</th>\n",
       "      <td>Italia</td>\n",
       "      <td>1190.45</td>\n",
       "      <td>640.74</td>\n",
       "      <td>960.88</td>\n",
       "      <td>1246.27</td>\n",
       "      <td>477.03</td>\n",
       "      <td>10.00</td>\n",
       "      <td>218.37</td>\n",
       "      <td>842.76</td>\n",
       "      <td>698.40</td>\n",
       "      <td>829.29</td>\n",
       "      <td>1418.42</td>\n",
       "      <td>645.88</td>\n",
       "      <td>673.58</td>\n",
       "      <td>788.82</td>\n",
       "      <td>1463.89</td>\n",
       "      <td>1145.92</td>\n",
       "    </tr>\n",
       "    <tr>\n",
       "      <th>Berlín</th>\n",
       "      <td>Alemania</td>\n",
       "      <td>1871.43</td>\n",
       "      <td>879.69</td>\n",
       "      <td>934.52</td>\n",
       "      <td>1103.69</td>\n",
       "      <td>1182.35</td>\n",
       "      <td>842.76</td>\n",
       "      <td>669.79</td>\n",
       "      <td>10.00</td>\n",
       "      <td>652.58</td>\n",
       "      <td>578.60</td>\n",
       "      <td>1321.27</td>\n",
       "      <td>281.33</td>\n",
       "      <td>552.95</td>\n",
       "      <td>688.90</td>\n",
       "      <td>1803.12</td>\n",
       "      <td>518.84</td>\n",
       "    </tr>\n",
       "    <tr>\n",
       "      <th>Bruselas</th>\n",
       "      <td>Bélgica</td>\n",
       "      <td>1316.97</td>\n",
       "      <td>264.27</td>\n",
       "      <td>321.60</td>\n",
       "      <td>577.43</td>\n",
       "      <td>1173.92</td>\n",
       "      <td>698.40</td>\n",
       "      <td>492.57</td>\n",
       "      <td>652.58</td>\n",
       "      <td>10.00</td>\n",
       "      <td>172.85</td>\n",
       "      <td>777.63</td>\n",
       "      <td>720.75</td>\n",
       "      <td>970.18</td>\n",
       "      <td>1131.76</td>\n",
       "      <td>2091.71</td>\n",
       "      <td>1163.40</td>\n",
       "    </tr>\n",
       "    <tr>\n",
       "      <th>Amsterdam</th>\n",
       "      <td>Hollanda</td>\n",
       "      <td>1481.41</td>\n",
       "      <td>429.87</td>\n",
       "      <td>358.31</td>\n",
       "      <td>543.03</td>\n",
       "      <td>1296.71</td>\n",
       "      <td>829.29</td>\n",
       "      <td>613.61</td>\n",
       "      <td>578.60</td>\n",
       "      <td>172.85</td>\n",
       "      <td>10.00</td>\n",
       "      <td>758.48</td>\n",
       "      <td>713.12</td>\n",
       "      <td>987.50</td>\n",
       "      <td>1148.22</td>\n",
       "      <td>2165.63</td>\n",
       "      <td>1097.39</td>\n",
       "    </tr>\n",
       "    <tr>\n",
       "      <th>Budapest</th>\n",
       "      <td>Hungría</td>\n",
       "      <td>1978.45</td>\n",
       "      <td>1247.68</td>\n",
       "      <td>1453.28</td>\n",
       "      <td>1688.43</td>\n",
       "      <td>809.07</td>\n",
       "      <td>788.82</td>\n",
       "      <td>791.45</td>\n",
       "      <td>688.90</td>\n",
       "      <td>1131.76</td>\n",
       "      <td>1148.22</td>\n",
       "      <td>1899.97</td>\n",
       "      <td>443.19</td>\n",
       "      <td>161.78</td>\n",
       "      <td>10.00</td>\n",
       "      <td>1123.88</td>\n",
       "      <td>545.00</td>\n",
       "    </tr>\n",
       "    <tr>\n",
       "      <th>Varsovia</th>\n",
       "      <td>Polonia</td>\n",
       "      <td>2294.00</td>\n",
       "      <td>1370.54</td>\n",
       "      <td>1453.14</td>\n",
       "      <td>1615.88</td>\n",
       "      <td>1315.68</td>\n",
       "      <td>1145.92</td>\n",
       "      <td>1045.41</td>\n",
       "      <td>518.84</td>\n",
       "      <td>1163.40</td>\n",
       "      <td>1097.39</td>\n",
       "      <td>1832.86</td>\n",
       "      <td>518.41</td>\n",
       "      <td>532.57</td>\n",
       "      <td>545.00</td>\n",
       "      <td>1597.26</td>\n",
       "      <td>10.00</td>\n",
       "    </tr>\n",
       "  </tbody>\n",
       "</table>\n",
       "</div>"
      ]
     },
     "metadata": {},
     "execution_count": 5
    }
   ],
   "metadata": {}
  },
  {
   "cell_type": "code",
   "execution_count": 6,
   "source": [
    "df4"
   ],
   "outputs": [
    {
     "output_type": "execute_result",
     "data": {
      "text/plain": [
       "             Costo Fijo  Costo Variable  Capacidad  \\\n",
       "La Serena         20000             1.0       2000   \n",
       "Coquimbo          15000             0.8        500   \n",
       "Antofagasta       20000             1.5       2000   \n",
       "Vallenar          10000             1.0        500   \n",
       "Copiapo           25000             1.5       1500   \n",
       "\n",
       "             Costo Envio Europa x unidad  \n",
       "La Serena                              2  \n",
       "Coquimbo                               2  \n",
       "Antofagasta                            2  \n",
       "Vallenar                               2  \n",
       "Copiapo                                2  "
      ],
      "text/html": [
       "<div>\n",
       "<style scoped>\n",
       "    .dataframe tbody tr th:only-of-type {\n",
       "        vertical-align: middle;\n",
       "    }\n",
       "\n",
       "    .dataframe tbody tr th {\n",
       "        vertical-align: top;\n",
       "    }\n",
       "\n",
       "    .dataframe thead th {\n",
       "        text-align: right;\n",
       "    }\n",
       "</style>\n",
       "<table border=\"1\" class=\"dataframe\">\n",
       "  <thead>\n",
       "    <tr style=\"text-align: right;\">\n",
       "      <th></th>\n",
       "      <th>Costo Fijo</th>\n",
       "      <th>Costo Variable</th>\n",
       "      <th>Capacidad</th>\n",
       "      <th>Costo Envio Europa x unidad</th>\n",
       "    </tr>\n",
       "  </thead>\n",
       "  <tbody>\n",
       "    <tr>\n",
       "      <th>La Serena</th>\n",
       "      <td>20000</td>\n",
       "      <td>1.0</td>\n",
       "      <td>2000</td>\n",
       "      <td>2</td>\n",
       "    </tr>\n",
       "    <tr>\n",
       "      <th>Coquimbo</th>\n",
       "      <td>15000</td>\n",
       "      <td>0.8</td>\n",
       "      <td>500</td>\n",
       "      <td>2</td>\n",
       "    </tr>\n",
       "    <tr>\n",
       "      <th>Antofagasta</th>\n",
       "      <td>20000</td>\n",
       "      <td>1.5</td>\n",
       "      <td>2000</td>\n",
       "      <td>2</td>\n",
       "    </tr>\n",
       "    <tr>\n",
       "      <th>Vallenar</th>\n",
       "      <td>10000</td>\n",
       "      <td>1.0</td>\n",
       "      <td>500</td>\n",
       "      <td>2</td>\n",
       "    </tr>\n",
       "    <tr>\n",
       "      <th>Copiapo</th>\n",
       "      <td>25000</td>\n",
       "      <td>1.5</td>\n",
       "      <td>1500</td>\n",
       "      <td>2</td>\n",
       "    </tr>\n",
       "  </tbody>\n",
       "</table>\n",
       "</div>"
      ]
     },
     "metadata": {},
     "execution_count": 6
    }
   ],
   "metadata": {}
  },
  {
   "cell_type": "markdown",
   "source": [
    "## **Subíndice**"
   ],
   "metadata": {}
  },
  {
   "cell_type": "code",
   "execution_count": 7,
   "source": [
    "DC=list(df2.index)\n",
    "ciudad=list(df.index)\n",
    "fabrica=list(df4.index)\n",
    "fabrica2=['La Serena','Antofagasta']"
   ],
   "outputs": [],
   "metadata": {}
  },
  {
   "cell_type": "markdown",
   "source": [
    "## Grafica Ubicaciones"
   ],
   "metadata": {}
  },
  {
   "cell_type": "code",
   "execution_count": 8,
   "source": [
    "import folium #Recuerden instalar folium si lo van a usar (colocar en anaconda prompt pip install folium)\n",
    "from folium import features\n",
    "\n",
    "mapa = folium.Map(location=[df['lat'].mean(),df['lon'].mean()],zoom_start=4)\n",
    "\n",
    "\n",
    "fg=folium.FeatureGroup()  \n",
    "for n in range(len(df)): \n",
    "    fg.add_child(folium.CircleMarker(location=[df.iloc[n][6],df.iloc[n][7]],radius=3,\n",
    "                                     color='#ff0000',fill = True,fill_color='#ff0000'))\n",
    "    \n",
    "    fg.add_child(folium.Marker(location=[df.iloc[n][6],df.iloc[n][7]],\n",
    "                           popup=folium.Popup(ciudad[n]),\n",
    "                           icon=folium.Icon(color='green',\n",
    "                                            icon_color='white',icon='info-sign')))\n",
    "    \n",
    "mapa.add_child(fg)\n",
    "mapa"
   ],
   "outputs": [
    {
     "output_type": "execute_result",
     "data": {
      "text/plain": [
       "<folium.folium.Map at 0x1c8fc6cf9e8>"
      ],
      "text/html": [
       "<div style=\"width:100%;\"><div style=\"position:relative;width:100%;height:0;padding-bottom:60%;\"><span style=\"color:#565656\">Make this Notebook Trusted to load map: File -> Trust Notebook</span><iframe src=\"about:blank\" style=\"position:absolute;width:100%;height:100%;left:0;top:0;border:none !important;\" data-html=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 onload=\"this.contentDocument.open();this.contentDocument.write(atob(this.getAttribute('data-html')));this.contentDocument.close();\" allowfullscreen webkitallowfullscreen mozallowfullscreen></iframe></div></div>"
      ]
     },
     "metadata": {},
     "execution_count": 8
    }
   ],
   "metadata": {
    "scrolled": false
   }
  },
  {
   "cell_type": "markdown",
   "source": [
    "## **Arcos**"
   ],
   "metadata": {}
  },
  {
   "cell_type": "code",
   "execution_count": 9,
   "source": [
    "arcos=[(i,j) for i in fabrica for j in ciudad]\n",
    "arcos1=[(i,k) for i in fabrica2 for k in DC]\n",
    "arcos2=[(k,j) for k in DC for j in ciudad]"
   ],
   "outputs": [],
   "metadata": {}
  },
  {
   "cell_type": "markdown",
   "source": [
    "## **Parametros**"
   ],
   "metadata": {}
  },
  {
   "cell_type": "code",
   "execution_count": 10,
   "source": [
    "cTransEuro=df4['Costo Envio Europa x unidad']\n",
    "Demanda=df['Demanda [unidades]']\n",
    "cFijo=df4['Costo Fijo']\n",
    "cVariable=df4['Costo Variable']\n",
    "CapFabrica=df4['Capacidad']\n",
    "CapDC=df2['Capacidad [unidades]']\n",
    "FijoDC=df2['Costo Fijo [$]']\n",
    "variableDC=df2['Costo Variable [ $/ productos]']"
   ],
   "outputs": [],
   "metadata": {}
  },
  {
   "cell_type": "code",
   "execution_count": 11,
   "source": [
    "dist={(DC[k],ciudad[j]):df3.iloc[k][j+1] for k in range(len(DC)) for j in range(len(ciudad))}"
   ],
   "outputs": [],
   "metadata": {}
  },
  {
   "cell_type": "code",
   "execution_count": 12,
   "source": [
    "#Crear modelo de Gurobi\n",
    "m=Model(\"Verano Feliz en Europa\")"
   ],
   "outputs": [
    {
     "output_type": "stream",
     "name": "stdout",
     "text": [
      "Academic license - for non-commercial use only - expires 2021-06-20\n",
      "Using license file C:\\Users\\jplop\\gurobi.lic\n"
     ]
    }
   ],
   "metadata": {}
  },
  {
   "cell_type": "markdown",
   "source": [
    "## **Variables de decisión**\n",
    "\n",
    "- $x_{i} = 1 \\;cuando \\;se \\;decide \\;utilizar \\;la \\;Fabrica \\;i. \\;0 \\;de \\;otra \\;manera$.\n",
    "- $y_{ij} = \\; \\; cantidad \\; de \\;productos \\;enviados \\;desde\\;la \\;fabrica \\;i \\;al \\;cliente \\;j $"
   ],
   "metadata": {}
  },
  {
   "cell_type": "code",
   "execution_count": 13,
   "source": [
    "#Crear variables de desicion\n",
    "x=m.addVars(fabrica, name='x',vtype=GRB.BINARY)\n",
    "y=m.addVars(arcos, name='y',vtype=GRB.CONTINUOUS)"
   ],
   "outputs": [],
   "metadata": {}
  },
  {
   "cell_type": "markdown",
   "source": [
    "## **Función Objetivo**\n",
    "\n",
    "$Min \\; Z= \\;\\displaystyle\\sum_{i,j\\;\\in\\;A}^{} y_{ij}*(cTransEuro_{i}+cVariable_{i})\\;+\\displaystyle\\sum_{i\\;\\in\\;I}^{} x_{i}*cFijo_{i}$"
   ],
   "metadata": {}
  },
  {
   "cell_type": "code",
   "execution_count": 14,
   "source": [
    "z=quicksum(y[i,j]*(cTransEuro[i]+cVariable[i]) for i in fabrica for j in ciudad)+quicksum(x[i]*cFijo[i] for i in fabrica)\n",
    "m.setObjective(z,GRB.MINIMIZE)"
   ],
   "outputs": [],
   "metadata": {}
  },
  {
   "cell_type": "markdown",
   "source": [
    "## **Restricciones**"
   ],
   "metadata": {}
  },
  {
   "cell_type": "markdown",
   "source": [
    "### Capacidad"
   ],
   "metadata": {}
  },
  {
   "cell_type": "code",
   "execution_count": 15,
   "source": [
    "m.addConstrs(quicksum(y[i,j] for j in ciudad)<=500*x[i] for i in fabrica)"
   ],
   "outputs": [
    {
     "output_type": "execute_result",
     "data": {
      "text/plain": [
       "{'La Serena': <gurobi.Constr *Awaiting Model Update*>,\n",
       " 'Coquimbo': <gurobi.Constr *Awaiting Model Update*>,\n",
       " 'Antofagasta': <gurobi.Constr *Awaiting Model Update*>,\n",
       " 'Vallenar': <gurobi.Constr *Awaiting Model Update*>,\n",
       " 'Copiapo': <gurobi.Constr *Awaiting Model Update*>}"
      ]
     },
     "metadata": {},
     "execution_count": 15
    }
   ],
   "metadata": {}
  },
  {
   "cell_type": "markdown",
   "source": [
    "## Demanda"
   ],
   "metadata": {}
  },
  {
   "cell_type": "code",
   "execution_count": 16,
   "source": [
    "m.addConstrs(quicksum(y[i,j] for i in fabrica)>=Demanda[j]-100 for j in ciudad)"
   ],
   "outputs": [
    {
     "output_type": "execute_result",
     "data": {
      "text/plain": [
       "{'Madrid': <gurobi.Constr *Awaiting Model Update*>,\n",
       " 'Paris': <gurobi.Constr *Awaiting Model Update*>,\n",
       " 'Londres': <gurobi.Constr *Awaiting Model Update*>,\n",
       " 'Liverpool': <gurobi.Constr *Awaiting Model Update*>,\n",
       " 'Roma ': <gurobi.Constr *Awaiting Model Update*>,\n",
       " 'Milan': <gurobi.Constr *Awaiting Model Update*>,\n",
       " 'Zurich': <gurobi.Constr *Awaiting Model Update*>,\n",
       " 'Berlin': <gurobi.Constr *Awaiting Model Update*>,\n",
       " 'Bruselas': <gurobi.Constr *Awaiting Model Update*>,\n",
       " 'Amsterdam': <gurobi.Constr *Awaiting Model Update*>,\n",
       " 'Dublin': <gurobi.Constr *Awaiting Model Update*>,\n",
       " 'Praga': <gurobi.Constr *Awaiting Model Update*>,\n",
       " 'Bratislava': <gurobi.Constr *Awaiting Model Update*>,\n",
       " 'Budapest': <gurobi.Constr *Awaiting Model Update*>,\n",
       " 'Atenas': <gurobi.Constr *Awaiting Model Update*>,\n",
       " 'Varsovia': <gurobi.Constr *Awaiting Model Update*>}"
      ]
     },
     "metadata": {},
     "execution_count": 16
    }
   ],
   "metadata": {}
  },
  {
   "cell_type": "code",
   "execution_count": 17,
   "source": [
    "m.optimize()"
   ],
   "outputs": [
    {
     "output_type": "stream",
     "name": "stdout",
     "text": [
      "Gurobi Optimizer version 9.1.2 build v9.1.2rc0 (win64)\n",
      "Thread count: 4 physical cores, 8 logical processors, using up to 8 threads\n",
      "Optimize a model with 21 rows, 85 columns and 165 nonzeros\n",
      "Model fingerprint: 0x3dab8e3a\n",
      "Variable types: 80 continuous, 5 integer (5 binary)\n",
      "Coefficient statistics:\n",
      "  Matrix range     [1e+00, 5e+02]\n",
      "  Objective range  [3e+00, 3e+04]\n",
      "  Bounds range     [1e+00, 1e+00]\n",
      "  RHS range        [2e+00, 2e+02]\n",
      "Presolve removed 1 rows and 5 columns\n",
      "Presolve time: 0.00s\n",
      "Presolved: 20 rows, 80 columns, 155 nonzeros\n",
      "Variable types: 75 continuous, 5 integer (5 binary)\n",
      "\n",
      "Root relaxation: objective 4.075700e+04, 42 iterations, 0.00 seconds\n",
      "\n",
      "    Nodes    |    Current Node    |     Objective Bounds      |     Work\n",
      " Expl Unexpl |  Obj  Depth IntInf | Incumbent    BestBd   Gap | It/Node Time\n",
      "\n",
      "     0     0 40757.0000    0    1          - 40757.0000      -     -    0s\n",
      "H    0     0                    48797.000000 40757.0000  16.5%     -    0s\n",
      "     0     0     cutoff    0      48797.0000 48797.0000  0.00%     -    0s\n",
      "\n",
      "Cutting planes:\n",
      "  Gomory: 1\n",
      "  Implied bound: 3\n",
      "  MIR: 2\n",
      "\n",
      "Explored 1 nodes (45 simplex iterations) in 0.03 seconds\n",
      "Thread count was 8 (of 8 available processors)\n",
      "\n",
      "Solution count 1: 48797 \n",
      "\n",
      "Optimal solution found (tolerance 1.00e-04)\n",
      "Best objective 4.879700000000e+04, best bound 4.879700000000e+04, gap 0.0000%\n"
     ]
    }
   ],
   "metadata": {}
  },
  {
   "cell_type": "code",
   "execution_count": 18,
   "source": [
    "#Estado de la solución\n",
    "if m.status==2:\n",
    "    print(\"Función Objetivo: \",str(round(m.objVal,2)))\n",
    "    for v in m.getVars():\n",
    "        if v.x>0:\n",
    "            print(str(v.VarName)+\"=\"+str(round(v.x,2)))\n",
    "else:\n",
    "    print(\"Solución Infactible\")"
   ],
   "outputs": [
    {
     "output_type": "stream",
     "name": "stdout",
     "text": [
      "Función Objetivo:  48797.0\n",
      "x[La Serena]=1.0\n",
      "x[Coquimbo]=1.0\n",
      "x[Vallenar]=1.0\n",
      "y[La Serena,Londres]=116.0\n",
      "y[La Serena,Roma ]=59.0\n",
      "y[La Serena,Bruselas]=124.0\n",
      "y[Coquimbo,Madrid]=21.0\n",
      "y[Coquimbo,Liverpool]=21.0\n",
      "y[Coquimbo,Zurich]=182.0\n",
      "y[Coquimbo,Berlin]=111.0\n",
      "y[Coquimbo,Amsterdam]=10.0\n",
      "y[Coquimbo,Atenas]=80.0\n",
      "y[Coquimbo,Varsovia]=75.0\n",
      "y[Vallenar,Paris]=140.0\n",
      "y[Vallenar,Londres]=34.0\n",
      "y[Vallenar,Milan]=98.0\n",
      "y[Vallenar,Amsterdam]=149.0\n",
      "y[Vallenar,Dublin]=2.0\n",
      "y[Vallenar,Praga]=20.0\n",
      "y[Vallenar,Bratislava]=35.0\n",
      "y[Vallenar,Budapest]=22.0\n"
     ]
    }
   ],
   "metadata": {}
  },
  {
   "cell_type": "code",
   "execution_count": 19,
   "source": [
    "fab_activas=[i for i in fabrica if x[i].x>0]\n",
    "for i in fab_activas:\n",
    "    print(\"La Fabrica \",i)\n",
    "    for j in ciudad:\n",
    "        if y[i,j].x>0:\n",
    "            print(\"    transporta\",y[i,j].x,\" productos al cliente\",j)"
   ],
   "outputs": [
    {
     "output_type": "stream",
     "name": "stdout",
     "text": [
      "La Fabrica  La Serena\n",
      "    transporta 116.0  productos al cliente Londres\n",
      "    transporta 59.0  productos al cliente Roma \n",
      "    transporta 124.0  productos al cliente Bruselas\n",
      "La Fabrica  Coquimbo\n",
      "    transporta 21.0  productos al cliente Madrid\n",
      "    transporta 21.0  productos al cliente Liverpool\n",
      "    transporta 182.0  productos al cliente Zurich\n",
      "    transporta 111.0  productos al cliente Berlin\n",
      "    transporta 10.0  productos al cliente Amsterdam\n",
      "    transporta 80.0  productos al cliente Atenas\n",
      "    transporta 75.0  productos al cliente Varsovia\n",
      "La Fabrica  Vallenar\n",
      "    transporta 140.0  productos al cliente Paris\n",
      "    transporta 34.0  productos al cliente Londres\n",
      "    transporta 98.0  productos al cliente Milan\n",
      "    transporta 149.0  productos al cliente Amsterdam\n",
      "    transporta 2.0  productos al cliente Dublin\n",
      "    transporta 20.0  productos al cliente Praga\n",
      "    transporta 35.0  productos al cliente Bratislava\n",
      "    transporta 22.0  productos al cliente Budapest\n"
     ]
    }
   ],
   "metadata": {}
  },
  {
   "cell_type": "code",
   "execution_count": null,
   "source": [],
   "outputs": [],
   "metadata": {}
  },
  {
   "cell_type": "markdown",
   "source": [
    "# **Parte 2**"
   ],
   "metadata": {}
  },
  {
   "cell_type": "code",
   "execution_count": 20,
   "source": [
    "a={(k,j):1 if dist[(k,j)]<=800 else 0 for k in DC for j in ciudad}#Binario\n",
    "fabrica2=['La Serena','Antofagasta']"
   ],
   "outputs": [],
   "metadata": {}
  },
  {
   "cell_type": "code",
   "execution_count": 21,
   "source": [
    "#Crear modelo de Gurobi\n",
    "m=Model(\"Verano Feliz en Europa- v2\")"
   ],
   "outputs": [],
   "metadata": {}
  },
  {
   "cell_type": "markdown",
   "source": [
    "## **Variables de decisión**\n",
    "\n",
    "- $y_{ik} = \\; \\; cantidad \\; de \\;productos \\;enviados \\;desde\\;la \\;fabrica \\;i \\;al \\;CD \\;k $\n",
    "- $z_{kj} = \\; \\; cantidad \\; de \\;productos \\;enviados \\;desde\\; \\;centro \\;de \\;distribución \\;k  \\;al \\;nodo \\;i$\n",
    "- $w_{k} = 1 \\;cuando \\;se \\;decide \\;utilizar \\;el \\;CD \\;k. \\;0 \\;de \\;otra \\;manera$."
   ],
   "metadata": {}
  },
  {
   "cell_type": "code",
   "execution_count": 22,
   "source": [
    "#Crear variables de desicion\n",
    "y=m.addVars(arcos1, name='y',vtype=GRB.CONTINUOUS)\n",
    "z=m.addVars(arcos2, name='z',vtype=GRB.CONTINUOUS)\n",
    "w=m.addVars(DC, name='w',vtype=GRB.BINARY)"
   ],
   "outputs": [],
   "metadata": {}
  },
  {
   "cell_type": "markdown",
   "source": [
    "## **Función Objetivo**\n",
    "\n",
    "$Min \\; Z= CostoFijoCD + TransporteChileCD + TransporteCDcliente + CostoManufactura + ManejoCD$"
   ],
   "metadata": {}
  },
  {
   "cell_type": "code",
   "execution_count": 23,
   "source": [
    "CostoFijoCD=quicksum(w[k]*FijoDC[k] for k in DC)\n",
    "TransChDC=quicksum(y[i,k]*cTransEuro[i] for i in fabrica2 for k in DC)\n",
    "TransCiudad=quicksum(dist[k,j]*z[k,j] for k in DC for j in ciudad)\n",
    "ManejoCD=quicksum(variableDC[k]*z[k,j] for k in DC for j in ciudad)\n",
    "cManufactura=quicksum(cVariable[i]*y[i,k] for i in fabrica2 for k in DC)\n",
    "Z=CostoFijoCD+TransChDC+TransCiudad+ManejoCD+cManufactura\n",
    "m.setObjective(Z,GRB.MINIMIZE)"
   ],
   "outputs": [],
   "metadata": {}
  },
  {
   "cell_type": "markdown",
   "source": [
    "## **Restricciones**"
   ],
   "metadata": {}
  },
  {
   "cell_type": "markdown",
   "source": [
    "### Capacidad"
   ],
   "metadata": {}
  },
  {
   "cell_type": "code",
   "execution_count": 24,
   "source": [
    "m.addConstrs(quicksum(y[i,k] for k in DC)<=CapFabrica[i] for i in fabrica2)"
   ],
   "outputs": [
    {
     "output_type": "execute_result",
     "data": {
      "text/plain": [
       "{'La Serena': <gurobi.Constr *Awaiting Model Update*>,\n",
       " 'Antofagasta': <gurobi.Constr *Awaiting Model Update*>}"
      ]
     },
     "metadata": {},
     "execution_count": 24
    }
   ],
   "metadata": {}
  },
  {
   "cell_type": "markdown",
   "source": [
    "## Demanda"
   ],
   "metadata": {}
  },
  {
   "cell_type": "code",
   "execution_count": 25,
   "source": [
    "m.addConstrs(quicksum(z[k,j] for k in DC)>=Demanda[j] for j in ciudad)"
   ],
   "outputs": [
    {
     "output_type": "execute_result",
     "data": {
      "text/plain": [
       "{'Madrid': <gurobi.Constr *Awaiting Model Update*>,\n",
       " 'Paris': <gurobi.Constr *Awaiting Model Update*>,\n",
       " 'Londres': <gurobi.Constr *Awaiting Model Update*>,\n",
       " 'Liverpool': <gurobi.Constr *Awaiting Model Update*>,\n",
       " 'Roma ': <gurobi.Constr *Awaiting Model Update*>,\n",
       " 'Milan': <gurobi.Constr *Awaiting Model Update*>,\n",
       " 'Zurich': <gurobi.Constr *Awaiting Model Update*>,\n",
       " 'Berlin': <gurobi.Constr *Awaiting Model Update*>,\n",
       " 'Bruselas': <gurobi.Constr *Awaiting Model Update*>,\n",
       " 'Amsterdam': <gurobi.Constr *Awaiting Model Update*>,\n",
       " 'Dublin': <gurobi.Constr *Awaiting Model Update*>,\n",
       " 'Praga': <gurobi.Constr *Awaiting Model Update*>,\n",
       " 'Bratislava': <gurobi.Constr *Awaiting Model Update*>,\n",
       " 'Budapest': <gurobi.Constr *Awaiting Model Update*>,\n",
       " 'Atenas': <gurobi.Constr *Awaiting Model Update*>,\n",
       " 'Varsovia': <gurobi.Constr *Awaiting Model Update*>}"
      ]
     },
     "metadata": {},
     "execution_count": 25
    }
   ],
   "metadata": {}
  },
  {
   "cell_type": "markdown",
   "source": [
    "## **Balance**"
   ],
   "metadata": {}
  },
  {
   "cell_type": "code",
   "execution_count": 26,
   "source": [
    "m.addConstrs(quicksum(z[k,j] for j in ciudad)==quicksum(y[i,k] for i in fabrica2) for k in DC)"
   ],
   "outputs": [
    {
     "output_type": "execute_result",
     "data": {
      "text/plain": [
       "{'Madrid': <gurobi.Constr *Awaiting Model Update*>,\n",
       " 'Paris': <gurobi.Constr *Awaiting Model Update*>,\n",
       " 'Liverpool': <gurobi.Constr *Awaiting Model Update*>,\n",
       " 'Milan': <gurobi.Constr *Awaiting Model Update*>,\n",
       " 'Berlin': <gurobi.Constr *Awaiting Model Update*>,\n",
       " 'Bruselas': <gurobi.Constr *Awaiting Model Update*>,\n",
       " 'Amsterdam': <gurobi.Constr *Awaiting Model Update*>,\n",
       " 'Budapest': <gurobi.Constr *Awaiting Model Update*>,\n",
       " 'Varsovia': <gurobi.Constr *Awaiting Model Update*>}"
      ]
     },
     "metadata": {},
     "execution_count": 26
    }
   ],
   "metadata": {}
  },
  {
   "cell_type": "markdown",
   "source": [
    "## **Capacidad CD**"
   ],
   "metadata": {}
  },
  {
   "cell_type": "code",
   "execution_count": 27,
   "source": [
    "m.addConstrs(quicksum(z[k,j] for j in ciudad)<=CapDC[k]*w[k] for k in DC)"
   ],
   "outputs": [
    {
     "output_type": "execute_result",
     "data": {
      "text/plain": [
       "{'Madrid': <gurobi.Constr *Awaiting Model Update*>,\n",
       " 'Paris': <gurobi.Constr *Awaiting Model Update*>,\n",
       " 'Liverpool': <gurobi.Constr *Awaiting Model Update*>,\n",
       " 'Milan': <gurobi.Constr *Awaiting Model Update*>,\n",
       " 'Berlin': <gurobi.Constr *Awaiting Model Update*>,\n",
       " 'Bruselas': <gurobi.Constr *Awaiting Model Update*>,\n",
       " 'Amsterdam': <gurobi.Constr *Awaiting Model Update*>,\n",
       " 'Budapest': <gurobi.Constr *Awaiting Model Update*>,\n",
       " 'Varsovia': <gurobi.Constr *Awaiting Model Update*>}"
      ]
     },
     "metadata": {},
     "execution_count": 27
    }
   ],
   "metadata": {}
  },
  {
   "cell_type": "markdown",
   "source": [
    "## **Distancia Promedio**"
   ],
   "metadata": {}
  },
  {
   "cell_type": "code",
   "execution_count": 28,
   "source": [
    "m.addConstr(quicksum(z[k,j]*dist[k,j] for k in DC for j in ciudad )/Demanda.sum()<=800)"
   ],
   "outputs": [
    {
     "output_type": "execute_result",
     "data": {
      "text/plain": [
       "<gurobi.Constr *Awaiting Model Update*>"
      ]
     },
     "metadata": {},
     "execution_count": 28
    }
   ],
   "metadata": {}
  },
  {
   "cell_type": "markdown",
   "source": [
    "## **Nivel de Servicio**"
   ],
   "metadata": {}
  },
  {
   "cell_type": "code",
   "execution_count": 29,
   "source": [
    "m.addConstr(quicksum(z[k,j]*a[k,j] for k in DC for j in ciudad)/Demanda.sum()>=0.5)"
   ],
   "outputs": [
    {
     "output_type": "execute_result",
     "data": {
      "text/plain": [
       "<gurobi.Constr *Awaiting Model Update*>"
      ]
     },
     "metadata": {},
     "execution_count": 29
    }
   ],
   "metadata": {}
  },
  {
   "cell_type": "code",
   "execution_count": 30,
   "source": [
    "m.optimize()"
   ],
   "outputs": [
    {
     "output_type": "stream",
     "name": "stdout",
     "text": [
      "Gurobi Optimizer version 9.1.2 build v9.1.2rc0 (win64)\n",
      "Thread count: 4 physical cores, 8 logical processors, using up to 8 threads\n",
      "Optimize a model with 38 rows, 171 columns and 683 nonzeros\n",
      "Model fingerprint: 0xa9dd971d\n",
      "Variable types: 162 continuous, 9 integer (9 binary)\n",
      "Coefficient statistics:\n",
      "  Matrix range     [3e-04, 8e+02]\n",
      "  Objective range  [3e+00, 6e+04]\n",
      "  Bounds range     [1e+00, 1e+00]\n",
      "  RHS range        [5e-01, 2e+03]\n",
      "Presolve time: 0.00s\n",
      "Presolved: 38 rows, 171 columns, 683 nonzeros\n",
      "Variable types: 162 continuous, 9 integer (9 binary)\n",
      "\n",
      "Root relaxation: objective 8.736751e+05, 41 iterations, 0.00 seconds\n",
      "\n",
      "    Nodes    |    Current Node    |     Objective Bounds      |     Work\n",
      " Expl Unexpl |  Obj  Depth IntInf | Incumbent    BestBd   Gap | It/Node Time\n",
      "\n",
      "     0     0 873675.097    0    8          - 873675.097      -     -    0s\n",
      "H    0     0                    1049364.5100 873675.097  16.7%     -    0s\n",
      "H    0     0                    1030939.9100 873675.097  15.3%     -    0s\n",
      "     0     0     cutoff    0      1030939.91 1030939.91  0.00%     -    0s\n",
      "\n",
      "Cutting planes:\n",
      "  MIR: 6\n",
      "  Flow cover: 4\n",
      "\n",
      "Explored 1 nodes (57 simplex iterations) in 0.08 seconds\n",
      "Thread count was 8 (of 8 available processors)\n",
      "\n",
      "Solution count 2: 1.03094e+06 1.04936e+06 \n",
      "\n",
      "Optimal solution found (tolerance 1.00e-04)\n",
      "Best objective 1.030939910000e+06, best bound 1.030939910000e+06, gap 0.0000%\n"
     ]
    }
   ],
   "metadata": {}
  },
  {
   "cell_type": "code",
   "execution_count": 31,
   "source": [
    "#Estado de la solución\n",
    "if m.status==2:\n",
    "    print(\"Función Objetivo: \",str(round(m.objVal,2)))\n",
    "    for v in m.getVars():\n",
    "        if v.x>0:\n",
    "            print(str(v.VarName)+\"=\"+str(round(v.x,2)))\n",
    "else:\n",
    "    print(\"Solución Infactible\")"
   ],
   "outputs": [
    {
     "output_type": "stream",
     "name": "stdout",
     "text": [
      "Función Objetivo:  1030939.91\n",
      "y[La Serena,Paris]=44.0\n",
      "y[La Serena,Liverpool]=473.0\n",
      "y[La Serena,Berlin]=331.0\n",
      "y[La Serena,Amsterdam]=483.0\n",
      "y[La Serena,Budapest]=494.0\n",
      "y[La Serena,Varsovia]=175.0\n",
      "y[Antofagasta,Madrid]=121.0\n",
      "y[Antofagasta,Paris]=478.0\n",
      "y[Antofagasta,Milan]=300.0\n",
      "z[Madrid,Madrid]=121.0\n",
      "z[Paris,Paris]=240.0\n",
      "z[Paris,Zurich]=282.0\n",
      "z[Liverpool,Londres]=250.0\n",
      "z[Liverpool,Liverpool]=121.0\n",
      "z[Liverpool,Dublin]=102.0\n",
      "z[Milan,Roma ]=102.0\n",
      "z[Milan,Milan]=198.0\n",
      "z[Berlin,Berlin]=211.0\n",
      "z[Berlin,Praga]=120.0\n",
      "z[Amsterdam,Bruselas]=224.0\n",
      "z[Amsterdam,Amsterdam]=259.0\n",
      "z[Budapest,Roma ]=57.0\n",
      "z[Budapest,Bratislava]=135.0\n",
      "z[Budapest,Budapest]=122.0\n",
      "z[Budapest,Atenas]=180.0\n",
      "z[Varsovia,Varsovia]=175.0\n",
      "w[Madrid]=1.0\n",
      "w[Paris]=1.0\n",
      "w[Liverpool]=1.0\n",
      "w[Milan]=1.0\n",
      "w[Berlin]=1.0\n",
      "w[Amsterdam]=1.0\n",
      "w[Budapest]=1.0\n",
      "w[Varsovia]=1.0\n"
     ]
    }
   ],
   "metadata": {}
  },
  {
   "cell_type": "code",
   "execution_count": 39,
   "source": [
    "for i in fabrica2:\n",
    "    print(\"La Fabrica \",i)\n",
    "    for k in DC:\n",
    "        if y[i,k].x>0:\n",
    "            print(\"    transporta\",y[i,k].x,\" productos al centro de distribución\",k)"
   ],
   "outputs": [
    {
     "output_type": "stream",
     "name": "stdout",
     "text": [
      "La Fabrica  La Serena\n",
      "    transporta 44.0  productos al centro de distribución Paris\n",
      "    transporta 473.0  productos al centro de distribución Liverpool\n",
      "    transporta 331.0  productos al centro de distribución Berlin\n",
      "    transporta 483.0  productos al centro de distribución Amsterdam\n",
      "    transporta 494.0  productos al centro de distribución Budapest\n",
      "    transporta 175.0  productos al centro de distribución Varsovia\n",
      "La Fabrica  Antofagasta\n",
      "    transporta 121.0  productos al centro de distribución Madrid\n",
      "    transporta 478.0  productos al centro de distribución Paris\n",
      "    transporta 300.0  productos al centro de distribución Milan\n"
     ]
    }
   ],
   "metadata": {}
  },
  {
   "cell_type": "code",
   "execution_count": 46,
   "source": [
    "dc_activos=[k for k in DC if w[k].x>0]\n",
    "for k in dc_activos:\n",
    "    print(\"El centro de Distribución \",k)\n",
    "    for j in ciudad:\n",
    "        if z[k,j].x>0:\n",
    "            print(\"    transporta\",z[k,j].x,\" productos a la ciudad\",j)"
   ],
   "outputs": [
    {
     "output_type": "stream",
     "name": "stdout",
     "text": [
      "El centro de Distribución  Madrid\n",
      "    transporta 121.0  productos a la ciudad Madrid\n",
      "El centro de Distribución  Paris\n",
      "    transporta 240.0  productos a la ciudad Paris\n",
      "    transporta 282.0  productos a la ciudad Zurich\n",
      "El centro de Distribución  Liverpool\n",
      "    transporta 250.0  productos a la ciudad Londres\n",
      "    transporta 121.0  productos a la ciudad Liverpool\n",
      "    transporta 102.0  productos a la ciudad Dublin\n",
      "El centro de Distribución  Milan\n",
      "    transporta 102.0  productos a la ciudad Roma \n",
      "    transporta 198.0  productos a la ciudad Milan\n",
      "El centro de Distribución  Berlin\n",
      "    transporta 211.0  productos a la ciudad Berlin\n",
      "    transporta 120.0  productos a la ciudad Praga\n",
      "El centro de Distribución  Amsterdam\n",
      "    transporta 224.0  productos a la ciudad Bruselas\n",
      "    transporta 259.0  productos a la ciudad Amsterdam\n",
      "El centro de Distribución  Budapest\n",
      "    transporta 57.0  productos a la ciudad Roma \n",
      "    transporta 135.0  productos a la ciudad Bratislava\n",
      "    transporta 122.0  productos a la ciudad Budapest\n",
      "    transporta 180.0  productos a la ciudad Atenas\n",
      "El centro de Distribución  Varsovia\n",
      "    transporta 175.0  productos a la ciudad Varsovia\n"
     ]
    }
   ],
   "metadata": {}
  },
  {
   "cell_type": "code",
   "execution_count": 47,
   "source": [
    "CostoFijoCD.getValue()"
   ],
   "outputs": [
    {
     "output_type": "execute_result",
     "data": {
      "text/plain": [
       "374583.0"
      ]
     },
     "metadata": {},
     "execution_count": 47
    }
   ],
   "metadata": {}
  },
  {
   "cell_type": "code",
   "execution_count": 33,
   "source": [
    "TransChDC.getValue()"
   ],
   "outputs": [
    {
     "output_type": "execute_result",
     "data": {
      "text/plain": [
       "5798.0"
      ]
     },
     "metadata": {},
     "execution_count": 33
    }
   ],
   "metadata": {}
  },
  {
   "cell_type": "code",
   "execution_count": 34,
   "source": [
    "TransCiudad.getValue()"
   ],
   "outputs": [
    {
     "output_type": "execute_result",
     "data": {
      "text/plain": [
       "637860.4099999999"
      ]
     },
     "metadata": {},
     "execution_count": 34
    }
   ],
   "metadata": {}
  },
  {
   "cell_type": "code",
   "execution_count": 35,
   "source": [
    "ManejoCD.getValue()"
   ],
   "outputs": [
    {
     "output_type": "execute_result",
     "data": {
      "text/plain": [
       "9350.0"
      ]
     },
     "metadata": {},
     "execution_count": 35
    }
   ],
   "metadata": {}
  },
  {
   "cell_type": "code",
   "execution_count": 36,
   "source": [
    "cManufactura.getValue()"
   ],
   "outputs": [
    {
     "output_type": "execute_result",
     "data": {
      "text/plain": [
       "3348.5"
      ]
     },
     "metadata": {},
     "execution_count": 36
    }
   ],
   "metadata": {}
  },
  {
   "cell_type": "code",
   "execution_count": 37,
   "source": [
    "Z.getValue()"
   ],
   "outputs": [
    {
     "output_type": "execute_result",
     "data": {
      "text/plain": [
       "1030939.91"
      ]
     },
     "metadata": {},
     "execution_count": 37
    }
   ],
   "metadata": {}
  },
  {
   "cell_type": "code",
   "execution_count": null,
   "source": [],
   "outputs": [],
   "metadata": {}
  }
 ],
 "metadata": {
  "kernelspec": {
   "display_name": "Python 3",
   "language": "python",
   "name": "python3"
  },
  "language_info": {
   "codemirror_mode": {
    "name": "ipython",
    "version": 3
   },
   "file_extension": ".py",
   "mimetype": "text/x-python",
   "name": "python",
   "nbconvert_exporter": "python",
   "pygments_lexer": "ipython3",
   "version": "3.6.5"
  }
 },
 "nbformat": 4,
 "nbformat_minor": 4
}